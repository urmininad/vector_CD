{
 "cells": [
  {
   "cell_type": "code",
   "execution_count": 1,
   "id": "f0f7a043-179b-4e0a-9f07-022929dade8c",
   "metadata": {
    "ExecuteTime": {
     "end_time": "2025-05-27T16:01:39.672765Z",
     "start_time": "2025-05-27T16:01:37.499266Z"
    }
   },
   "outputs": [],
   "source": [
    "import pandas as pd\n",
    "import sys, os\n",
    "import numpy as np\n",
    "import socket\n",
    "#from sklearn.linear_model import LinearRegression as LR\n",
    "import math\n",
    "import pickle\n",
    "\n",
    "import itertools\n",
    "\n",
    "from itertools import combinations,product\n",
    "from collections import defaultdict, OrderedDict, Counter\n",
    "import sys, os\n",
    "import matplotlib\n",
    "from matplotlib import pyplot as plt\n",
    "from numba import jit\n",
    "from scipy import stats, linalg\n",
    "\n",
    "from tigramite.pcmci import PCMCI\n",
    "from tigramite.pcmci_base import PCMCIbase\n",
    "from tigramite import plotting as tp\n",
    "from tigramite.toymodels import structural_causal_processes as toys\n",
    "from tigramite.independence_tests.oracle_conditional_independence import OracleCI\n",
    "from tigramite.independence_tests.parcorr import ParCorr\n",
    "#from tigramite.independence_tests.parcorr_mult import ParCorrMult\n",
    "from vector_CD.cond_ind_tests.parcorr_mult_regularized import ParCorrMult\n",
    "from tigramite.independence_tests.pairwise_CI import PairwiseMultCI\n",
    "from tigramite.independence_tests.cmiknn import CMIknn\n",
    "from tigramite.data_processing import DataFrame\n",
    "import tigramite.data_processing as pp\n",
    "\n",
    "from sklearn.linear_model import LinearRegression, Ridge, Lasso, RidgeCV, MultiTaskLassoCV, ElasticNetCV, LassoLarsIC, MultiTaskElasticNetCV\n",
    "from sklearn.cross_decomposition import PLSRegression\n",
    "from statsmodels.stats import multivariate "
   ]
  },
  {
   "cell_type": "markdown",
   "id": "d6c4a0be-784f-4902-9b20-813274c3bdce",
   "metadata": {
    "tags": []
   },
   "source": [
    "# Function Definitions"
   ]
  },
  {
   "cell_type": "markdown",
   "id": "24e388c5-04b3-4c97-8893-bc464e378445",
   "metadata": {
    "tags": []
   },
   "source": [
    "## Data Generation"
   ]
  },
  {
   "cell_type": "code",
   "execution_count": 13,
   "id": "21a70fd5-7f23-48f5-9131-fd35dbf169e5",
   "metadata": {},
   "outputs": [],
   "source": [
    "def mult_data_conf(samples, dimxy, dimz, coef, z_int=None, n_conf = 'high', random_state = None):\n",
    "    \n",
    "    if random_state is None:\n",
    "        seed = None\n",
    "        random_state = np.random.default_rng(seed=seed)\n",
    "    \n",
    "    data = random_state.standard_normal((samples, 2*dimxy + dimz))\n",
    "    confounder = random_state.standard_normal((samples, 1))\n",
    "    \n",
    "    if z_int: #z_int denotes how dense z is internally connected (None implies unconnected)\n",
    "        \n",
    "        if type(z_int) == str:\n",
    "        \n",
    "            if z_int == 'high': # z is fully connected \n",
    "                data[:,int(2*dimxy):] += confounder\n",
    "\n",
    "            elif z_int == 'low': # num_int components of z are connected\n",
    "                num_int = int(dimz/3)    \n",
    "                data[:,int(2*dimxy):int(2*dimxy)+num_int] += confounder\n",
    "            \n",
    "        elif type(z_int) == int: # z_int components of z are connected\n",
    "            data[:,int(2*dimxy):int(2*dimxy)+z_int] += confounder\n",
    "        \n",
    "    if n_conf == 'high':\n",
    "        n_conf = dimz  # all components of z act as confounders\n",
    "    elif n_conf == 'low':\n",
    "        if dimz>2:\n",
    "            n_conf = int(dimz/3) # n_conf components of z act as confounders\n",
    "        elif dimz>0:\n",
    "            n_conf = 1\n",
    "        else:\n",
    "            raise ValueError('dim_z should be greater than zero to generate confounder data')\n",
    "    else:\n",
    "        raise ValueError('n_conf should be in [\"high\", \"low\"]')\n",
    "    \n",
    "    data[:,0:dimxy] += data[:,int(2*dimxy):int(2*dimxy+n_conf)].mean(axis=1).reshape(samples, 1) # Z causes X\n",
    "    data[:,dimxy:int(2*dimxy)] += data[:,int(2*dimxy):int(2*dimxy)+n_conf].mean(axis=1).reshape(samples, 1) # Z causes Y\n",
    "    data[:,dimxy:int(2*dimxy)] += coef*data[:,0:dimxy] # X causes Y\n",
    "    \n",
    "    return data"
   ]
  },
  {
   "cell_type": "code",
   "execution_count": 3,
   "id": "772c5d49-83e0-4cef-aca8-68837d501037",
   "metadata": {
    "tags": []
   },
   "outputs": [],
   "source": [
    "## Example\n",
    "# dimxy = 1\n",
    "# dimz = 1\n",
    "# samples = 100\n",
    "# coef = 0.2\n",
    "# z_int = None\n",
    "# n_conf = 'high'\n",
    "# data = mult_data_conf(samples, dimxy, dimz, coef , z_int, n_conf)\n",
    "# data.shape"
   ]
  },
  {
   "cell_type": "markdown",
   "id": "87f66c54-e581-4057-88d6-834a2f7a7cef",
   "metadata": {
    "tags": []
   },
   "source": [
    "### Functions for Box-M test"
   ]
  },
  {
   "cell_type": "code",
   "execution_count": 4,
   "id": "eccad5b1-afa7-4bb6-87b3-df95068a7218",
   "metadata": {},
   "outputs": [],
   "source": [
    "def lin_reg(Z,Y):\n",
    "    model = LinearRegression().fit(Z,Y)\n",
    "    pred = model.predict(Z)\n",
    "    resid = Y-pred\n",
    "    return resid\n",
    "\n",
    "def boxm(X,Y,Z,samples):\n",
    "    ZX = np.hstack((X, Z))\n",
    "    resid_1 = lin_reg(Z,Y)\n",
    "    resid_2 = lin_reg(ZX,Y)\n",
    "    cov_1 = np.cov(resid_1)\n",
    "    cov_2 = np.cov(resid_2)\n",
    "    \n",
    "    cov_list = list([cov_1,cov_2])\n",
    "    nob_list= list([samples,samples])\n",
    "    boxm = multivariate.test_cov_oneway(cov_list, nob_list)\n",
    "    \n",
    "    return boxm.pvalue"
   ]
  },
  {
   "cell_type": "markdown",
   "id": "2d3ff8c3-d8e3-4e9f-8b66-cb97649315de",
   "metadata": {
    "tags": []
   },
   "source": [
    "## Rate Computation"
   ]
  },
  {
   "cell_type": "code",
   "execution_count": 40,
   "id": "570b7c4a-9323-4002-afb0-f7b3650d532e",
   "metadata": {},
   "outputs": [],
   "source": [
    "def error_rate(error, cmi, realizations, samples, dimxy, dimz, z_int=None, n_conf = None, alpha=0.05):\n",
    "    \n",
    "    if error == \"type1\":\n",
    "        coef = 0.0\n",
    "    else:\n",
    "        coef = 0.2 #0.06\n",
    "        \n",
    "    pvals = np.zeros(realizations)\n",
    "    rate = np.zeros(realizations)\n",
    "    seed = None\n",
    "    random_state = np.random.default_rng(seed=seed)\n",
    "    \n",
    "    for i in range(realizations):\n",
    "        \n",
    "        data = mult_data_conf(samples, dimxy, dimz, coef , z_int, n_conf, random_state)\n",
    "        \n",
    "        \n",
    "        dataframe = DataFrame(data, \n",
    "            vector_vars={0:[(i,0) for i in range(dimxy)], \n",
    "                         1:[(j,0) for j in range(dimxy, 2*dimxy)], \n",
    "                         2:[(k, 0) for k in range(2*dimxy, 2*dimxy+dimz)]}\n",
    "                              )\n",
    "\n",
    "        cmi.set_dataframe(dataframe)\n",
    "\n",
    "        pvals[i] = cmi.run_test(\n",
    "                X=[(0,0)], \n",
    "                Y=[(1,0)], \n",
    "                Z = [(2, 0)]\n",
    "                )[1]\n",
    "        \n",
    "        rate[i] = pvals[i] <= alpha\n",
    "        \n",
    "    ## Bootstrap-based error\n",
    "    boot_samples = 1000\n",
    "    boots = np.zeros((boot_samples))\n",
    "    for b in range(boot_samples):\n",
    "        rand = np.random.randint(0, realizations, realizations)\n",
    "        boots[b] = (pvals[rand] <= alpha).mean()\n",
    "    rate_error = boots.std()\n",
    "\n",
    "    print(rate.mean(),rate_error)\n",
    "    return rate.mean(), rate_error\n"
   ]
  },
  {
   "cell_type": "code",
   "execution_count": 41,
   "id": "ecace94d-3e7e-4b98-9015-c31a126115ac",
   "metadata": {},
   "outputs": [],
   "source": [
    "def metrics_rate_full(sample_range,corr_type_range,reg_range,error, dimxy, dimz, z_int=None, n_conf = None):\n",
    "\n",
    "    metrics_nconf =  {y:{x: dict() for x in corr_type_range} for y in reg_range}\n",
    "    \n",
    "    for samples in sample_range:\n",
    "        for corr_type in corr_type_range:\n",
    "            \n",
    "            if corr_type == 'boxm':\n",
    "                print(samples,'ols',corr_type)\n",
    "                if error == \"type1\":\n",
    "                    coef = 0.0\n",
    "                else:\n",
    "                    coef = 0.2\n",
    "                rate_boxm = np.zeros(realizations)\n",
    "                pvals_boxm = np.zeros(realizations)\n",
    "                alpha_box = 0.05\n",
    "                for r in range(realizations):\n",
    "                    seed = None\n",
    "                    random_state = np.random.default_rng(seed=seed)\n",
    "                    data = mult_data_conf(samples, dimxy, dimz, coef , z_int, n_conf, random_state)\n",
    "                    X = data[:,0:dimxy]#.reshape(samples,1)\n",
    "                    Y = data[:,dimxy:int(2*dimxy)]#.reshape(samples,1)\n",
    "                    Z = data[:,int(2*dimxy):]\n",
    "                    pvals_boxm[r] = boxm(X,Y,Z,samples)\n",
    "                    rate_boxm[r] = pvals_boxm[r] <= alpha_box\n",
    "                    boot_samples = 1000\n",
    "                    boots = np.zeros((boot_samples))\n",
    "                    for b in range(boot_samples):\n",
    "                        rand = np.random.randint(0, realizations, realizations)\n",
    "                        boots[b] = (pvals_boxm[rand] <= alpha_box).mean()\n",
    "                    rate_error = boots.std()\n",
    "                    \n",
    "                metrics_nconf['ols'][corr_type][samples] = (rate_boxm.mean(), rate_error)\n",
    "                \n",
    "                print(rate_boxm.mean(), rate_error)\n",
    "                print('-----------------------')\n",
    "                \n",
    "            else:           \n",
    "            \n",
    "                for regr in reg_range:\n",
    "\n",
    "                    if regr == 'ols':\n",
    "                        reg = LinearRegression()\n",
    "                    elif regr == 'ridge':\n",
    "                        reg = RidgeCV()\n",
    "                    elif regr == 'pls':\n",
    "                        reg = PLSRegression(n_components=2)\n",
    "                    else:\n",
    "                        raise ValueError(\"Unknown regression type\")\n",
    "\n",
    "                    if 'max_corr' in corr_type:\n",
    "                        if 'shuffle' in corr_type:\n",
    "                            cmi = ParCorrMult(\n",
    "                                    correlation_type = 'max_corr',\n",
    "                                    regularization_model = reg,\n",
    "                                    significance = 'shuffle_test',\n",
    "                                    sig_blocklength=1,\n",
    "                                    sig_samples=200)\n",
    "                        else:\n",
    "                            cmi = ParCorrMult(\n",
    "                                    correlation_type = 'max_corr',\n",
    "                                    regularization_model = reg)\n",
    "\n",
    "                    elif 'gcm' in corr_type:\n",
    "                        if 'shuffle' in corr_type:\n",
    "                            cmi = ParCorrMult(\n",
    "                                    correlation_type = 'gcm',\n",
    "                                    regularization_model = reg,\n",
    "                                    significance = 'shuffle_test',\n",
    "                                    sig_blocklength=1,\n",
    "                                    sig_samples=200)\n",
    "                        elif 'gmb' in corr_type:\n",
    "                            cmi = ParCorrMult(\n",
    "                                    correlation_type = 'gcm_gmb',\n",
    "                                    regularization_model = reg,\n",
    "                                    significance = 'shuffle_test',\n",
    "                                    sig_blocklength=1,\n",
    "                                    sig_samples=200)\n",
    "                        else:\n",
    "                            cmi = ParCorrMult(\n",
    "                                    correlation_type = 'gcm',\n",
    "                                    regularization_model = reg)\n",
    "\n",
    "\n",
    "                    elif 'linear_hsic' in corr_type:\n",
    "                        if 'approx' in corr_type:\n",
    "                            cmi = ParCorrMult(\n",
    "                                    correlation_type = 'linear_hsic_approx',\n",
    "                                    regularization_model = reg,\n",
    "                                    significance = 'shuffle_test',\n",
    "                                    sig_blocklength=1,\n",
    "                                    sig_samples=1000)\n",
    "                        elif 'kci' in corr_type:\n",
    "                            cmi = ParCorrMult(\n",
    "                                    correlation_type = 'linear_hsic_shuffle_kci',\n",
    "                                    regularization_model = reg,\n",
    "                                    significance = 'shuffle_test',\n",
    "                                    sig_blocklength=1,\n",
    "                                    sig_samples=1000)\n",
    "                        else:\n",
    "                            cmi = ParCorrMult(\n",
    "                                    correlation_type = 'linear_hsic_shuffle',\n",
    "                                    regularization_model = reg,\n",
    "                                    significance = 'shuffle_test',\n",
    "                                    sig_blocklength=1,\n",
    "                                    sig_samples=200)\n",
    "\n",
    "                    print(samples,reg,corr_type)\n",
    "                    metrics_nconf[regr][corr_type][samples] = error_rate(error, cmi, realizations, samples, dimxy, dimz, z_int, n_conf)\n",
    "                    print('-----------------------')\n",
    "\n",
    "    return metrics_nconf\n"
   ]
  },
  {
   "cell_type": "markdown",
   "id": "dd2f57ca-685b-4d19-b284-676f87e899e4",
   "metadata": {
    "tags": []
   },
   "source": [
    "## Example"
   ]
  },
  {
   "cell_type": "markdown",
   "id": "1fdce2e1-39bc-495b-80f8-50e8ec0f74ae",
   "metadata": {
    "tags": []
   },
   "source": [
    "### Error Rate"
   ]
  },
  {
   "cell_type": "code",
   "execution_count": 31,
   "id": "1aef62d9-a825-4a03-937b-21ddce0af897",
   "metadata": {},
   "outputs": [],
   "source": [
    "dimxy = 20\n",
    "dimz = 20\n",
    "samples = 500\n",
    "realizations = 100#500\n",
    "n_conf = 'low'\n",
    "z_int = 'high'\n",
    "\n",
    "cmi = ParCorrMult(\n",
    "        correlation_type = 'linear_hsic_shuffle_kci',\n",
    "        regularization_model = LinearRegression(),            # 0.66\n",
    "        # regularization_model = RidgeCV(),                      # 0.68\n",
    "        #regularization_model = MultiTaskLassoCV(),             # 0.722\n",
    "        #regularization_model = MultiTaskElasticNetCV(),        # 0.77\n",
    "        # regularization_model = PLSRegression(n_components=1), # 0.95  0.69  0.78  0.64 0.68\n",
    "        significance = 'shuffle_test',\n",
    "        sig_blocklength=1,\n",
    "        sig_samples=1000,\n",
    "        # verbosity=5,\n",
    "    )"
   ]
  },
  {
   "cell_type": "code",
   "execution_count": 32,
   "id": "c5f50e47-aee3-4b6c-a91b-9b4346a91c85",
   "metadata": {},
   "outputs": [
    {
     "name": "stdout",
     "output_type": "stream",
     "text": [
      "0.52 0.05102734560997662\n"
     ]
    },
    {
     "data": {
      "text/plain": [
       "(0.52, 0.05102734560997662)"
      ]
     },
     "execution_count": 32,
     "metadata": {},
     "output_type": "execute_result"
    }
   ],
   "source": [
    "error = 'power'#'type2'\n",
    "error_rate(error, cmi, realizations, samples, dimxy, dimz, z_int, n_conf)"
   ]
  },
  {
   "cell_type": "code",
   "execution_count": 33,
   "id": "d879352c-a20e-4f8c-937e-3e5d1ea081a8",
   "metadata": {},
   "outputs": [
    {
     "name": "stdout",
     "output_type": "stream",
     "text": [
      "0.13 0.03370659282692334\n"
     ]
    },
    {
     "data": {
      "text/plain": [
       "(0.13, 0.03370659282692334)"
      ]
     },
     "execution_count": 33,
     "metadata": {},
     "output_type": "execute_result"
    }
   ],
   "source": [
    "error = 'type1'\n",
    "error_rate(error, cmi, realizations, samples, dimxy, dimz, z_int, n_conf)"
   ]
  },
  {
   "cell_type": "markdown",
   "id": "e8330370-b407-4955-93f3-8ba62462c9aa",
   "metadata": {
    "tags": []
   },
   "source": [
    "### Metrics for a range of parameters"
   ]
  },
  {
   "cell_type": "code",
   "execution_count": 20,
   "id": "f4dd8088-2979-4d7e-a270-3adb454f27b3",
   "metadata": {},
   "outputs": [],
   "source": [
    "dimxy = 1\n",
    "dimz = 1\n",
    "realizations = 500\n",
    "sample_range = [100]#, 200, 500]\n",
    "corr_type_range = ['max_corr']#,'gcm','gcm_gmb','linear_hsic_shuffle_kci']#'linear_hsic_approx' ,'boxm']\n",
    "reg_range = ['ols']#,'ridge','pls']\n",
    "z_int = 'high'\n",
    "n_conf = 'low'\n",
    "\n",
    "error = 'type1'"
   ]
  },
  {
   "cell_type": "code",
   "execution_count": 85,
   "id": "e0cf1866-4c20-4a0d-907d-b01774c9bd2a",
   "metadata": {},
   "outputs": [
    {
     "name": "stdout",
     "output_type": "stream",
     "text": [
      "100 LinearRegression() max_corr\n",
      "0.052 0.010217000538318475\n",
      "-----------------------\n"
     ]
    },
    {
     "data": {
      "text/plain": [
       "{'ols': {'max_corr': {100: (0.052, 0.010217000538318475)}}}"
      ]
     },
     "execution_count": 85,
     "metadata": {},
     "output_type": "execute_result"
    }
   ],
   "source": [
    "metrics_rate_full(sample_range,corr_type_range,reg_range,error, dimxy, dimz, z_int, n_conf)"
   ]
  },
  {
   "cell_type": "markdown",
   "id": "744971a1-fbc9-4985-a45b-0371165e5b9f",
   "metadata": {
    "tags": []
   },
   "source": [
    "## Dump and retrieve metrics"
   ]
  },
  {
   "cell_type": "code",
   "execution_count": 22,
   "id": "24fd5a44-61ce-420a-b2c2-e13be2ea9f0c",
   "metadata": {},
   "outputs": [],
   "source": [
    "folder_name = os.path.expanduser('~') + '/Documents/Python/Mult_CI_Tests/metrics/only_ols_final/'\n",
    "\n",
    "def dump_metrics(conf, results_dict):\n",
    "    # file_name = os.path.expanduser('~') + '/Documents/Python/Mult_CI_Tests/metrics/only_ols/%s' %(conf)\n",
    "    file_name = folder_name+conf\n",
    "    print(\"Metrics dump \", file_name.replace(\"'\", \"\").replace('\"', '') + '_metrics.dat')\n",
    "    file = open(file_name.replace(\"'\", \"\").replace('\"', '') + '_metrics.dat', 'wb')\n",
    "    #pickle.dump(metrics, file, protocol=-1)        \n",
    "    pickle.dump(results_dict, file, protocol=-1)        \n",
    "    file.close()\n",
    "    \n",
    "\n",
    "def get_metrics_from_file(para_setup):\n",
    "\n",
    "    name_string = '%s-'*len(para_setup)  # % para_setup\n",
    "    #print(name_string)\n",
    "    name_string = name_string[:-1]\n",
    "    #print(name_string% (para_setup))\n",
    "\n",
    "    try:\n",
    "        print(\"load from metrics file  %s_metrics.dat \" % (folder_name + name_string % (para_setup)))\n",
    "        results = pickle.load(open(folder_name + name_string % (para_setup) + '_metrics.dat', 'rb'), encoding='latin1')\n",
    "    except:\n",
    "        print('***---*** failed from metrics file '  , (para_setup))\n",
    "        return None\n",
    "\n",
    "    return results\n",
    "\n",
    "def get_results_from_para(para_setup):\n",
    "    para_setup_str = tuple(para_setup.split(\"-\"))\n",
    "    results = get_metrics_from_file(para_setup_str)\n",
    "    return results    "
   ]
  },
  {
   "cell_type": "markdown",
   "id": "cc3c94fd-e151-4cc8-ac9a-b84b4b389ddc",
   "metadata": {
    "tags": []
   },
   "source": [
    "## Plotting function"
   ]
  },
  {
   "cell_type": "code",
   "execution_count": 117,
   "id": "d8f8b9a4-4305-45b0-a978-fa6163a40cbe",
   "metadata": {},
   "outputs": [],
   "source": [
    "def color_picker(corr_type):\n",
    "    if 'max_corr' in corr_type:\n",
    "        return 'red'\n",
    "    elif 'gcm' in corr_type:\n",
    "            return'royalblue'\n",
    "    elif 'hsic' in corr_type:\n",
    "        return 'mediumseagreen'#'darkslategray'#'darkorange' \n",
    "        # elif 'dep' in score_type:\n",
    "        #     return 'darkred'\n",
    "\n",
    "# FOR One regression type and different z_int and n_conf\n",
    "\n",
    "def gen_plots_zint_nconf(para_setup_list, save  = 'no'):\n",
    "        \n",
    "    fig, (axs) = plt.subplots(2, 3, figsize=(12,  6))#, layout=\"constrained\")\n",
    "    axs = axs.ravel()\n",
    "\n",
    "    for i,para_setup in enumerate(para_setup_list):\n",
    "                \n",
    "        para_setup_string = para_setup\n",
    "        paras = para_setup_string.split('-') #para_setup_string[0].split('-')\n",
    "        paras = [w.replace(\"'\",\"\") for w in paras]\n",
    "\n",
    "        dimxy = int(paras[0])\n",
    "        dimz = int(paras[1])\n",
    "        err_type = str(paras[2])\n",
    "        z_int = str(paras[3])\n",
    "        n_conf = str(paras[4])  \n",
    "        \n",
    "        results = get_results_from_para(para_setup)\n",
    "        \n",
    "\n",
    "        for reg_type in results.keys():\n",
    "            \n",
    "            fig.suptitle((dimxy,dimz, reg_type))       \n",
    "            axs[i].title.set_text(para_setup)\n",
    "            \n",
    "            for corr_type in results[reg_type].keys():\n",
    "                if corr_type!='boxm':\n",
    "                                \n",
    "                    x = list(results[reg_type][corr_type].keys())\n",
    "                    sample_range_ticks = [str(m) for m in x]\n",
    "                    y_tot = np.array([results[reg_type][corr_type][sample_size] for sample_size in x])\n",
    "                    y = y_tot[:,0]\n",
    "                    std_error = y_tot[:,1]            \n",
    "                    x = np.arange(0,len(x),1)\n",
    "\n",
    "\n",
    "                    axs[i].errorbar(x, y, yerr=std_error, label = corr_type, marker = 'o',color = color_picker(corr_type))\n",
    "                    axs[i].set_xlabel('sample size')\n",
    "                    if err_type == 'type1':\n",
    "                        axs[i].set_ylabel(err_type+' error')\n",
    "                    else:\n",
    "                        axs[i].set_ylabel('power')\n",
    "                    axs[i].tick_params(axis='y')\n",
    "                    axs[i].grid(True)\n",
    "                    axs[i].set_title(('z_int='+z_int,'n_conf='+n_conf))\n",
    "\n",
    "                    if err_type == 'type1':\n",
    "                        axs[i].set_ylim(-0.01, 1.0)\n",
    "                        axs[i].axhline(y=0.05, color='black', linestyle='dotted')\n",
    "                    else:\n",
    "                        axs[i].set_ylim(-0.05, 1.15)\n",
    "                    \n",
    "\n",
    "                    axs[i].xaxis.set_ticks(list(x) )\n",
    "                    axs[i].xaxis.set_ticklabels(sample_range_ticks)\n",
    "\n",
    "                \n",
    "    plt.legend(bbox_to_anchor=(1.05, 1), loc='upper left', borderaxespad=0.)\n",
    "    fig.tight_layout()\n",
    "    \n",
    "    # new_name = str(dimxy)+'-'+str(dimz)+'-ols'\n",
    "    # print(para_setup, '\\n-------\\n',new_name)\n",
    "    # print(type(para_setup))\n",
    "    # print(type(new_name))\n",
    "\n",
    "    if save == 'yes':\n",
    "        save_suffix = str(dimxy)+'-'+str(dimz)+'-'+err_type+'-ols-0.06' #para_setup\n",
    "        save_type = 'pdf'\n",
    "        save_folder = os.path.expanduser('~') + '/Documents/Python/Mult_CI_Tests/local_figures/only_ols_final/'\n",
    "        fig.savefig(save_folder + '%s.%s' %(save_suffix, save_type))"
   ]
  },
  {
   "cell_type": "markdown",
   "id": "eb66a93a-e794-4ba0-a7c7-9253d376beba",
   "metadata": {
    "tags": []
   },
   "source": [
    "# New Experiments (only OLS)"
   ]
  },
  {
   "cell_type": "markdown",
   "id": "a5f00aee-71f6-4665-b8e9-a6ad1069fa4f",
   "metadata": {
    "tags": []
   },
   "source": [
    "## Example"
   ]
  },
  {
   "cell_type": "code",
   "execution_count": 35,
   "id": "60e2e596-62b5-4331-92b4-9da16ddf89e1",
   "metadata": {
    "jupyter": {
     "source_hidden": true
    },
    "tags": []
   },
   "outputs": [],
   "source": [
    "dimxy = 1\n",
    "dimz = 20\n",
    "realizations = 100 #500\n",
    "sample_range = [100]#, 200, 500]\n",
    "corr_type_range = ['max_corr','gcm','linear_hsic_shuffle_kci']#'linear_hsic_approx','gcm_gmb' ,'boxm']\n",
    "reg_range = ['ols']#,'ridge','pls']\n",
    "z_int = 'high'\n",
    "n_conf = 'high'\n",
    "error = 'type1'\n",
    "\n",
    "para_setup = (dimxy,dimz,error,z_int,n_conf)\n",
    "conf = '%s-'*len(para_setup) % para_setup\n",
    "conf = conf[:-1]"
   ]
  },
  {
   "cell_type": "code",
   "execution_count": 36,
   "id": "11724d2e-9600-4b25-aebd-4b392c017258",
   "metadata": {
    "collapsed": true,
    "jupyter": {
     "outputs_hidden": true,
     "source_hidden": true
    },
    "tags": []
   },
   "outputs": [
    {
     "name": "stdout",
     "output_type": "stream",
     "text": [
      "100 LinearRegression() max_corr\n",
      "0.02 0.01474730822896165\n",
      "-----------------------\n",
      "100 LinearRegression() gcm\n",
      "0.1 0.02858845746101038\n",
      "-----------------------\n",
      "100 LinearRegression() linear_hsic_shuffle_kci\n",
      "0.11 0.030098702629847686\n",
      "-----------------------\n",
      "Metrics dump  /Users/urmininad/Documents/Python/Mult_CI_Tests/metrics/only_ols_final/1-20-type1-high-high_metrics.dat\n"
     ]
    }
   ],
   "source": [
    "metrics_1_20_high_high_type1 = metrics_rate_full(sample_range,corr_type_range,reg_range,error, dimxy, dimz, z_int, n_conf)\n",
    "results_dict = metrics_1_20_high_high_type1\n",
    "dump_metrics(conf,results_dict)"
   ]
  },
  {
   "cell_type": "code",
   "execution_count": 38,
   "id": "e3205fb3-bbdc-49bb-a38c-f750cddd894d",
   "metadata": {
    "collapsed": true,
    "jupyter": {
     "outputs_hidden": true,
     "source_hidden": true
    },
    "tags": []
   },
   "outputs": [
    {
     "name": "stdout",
     "output_type": "stream",
     "text": [
      "load from metrics file  /Users/urmininad/Documents/Python/Mult_CI_Tests/metrics/only_ols_final/1-20-type1-high-high_metrics.dat \n",
      "Metric dump happened correctly\n"
     ]
    }
   ],
   "source": [
    "para_setup = tuple(conf.split(\"-\"))\n",
    "results = get_metrics_from_file(para_setup)\n",
    "if results == results_dict:\n",
    "    print('Metric dump happened correctly')\n",
    "else:\n",
    "    print('CHECK!')"
   ]
  },
  {
   "cell_type": "markdown",
   "id": "71ed26fe-0d8f-47fa-a78a-3927afa2cce8",
   "metadata": {
    "tags": []
   },
   "source": [
    "## Experiments"
   ]
  },
  {
   "cell_type": "code",
   "execution_count": 83,
   "id": "117f12e7-0650-4cf4-ad83-75c08650b44f",
   "metadata": {
    "collapsed": true,
    "jupyter": {
     "outputs_hidden": true
    },
    "tags": []
   },
   "outputs": [
    {
     "name": "stdout",
     "output_type": "stream",
     "text": [
      "====================\n",
      " 5-20-type1-None-low \n",
      "====================\n",
      "100 LinearRegression() max_corr\n",
      "0.032 0.0077788626418005356\n",
      "-----------------------\n",
      "100 LinearRegression() gcm_gmb\n",
      "0.088 0.012380740527125187\n",
      "-----------------------\n",
      "100 LinearRegression() linear_hsic_shuffle_kci\n",
      "0.224 0.017966640643147513\n",
      "-----------------------\n",
      "200 LinearRegression() max_corr\n",
      "0.05 0.009949285602494282\n",
      "-----------------------\n",
      "200 LinearRegression() gcm_gmb\n",
      "0.074 0.01147483768948389\n",
      "-----------------------\n",
      "200 LinearRegression() linear_hsic_shuffle_kci\n",
      "0.098 0.013002500682561029\n",
      "-----------------------\n",
      "300 LinearRegression() max_corr\n",
      "0.066 0.011284296344921115\n",
      "-----------------------\n",
      "300 LinearRegression() gcm_gmb\n",
      "0.066 0.011458708478707362\n",
      "-----------------------\n",
      "300 LinearRegression() linear_hsic_shuffle_kci\n",
      "0.06 0.010444538477118077\n",
      "-----------------------\n",
      "500 LinearRegression() max_corr\n",
      "0.048 0.009295331946735414\n",
      "-----------------------\n",
      "500 LinearRegression() gcm_gmb\n",
      "0.06 0.010445325078713444\n",
      "-----------------------\n",
      "500 LinearRegression() linear_hsic_shuffle_kci\n",
      "0.06 0.010714986887532809\n",
      "-----------------------\n",
      "Metrics dump  /Users/urmininad/Documents/Python/Mult_CI_Tests/metrics/only_ols_final/5-20-type1-None-low_metrics.dat\n",
      "====================\n",
      " 5-20-type2-None-low \n",
      "====================\n",
      "100 LinearRegression() max_corr\n",
      "0.276 0.02013536550450475\n",
      "-----------------------\n",
      "100 LinearRegression() gcm_gmb\n",
      "0.758 0.018285369452105706\n",
      "-----------------------\n",
      "100 LinearRegression() linear_hsic_shuffle_kci\n",
      "0.82 0.01745493809785641\n",
      "-----------------------\n",
      "200 LinearRegression() max_corr\n",
      "0.842 0.016424439229392282\n",
      "-----------------------\n",
      "200 LinearRegression() gcm_gmb\n",
      "0.984 0.00567176727308165\n",
      "-----------------------\n",
      "200 LinearRegression() linear_hsic_shuffle_kci\n",
      "0.99 0.0045430874964059445\n",
      "-----------------------\n",
      "300 LinearRegression() max_corr\n",
      "0.99 0.004287341367327779\n",
      "-----------------------\n",
      "300 LinearRegression() gcm_gmb\n",
      "1.0 0.0\n",
      "-----------------------\n",
      "300 LinearRegression() linear_hsic_shuffle_kci\n",
      "1.0 0.0\n",
      "-----------------------\n",
      "500 LinearRegression() max_corr\n",
      "1.0 0.0\n",
      "-----------------------\n",
      "500 LinearRegression() gcm_gmb\n",
      "1.0 0.0\n",
      "-----------------------\n",
      "500 LinearRegression() linear_hsic_shuffle_kci\n",
      "1.0 0.0\n",
      "-----------------------\n",
      "Metrics dump  /Users/urmininad/Documents/Python/Mult_CI_Tests/metrics/only_ols_final/5-20-type2-None-low_metrics.dat\n",
      "====================\n",
      " 5-20-type1-None-high \n",
      "====================\n",
      "100 LinearRegression() max_corr\n",
      "0.028 0.007085003599152226\n",
      "-----------------------\n",
      "100 LinearRegression() gcm_gmb\n",
      "0.096 0.013221090877836066\n",
      "-----------------------\n",
      "100 LinearRegression() linear_hsic_shuffle_kci\n",
      "0.196 0.01731458102294133\n",
      "-----------------------\n",
      "200 LinearRegression() max_corr\n",
      "0.064 0.010941133396499651\n",
      "-----------------------\n",
      "200 LinearRegression() gcm_gmb\n",
      "0.06 0.010565513522777775\n",
      "-----------------------\n",
      "200 LinearRegression() linear_hsic_shuffle_kci\n",
      "0.086 0.012344108878327344\n",
      "-----------------------\n",
      "300 LinearRegression() max_corr\n",
      "0.032 0.00761859803375923\n",
      "-----------------------\n",
      "300 LinearRegression() gcm_gmb\n",
      "0.084 0.012530486183704125\n",
      "-----------------------\n",
      "300 LinearRegression() linear_hsic_shuffle_kci\n",
      "0.088 0.012697388077868613\n",
      "-----------------------\n",
      "500 LinearRegression() max_corr\n",
      "0.052 0.009947011410468977\n",
      "-----------------------\n",
      "500 LinearRegression() gcm_gmb\n",
      "0.068 0.011318047711509259\n",
      "-----------------------\n",
      "500 LinearRegression() linear_hsic_shuffle_kci\n",
      "0.072 0.011950692699588587\n",
      "-----------------------\n",
      "Metrics dump  /Users/urmininad/Documents/Python/Mult_CI_Tests/metrics/only_ols_final/5-20-type1-None-high_metrics.dat\n",
      "====================\n",
      " 5-20-type2-None-high \n",
      "====================\n",
      "100 LinearRegression() max_corr\n",
      "0.3 0.01983469596439532\n",
      "-----------------------\n",
      "100 LinearRegression() gcm_gmb\n",
      "0.794 0.017781626022386133\n",
      "-----------------------\n",
      "100 LinearRegression() linear_hsic_shuffle_kci\n",
      "0.834 0.01662941201606358\n",
      "-----------------------\n",
      "200 LinearRegression() max_corr\n",
      "0.81 0.017583654227719535\n",
      "-----------------------\n",
      "200 LinearRegression() gcm_gmb\n",
      "0.976 0.0067268295652558405\n",
      "-----------------------\n",
      "200 LinearRegression() linear_hsic_shuffle_kci\n",
      "0.978 0.006597870868696967\n",
      "-----------------------\n",
      "300 LinearRegression() max_corr\n",
      "0.984 0.005520334772457197\n",
      "-----------------------\n",
      "300 LinearRegression() gcm_gmb\n",
      "1.0 0.0\n",
      "-----------------------\n",
      "300 LinearRegression() linear_hsic_shuffle_kci\n",
      "0.998 0.002008954952207741\n",
      "-----------------------\n",
      "500 LinearRegression() max_corr\n",
      "1.0 0.0\n",
      "-----------------------\n",
      "500 LinearRegression() gcm_gmb\n",
      "1.0 0.0\n",
      "-----------------------\n",
      "500 LinearRegression() linear_hsic_shuffle_kci\n",
      "1.0 0.0\n",
      "-----------------------\n",
      "Metrics dump  /Users/urmininad/Documents/Python/Mult_CI_Tests/metrics/only_ols_final/5-20-type2-None-high_metrics.dat\n",
      "====================\n",
      " 5-20-type1-low-low \n",
      "====================\n",
      "100 LinearRegression() max_corr\n",
      "0.034 0.008109685813889463\n",
      "-----------------------\n",
      "100 LinearRegression() gcm_gmb\n",
      "0.122 0.014589307728607276\n",
      "-----------------------\n",
      "100 LinearRegression() linear_hsic_shuffle_kci\n",
      "0.196 0.018193971638979765\n",
      "-----------------------\n",
      "200 LinearRegression() max_corr\n",
      "0.034 0.007982751154833777\n",
      "-----------------------\n",
      "200 LinearRegression() gcm_gmb\n",
      "0.07 0.011354418347057678\n",
      "-----------------------\n",
      "200 LinearRegression() linear_hsic_shuffle_kci\n",
      "0.094 0.012949507944319738\n",
      "-----------------------\n",
      "300 LinearRegression() max_corr\n",
      "0.044 0.009418169461206355\n",
      "-----------------------\n",
      "300 LinearRegression() gcm_gmb\n",
      "0.084 0.01269129528456414\n",
      "-----------------------\n",
      "300 LinearRegression() linear_hsic_shuffle_kci\n",
      "0.08 0.012126334978054994\n",
      "-----------------------\n",
      "500 LinearRegression() max_corr\n",
      "0.04 0.009217543056585089\n",
      "-----------------------\n",
      "500 LinearRegression() gcm_gmb\n",
      "0.038 0.00871329994892865\n",
      "-----------------------\n",
      "500 LinearRegression() linear_hsic_shuffle_kci\n",
      "0.086 0.012135678143391905\n",
      "-----------------------\n",
      "Metrics dump  /Users/urmininad/Documents/Python/Mult_CI_Tests/metrics/only_ols_final/5-20-type1-low-low_metrics.dat\n",
      "====================\n",
      " 5-20-type2-low-low \n",
      "====================\n",
      "100 LinearRegression() max_corr\n",
      "0.282 0.020182882252047146\n",
      "-----------------------\n",
      "100 LinearRegression() gcm_gmb\n",
      "0.782 0.018137009124990815\n",
      "-----------------------\n",
      "100 LinearRegression() linear_hsic_shuffle_kci\n",
      "0.834 0.017435639821927952\n",
      "-----------------------\n",
      "200 LinearRegression() max_corr\n",
      "0.83 0.016720294734244356\n",
      "-----------------------\n",
      "200 LinearRegression() gcm_gmb\n",
      "0.976 0.006938308439382044\n",
      "-----------------------\n",
      "200 LinearRegression() linear_hsic_shuffle_kci\n",
      "0.982 0.005798247666321271\n",
      "-----------------------\n",
      "300 LinearRegression() max_corr\n",
      "0.984 0.005593916338308971\n",
      "-----------------------\n",
      "300 LinearRegression() gcm_gmb\n",
      "0.996 0.0027327868559402896\n",
      "-----------------------\n",
      "300 LinearRegression() linear_hsic_shuffle_kci\n",
      "0.998 0.0019573492279100343\n",
      "-----------------------\n",
      "500 LinearRegression() max_corr\n",
      "1.0 0.0\n",
      "-----------------------\n",
      "500 LinearRegression() gcm_gmb\n",
      "1.0 0.0\n",
      "-----------------------\n",
      "500 LinearRegression() linear_hsic_shuffle_kci\n",
      "1.0 0.0\n",
      "-----------------------\n",
      "Metrics dump  /Users/urmininad/Documents/Python/Mult_CI_Tests/metrics/only_ols_final/5-20-type2-low-low_metrics.dat\n",
      "====================\n",
      " 5-20-type1-low-high \n",
      "====================\n",
      "100 LinearRegression() max_corr\n",
      "0.028 0.007190570491970717\n",
      "-----------------------\n",
      "100 LinearRegression() gcm_gmb\n",
      "0.114 0.014148110262505025\n",
      "-----------------------\n",
      "100 LinearRegression() linear_hsic_shuffle_kci\n",
      "0.222 0.018672894151684147\n",
      "-----------------------\n",
      "200 LinearRegression() max_corr\n",
      "0.034 0.008134838658510689\n",
      "-----------------------\n",
      "200 LinearRegression() gcm_gmb\n",
      "0.054 0.01027891647986304\n",
      "-----------------------\n",
      "200 LinearRegression() linear_hsic_shuffle_kci\n",
      "0.086 0.012579500626018505\n",
      "-----------------------\n",
      "300 LinearRegression() max_corr\n",
      "0.04 0.00880169960859833\n",
      "-----------------------\n",
      "300 LinearRegression() gcm_gmb\n",
      "0.054 0.01017250490292337\n",
      "-----------------------\n",
      "300 LinearRegression() linear_hsic_shuffle_kci\n",
      "0.068 0.01131802102843072\n",
      "-----------------------\n",
      "500 LinearRegression() max_corr\n",
      "0.044 0.00901927801988607\n",
      "-----------------------\n",
      "500 LinearRegression() gcm_gmb\n",
      "0.056 0.010690095602940135\n",
      "-----------------------\n",
      "500 LinearRegression() linear_hsic_shuffle_kci\n",
      "0.088 0.012867855143729276\n",
      "-----------------------\n",
      "Metrics dump  /Users/urmininad/Documents/Python/Mult_CI_Tests/metrics/only_ols_final/5-20-type1-low-high_metrics.dat\n",
      "====================\n",
      " 5-20-type2-low-high \n",
      "====================\n",
      "100 LinearRegression() max_corr\n",
      "0.28 0.01992938694491127\n",
      "-----------------------\n",
      "100 LinearRegression() gcm_gmb\n",
      "0.77 0.01898917491625164\n",
      "-----------------------\n",
      "100 LinearRegression() linear_hsic_shuffle_kci\n",
      "0.814 0.017668860631065007\n",
      "-----------------------\n",
      "200 LinearRegression() max_corr\n",
      "0.838 0.016433271129023583\n",
      "-----------------------\n",
      "200 LinearRegression() gcm_gmb\n",
      "0.984 0.005420470459286726\n",
      "-----------------------\n",
      "200 LinearRegression() linear_hsic_shuffle_kci\n",
      "0.988 0.004748439322556417\n",
      "-----------------------\n",
      "300 LinearRegression() max_corr\n",
      "0.988 0.004757215572159836\n",
      "-----------------------\n",
      "300 LinearRegression() gcm_gmb\n",
      "1.0 0.0\n",
      "-----------------------\n",
      "300 LinearRegression() linear_hsic_shuffle_kci\n",
      "1.0 0.0\n",
      "-----------------------\n",
      "500 LinearRegression() max_corr\n",
      "1.0 0.0\n",
      "-----------------------\n",
      "500 LinearRegression() gcm_gmb\n",
      "1.0 0.0\n",
      "-----------------------\n",
      "500 LinearRegression() linear_hsic_shuffle_kci\n",
      "1.0 0.0\n",
      "-----------------------\n",
      "Metrics dump  /Users/urmininad/Documents/Python/Mult_CI_Tests/metrics/only_ols_final/5-20-type2-low-high_metrics.dat\n",
      "====================\n",
      " 5-20-type1-high-low \n",
      "====================\n",
      "100 LinearRegression() max_corr\n",
      "0.028 0.0073905442289455255\n",
      "-----------------------\n",
      "100 LinearRegression() gcm_gmb\n",
      "0.116 0.014520024104663189\n",
      "-----------------------\n",
      "100 LinearRegression() linear_hsic_shuffle_kci\n",
      "0.19 0.017405183136066107\n",
      "-----------------------\n",
      "200 LinearRegression() max_corr\n",
      "0.026 0.0071668054250132954\n",
      "-----------------------\n",
      "200 LinearRegression() gcm_gmb\n",
      "0.07 0.011200656409336016\n",
      "-----------------------\n",
      "200 LinearRegression() linear_hsic_shuffle_kci\n",
      "0.11 0.013662929554089051\n",
      "-----------------------\n",
      "300 LinearRegression() max_corr\n",
      "0.044 0.009116528944724521\n",
      "-----------------------\n",
      "300 LinearRegression() gcm_gmb\n",
      "0.078 0.012153142638840375\n",
      "-----------------------\n",
      "300 LinearRegression() linear_hsic_shuffle_kci\n",
      "0.074 0.012076478957047042\n",
      "-----------------------\n",
      "500 LinearRegression() max_corr\n",
      "0.042 0.009279309457066296\n",
      "-----------------------\n",
      "500 LinearRegression() gcm_gmb\n",
      "0.046 0.009389648555723478\n",
      "-----------------------\n",
      "500 LinearRegression() linear_hsic_shuffle_kci\n",
      "0.068 0.01127537210029008\n",
      "-----------------------\n",
      "Metrics dump  /Users/urmininad/Documents/Python/Mult_CI_Tests/metrics/only_ols_final/5-20-type1-high-low_metrics.dat\n",
      "====================\n",
      " 5-20-type2-high-low \n",
      "====================\n",
      "100 LinearRegression() max_corr\n",
      "0.292 0.02098287673318413\n",
      "-----------------------\n",
      "100 LinearRegression() gcm_gmb\n",
      "0.772 0.018036726864927584\n",
      "-----------------------\n",
      "100 LinearRegression() linear_hsic_shuffle_kci\n",
      "0.818 0.017619120409373423\n",
      "-----------------------\n",
      "200 LinearRegression() max_corr\n",
      "0.836 0.016868810983587428\n",
      "-----------------------\n",
      "200 LinearRegression() gcm_gmb\n",
      "0.974 0.007109907453687431\n",
      "-----------------------\n",
      "200 LinearRegression() linear_hsic_shuffle_kci\n",
      "0.982 0.006058646383475443\n",
      "-----------------------\n",
      "300 LinearRegression() max_corr\n",
      "0.988 0.004912280122305735\n",
      "-----------------------\n",
      "300 LinearRegression() gcm_gmb\n",
      "1.0 0.0\n",
      "-----------------------\n",
      "300 LinearRegression() linear_hsic_shuffle_kci\n",
      "1.0 0.0\n",
      "-----------------------\n",
      "500 LinearRegression() max_corr\n",
      "1.0 0.0\n",
      "-----------------------\n",
      "500 LinearRegression() gcm_gmb\n",
      "1.0 0.0\n",
      "-----------------------\n",
      "500 LinearRegression() linear_hsic_shuffle_kci\n",
      "1.0 0.0\n",
      "-----------------------\n",
      "Metrics dump  /Users/urmininad/Documents/Python/Mult_CI_Tests/metrics/only_ols_final/5-20-type2-high-low_metrics.dat\n",
      "====================\n",
      " 5-20-type1-high-high \n",
      "====================\n",
      "100 LinearRegression() max_corr\n",
      "0.026 0.006949842875921729\n",
      "-----------------------\n",
      "100 LinearRegression() gcm_gmb\n",
      "0.108 0.013895078841086149\n",
      "-----------------------\n",
      "100 LinearRegression() linear_hsic_shuffle_kci\n",
      "0.216 0.018756373210191784\n",
      "-----------------------\n",
      "200 LinearRegression() max_corr\n",
      "0.06 0.010569220217215647\n",
      "-----------------------\n",
      "200 LinearRegression() gcm_gmb\n",
      "0.08 0.01265738661809775\n",
      "-----------------------\n",
      "200 LinearRegression() linear_hsic_shuffle_kci\n",
      "0.116 0.014369928461895696\n",
      "-----------------------\n",
      "300 LinearRegression() max_corr\n",
      "0.03 0.007697766948927462\n",
      "-----------------------\n",
      "300 LinearRegression() gcm_gmb\n",
      "0.07 0.011583846511414074\n",
      "-----------------------\n",
      "300 LinearRegression() linear_hsic_shuffle_kci\n",
      "0.088 0.012635309889353723\n",
      "-----------------------\n",
      "500 LinearRegression() max_corr\n",
      "0.048 0.009922580108016261\n",
      "-----------------------\n",
      "500 LinearRegression() gcm_gmb\n",
      "0.062 0.010732213937487457\n",
      "-----------------------\n",
      "500 LinearRegression() linear_hsic_shuffle_kci\n",
      "0.058 0.010538900132366755\n",
      "-----------------------\n",
      "Metrics dump  /Users/urmininad/Documents/Python/Mult_CI_Tests/metrics/only_ols_final/5-20-type1-high-high_metrics.dat\n",
      "====================\n",
      " 5-20-type2-high-high \n",
      "====================\n",
      "100 LinearRegression() max_corr\n",
      "0.328 0.020452519062452917\n",
      "-----------------------\n",
      "100 LinearRegression() gcm_gmb\n",
      "0.764 0.018652887283206333\n",
      "-----------------------\n",
      "100 LinearRegression() linear_hsic_shuffle_kci\n",
      "0.808 0.01770441752783748\n",
      "-----------------------\n",
      "200 LinearRegression() max_corr\n",
      "0.828 0.01748474031834615\n",
      "-----------------------\n",
      "200 LinearRegression() gcm_gmb\n",
      "0.986 0.005359447359569833\n",
      "-----------------------\n",
      "200 LinearRegression() linear_hsic_shuffle_kci\n",
      "0.976 0.0070962387220273315\n",
      "-----------------------\n",
      "300 LinearRegression() max_corr\n",
      "0.99 0.004341244061326204\n",
      "-----------------------\n",
      "300 LinearRegression() gcm_gmb\n",
      "1.0 0.0\n",
      "-----------------------\n",
      "300 LinearRegression() linear_hsic_shuffle_kci\n",
      "1.0 0.0\n",
      "-----------------------\n",
      "500 LinearRegression() max_corr\n",
      "1.0 0.0\n",
      "-----------------------\n",
      "500 LinearRegression() gcm_gmb\n",
      "1.0 0.0\n",
      "-----------------------\n",
      "500 LinearRegression() linear_hsic_shuffle_kci\n",
      "1.0 0.0\n",
      "-----------------------\n",
      "Metrics dump  /Users/urmininad/Documents/Python/Mult_CI_Tests/metrics/only_ols_final/5-20-type2-high-high_metrics.dat\n",
      "====================\n",
      " 20-20-type1-None-low \n",
      "====================\n",
      "100 LinearRegression() max_corr\n",
      "0.0 0.0\n",
      "-----------------------\n",
      "100 LinearRegression() gcm_gmb\n",
      "0.108 0.013902580911471079\n",
      "-----------------------\n",
      "100 LinearRegression() linear_hsic_shuffle_kci\n",
      "0.894 0.013611016714411908\n",
      "-----------------------\n",
      "200 LinearRegression() max_corr\n",
      "0.002 0.0020605824419323775\n",
      "-----------------------\n",
      "200 LinearRegression() gcm_gmb\n",
      "0.072 0.010730545372906262\n",
      "-----------------------\n",
      "200 LinearRegression() linear_hsic_shuffle_kci\n",
      "0.406 0.02142025807500927\n",
      "-----------------------\n",
      "300 LinearRegression() max_corr\n",
      "0.008 0.004068955639964634\n",
      "-----------------------\n",
      "300 LinearRegression() gcm_gmb\n",
      "0.08 0.012183693856954876\n",
      "-----------------------\n",
      "300 LinearRegression() linear_hsic_shuffle_kci\n",
      "0.242 0.019501148273883773\n",
      "-----------------------\n",
      "500 LinearRegression() max_corr\n",
      "0.024 0.006962240731258866\n",
      "-----------------------\n",
      "500 LinearRegression() gcm_gmb\n",
      "0.074 0.011187278310652684\n",
      "-----------------------\n",
      "500 LinearRegression() linear_hsic_shuffle_kci\n",
      "0.142 0.016058628085860883\n",
      "-----------------------\n",
      "Metrics dump  /Users/urmininad/Documents/Python/Mult_CI_Tests/metrics/only_ols_final/20-20-type1-None-low_metrics.dat\n",
      "====================\n",
      " 20-20-type2-None-low \n",
      "====================\n",
      "100 LinearRegression() max_corr\n",
      "0.006 0.0035041095873274285\n",
      "-----------------------\n",
      "100 LinearRegression() gcm_gmb\n",
      "0.942 0.011063646957490975\n",
      "-----------------------\n",
      "100 LinearRegression() linear_hsic_shuffle_kci\n",
      "1.0 0.0\n",
      "-----------------------\n",
      "200 LinearRegression() max_corr\n",
      "0.55 0.022406460139879285\n",
      "-----------------------\n",
      "200 LinearRegression() gcm_gmb\n",
      "1.0 0.0\n",
      "-----------------------\n",
      "200 LinearRegression() linear_hsic_shuffle_kci\n",
      "1.0 0.0\n",
      "-----------------------\n",
      "300 LinearRegression() max_corr\n",
      "0.99 0.004508072315302854\n",
      "-----------------------\n",
      "300 LinearRegression() gcm_gmb\n",
      "1.0 0.0\n",
      "-----------------------\n",
      "300 LinearRegression() linear_hsic_shuffle_kci\n",
      "1.0 0.0\n",
      "-----------------------\n",
      "500 LinearRegression() max_corr\n",
      "1.0 0.0\n",
      "-----------------------\n",
      "500 LinearRegression() gcm_gmb\n",
      "1.0 0.0\n",
      "-----------------------\n",
      "500 LinearRegression() linear_hsic_shuffle_kci\n",
      "1.0 0.0\n",
      "-----------------------\n",
      "Metrics dump  /Users/urmininad/Documents/Python/Mult_CI_Tests/metrics/only_ols_final/20-20-type2-None-low_metrics.dat\n",
      "====================\n",
      " 20-20-type1-None-high \n",
      "====================\n",
      "100 LinearRegression() max_corr\n",
      "0.0 0.0\n",
      "-----------------------\n",
      "100 LinearRegression() gcm_gmb\n",
      "0.132 0.01579592808289529\n",
      "-----------------------\n",
      "100 LinearRegression() linear_hsic_shuffle_kci\n",
      "0.896 0.013400439395781033\n",
      "-----------------------\n",
      "200 LinearRegression() max_corr\n",
      "0.016 0.005439102499493827\n",
      "-----------------------\n",
      "200 LinearRegression() gcm_gmb\n",
      "0.08 0.01237659662427438\n",
      "-----------------------\n",
      "200 LinearRegression() linear_hsic_shuffle_kci\n",
      "0.474 0.022641201028214028\n",
      "-----------------------\n",
      "300 LinearRegression() max_corr\n",
      "0.012 0.0048465063705725175\n",
      "-----------------------\n",
      "300 LinearRegression() gcm_gmb\n",
      "0.068 0.011890012615636705\n",
      "-----------------------\n",
      "300 LinearRegression() linear_hsic_shuffle_kci\n",
      "0.248 0.019195114378403693\n",
      "-----------------------\n",
      "500 LinearRegression() max_corr\n",
      "0.024 0.006859271098301919\n",
      "-----------------------\n",
      "500 LinearRegression() gcm_gmb\n",
      "0.074 0.011830198476779668\n",
      "-----------------------\n",
      "500 LinearRegression() linear_hsic_shuffle_kci\n",
      "0.134 0.01530280693206315\n",
      "-----------------------\n",
      "Metrics dump  /Users/urmininad/Documents/Python/Mult_CI_Tests/metrics/only_ols_final/20-20-type1-None-high_metrics.dat\n",
      "====================\n",
      " 20-20-type2-None-high \n",
      "====================\n",
      "100 LinearRegression() max_corr\n",
      "0.0 0.0\n",
      "-----------------------\n",
      "100 LinearRegression() gcm_gmb\n",
      "0.952 0.009155020480588773\n",
      "-----------------------\n",
      "100 LinearRegression() linear_hsic_shuffle_kci\n",
      "1.0 0.0\n",
      "-----------------------\n",
      "200 LinearRegression() max_corr\n",
      "0.614 0.022005452415253833\n",
      "-----------------------\n",
      "200 LinearRegression() gcm_gmb\n",
      "1.0 0.0\n",
      "-----------------------\n",
      "200 LinearRegression() linear_hsic_shuffle_kci\n",
      "1.0 0.0\n",
      "-----------------------\n",
      "300 LinearRegression() max_corr\n",
      "0.99 0.004559294243630261\n",
      "-----------------------\n",
      "300 LinearRegression() gcm_gmb\n",
      "1.0 0.0\n",
      "-----------------------\n",
      "300 LinearRegression() linear_hsic_shuffle_kci\n",
      "1.0 0.0\n",
      "-----------------------\n",
      "500 LinearRegression() max_corr\n",
      "1.0 0.0\n",
      "-----------------------\n",
      "500 LinearRegression() gcm_gmb\n",
      "1.0 0.0\n",
      "-----------------------\n",
      "500 LinearRegression() linear_hsic_shuffle_kci\n",
      "1.0 0.0\n",
      "-----------------------\n",
      "Metrics dump  /Users/urmininad/Documents/Python/Mult_CI_Tests/metrics/only_ols_final/20-20-type2-None-high_metrics.dat\n",
      "====================\n",
      " 20-20-type1-low-low \n",
      "====================\n",
      "100 LinearRegression() max_corr\n",
      "0.0 0.0\n",
      "-----------------------\n",
      "100 LinearRegression() gcm_gmb\n",
      "0.158 0.016299290659412144\n",
      "-----------------------\n",
      "100 LinearRegression() linear_hsic_shuffle_kci\n",
      "0.898 0.013732238856064232\n",
      "-----------------------\n",
      "200 LinearRegression() max_corr\n",
      "0.004 0.00281067607525307\n",
      "-----------------------\n",
      "200 LinearRegression() gcm_gmb\n",
      "0.08 0.012279659767273684\n",
      "-----------------------\n",
      "200 LinearRegression() linear_hsic_shuffle_kci\n",
      "0.44 0.022534023963775317\n",
      "-----------------------\n",
      "300 LinearRegression() max_corr\n",
      "0.014 0.005390658215839695\n",
      "-----------------------\n",
      "300 LinearRegression() gcm_gmb\n",
      "0.07 0.011589298339416413\n",
      "-----------------------\n",
      "300 LinearRegression() linear_hsic_shuffle_kci\n",
      "0.244 0.01922054224000978\n",
      "-----------------------\n",
      "500 LinearRegression() max_corr\n",
      "0.03 0.0076381754365816975\n",
      "-----------------------\n",
      "500 LinearRegression() gcm_gmb\n",
      "0.058 0.010332966853716314\n",
      "-----------------------\n",
      "500 LinearRegression() linear_hsic_shuffle_kci\n",
      "0.152 0.016206412434588972\n",
      "-----------------------\n",
      "Metrics dump  /Users/urmininad/Documents/Python/Mult_CI_Tests/metrics/only_ols_final/20-20-type1-low-low_metrics.dat\n",
      "====================\n",
      " 20-20-type2-low-low \n",
      "====================\n",
      "100 LinearRegression() max_corr\n",
      "0.006 0.003488896673735123\n",
      "-----------------------\n",
      "100 LinearRegression() gcm_gmb\n",
      "0.95 0.010136726098696746\n",
      "-----------------------\n",
      "100 LinearRegression() linear_hsic_shuffle_kci\n",
      "0.998 0.0020440733842012637\n",
      "-----------------------\n",
      "200 LinearRegression() max_corr\n",
      "0.598 0.021864381902994657\n",
      "-----------------------\n",
      "200 LinearRegression() gcm_gmb\n",
      "1.0 0.0\n",
      "-----------------------\n",
      "200 LinearRegression() linear_hsic_shuffle_kci\n",
      "1.0 0.0\n",
      "-----------------------\n",
      "300 LinearRegression() max_corr\n",
      "0.99 0.004538122519280417\n",
      "-----------------------\n",
      "300 LinearRegression() gcm_gmb\n",
      "1.0 0.0\n",
      "-----------------------\n",
      "300 LinearRegression() linear_hsic_shuffle_kci\n",
      "1.0 0.0\n",
      "-----------------------\n",
      "500 LinearRegression() max_corr\n",
      "1.0 0.0\n",
      "-----------------------\n",
      "500 LinearRegression() gcm_gmb\n",
      "1.0 0.0\n",
      "-----------------------\n",
      "500 LinearRegression() linear_hsic_shuffle_kci\n",
      "1.0 0.0\n",
      "-----------------------\n",
      "Metrics dump  /Users/urmininad/Documents/Python/Mult_CI_Tests/metrics/only_ols_final/20-20-type2-low-low_metrics.dat\n",
      "====================\n",
      " 20-20-type1-low-high \n",
      "====================\n",
      "100 LinearRegression() max_corr\n",
      "0.0 0.0\n",
      "-----------------------\n",
      "100 LinearRegression() gcm_gmb\n",
      "0.13 0.01478826507741865\n",
      "-----------------------\n",
      "100 LinearRegression() linear_hsic_shuffle_kci\n",
      "0.904 0.01313995981729017\n",
      "-----------------------\n",
      "200 LinearRegression() max_corr\n",
      "0.008 0.004032384406278746\n",
      "-----------------------\n",
      "200 LinearRegression() gcm_gmb\n",
      "0.082 0.012572286983679619\n",
      "-----------------------\n",
      "200 LinearRegression() linear_hsic_shuffle_kci\n",
      "0.422 0.021581656562923986\n",
      "-----------------------\n",
      "300 LinearRegression() max_corr\n",
      "0.014 0.005156519756580013\n",
      "-----------------------\n",
      "300 LinearRegression() gcm_gmb\n",
      "0.056 0.010404335826952146\n",
      "-----------------------\n",
      "300 LinearRegression() linear_hsic_shuffle_kci\n",
      "0.246 0.01941880645147894\n",
      "-----------------------\n",
      "500 LinearRegression() max_corr\n",
      "0.024 0.006935478642458645\n",
      "-----------------------\n",
      "500 LinearRegression() gcm_gmb\n",
      "0.076 0.011890305126446503\n",
      "-----------------------\n",
      "500 LinearRegression() linear_hsic_shuffle_kci\n",
      "0.156 0.01613234068571576\n",
      "-----------------------\n",
      "Metrics dump  /Users/urmininad/Documents/Python/Mult_CI_Tests/metrics/only_ols_final/20-20-type1-low-high_metrics.dat\n",
      "====================\n",
      " 20-20-type2-low-high \n",
      "====================\n",
      "100 LinearRegression() max_corr\n",
      "0.002 0.002094334261764344\n",
      "-----------------------\n",
      "100 LinearRegression() gcm_gmb\n",
      "0.94 0.01126990878401415\n",
      "-----------------------\n",
      "100 LinearRegression() linear_hsic_shuffle_kci\n",
      "0.998 0.0019326706910387003\n",
      "-----------------------\n",
      "200 LinearRegression() max_corr\n",
      "0.576 0.02272672778910328\n",
      "-----------------------\n",
      "200 LinearRegression() gcm_gmb\n",
      "1.0 0.0\n",
      "-----------------------\n",
      "200 LinearRegression() linear_hsic_shuffle_kci\n",
      "1.0 0.0\n",
      "-----------------------\n",
      "300 LinearRegression() max_corr\n",
      "0.988 0.004782835560627193\n",
      "-----------------------\n",
      "300 LinearRegression() gcm_gmb\n",
      "1.0 0.0\n",
      "-----------------------\n",
      "300 LinearRegression() linear_hsic_shuffle_kci\n",
      "1.0 0.0\n",
      "-----------------------\n",
      "500 LinearRegression() max_corr\n",
      "1.0 0.0\n",
      "-----------------------\n",
      "500 LinearRegression() gcm_gmb\n",
      "1.0 0.0\n",
      "-----------------------\n",
      "500 LinearRegression() linear_hsic_shuffle_kci\n",
      "1.0 0.0\n",
      "-----------------------\n",
      "Metrics dump  /Users/urmininad/Documents/Python/Mult_CI_Tests/metrics/only_ols_final/20-20-type2-low-high_metrics.dat\n",
      "====================\n",
      " 20-20-type1-high-low \n",
      "====================\n",
      "100 LinearRegression() max_corr\n",
      "0.0 0.0\n",
      "-----------------------\n",
      "100 LinearRegression() gcm_gmb\n",
      "0.136 0.015428075058152912\n",
      "-----------------------\n",
      "100 LinearRegression() linear_hsic_shuffle_kci\n",
      "0.88 0.014321808684659921\n",
      "-----------------------\n",
      "200 LinearRegression() max_corr\n",
      "0.008 0.003969370227126717\n",
      "-----------------------\n",
      "200 LinearRegression() gcm_gmb\n",
      "0.09 0.012996651260997966\n",
      "-----------------------\n",
      "200 LinearRegression() linear_hsic_shuffle_kci\n",
      "0.4 0.021204318050812195\n",
      "-----------------------\n",
      "300 LinearRegression() max_corr\n",
      "0.018 0.0059795568397666395\n",
      "-----------------------\n",
      "300 LinearRegression() gcm_gmb\n",
      "0.064 0.010833432696980214\n",
      "-----------------------\n",
      "300 LinearRegression() linear_hsic_shuffle_kci\n",
      "0.196 0.01780970959897999\n",
      "-----------------------\n",
      "500 LinearRegression() max_corr\n",
      "0.016 0.0056279214635600585\n",
      "-----------------------\n",
      "500 LinearRegression() gcm_gmb\n",
      "0.07 0.011261898774185462\n",
      "-----------------------\n",
      "500 LinearRegression() linear_hsic_shuffle_kci\n",
      "0.148 0.01582060416039792\n",
      "-----------------------\n",
      "Metrics dump  /Users/urmininad/Documents/Python/Mult_CI_Tests/metrics/only_ols_final/20-20-type1-high-low_metrics.dat\n",
      "====================\n",
      " 20-20-type2-high-low \n",
      "====================\n",
      "100 LinearRegression() max_corr\n",
      "0.0 0.0\n",
      "-----------------------\n",
      "100 LinearRegression() gcm_gmb\n",
      "0.934 0.011264596575110856\n",
      "-----------------------\n",
      "100 LinearRegression() linear_hsic_shuffle_kci\n",
      "1.0 0.0\n",
      "-----------------------\n",
      "200 LinearRegression() max_corr\n",
      "0.602 0.021967683082200554\n",
      "-----------------------\n",
      "200 LinearRegression() gcm_gmb\n",
      "1.0 0.0\n",
      "-----------------------\n",
      "200 LinearRegression() linear_hsic_shuffle_kci\n",
      "1.0 0.0\n",
      "-----------------------\n",
      "300 LinearRegression() max_corr\n",
      "0.994 0.003228136304433259\n",
      "-----------------------\n",
      "300 LinearRegression() gcm_gmb\n",
      "1.0 0.0\n",
      "-----------------------\n",
      "300 LinearRegression() linear_hsic_shuffle_kci\n",
      "1.0 0.0\n",
      "-----------------------\n",
      "500 LinearRegression() max_corr\n",
      "1.0 0.0\n",
      "-----------------------\n",
      "500 LinearRegression() gcm_gmb\n",
      "1.0 0.0\n",
      "-----------------------\n",
      "500 LinearRegression() linear_hsic_shuffle_kci\n",
      "1.0 0.0\n",
      "-----------------------\n",
      "Metrics dump  /Users/urmininad/Documents/Python/Mult_CI_Tests/metrics/only_ols_final/20-20-type2-high-low_metrics.dat\n",
      "====================\n",
      " 20-20-type1-high-high \n",
      "====================\n",
      "100 LinearRegression() max_corr\n",
      "0.0 0.0\n",
      "-----------------------\n",
      "100 LinearRegression() gcm_gmb\n",
      "0.14 0.015690068068686\n",
      "-----------------------\n",
      "100 LinearRegression() linear_hsic_shuffle_kci\n",
      "0.92 0.01222600098151476\n",
      "-----------------------\n",
      "200 LinearRegression() max_corr\n",
      "0.006 0.0033338260302541284\n",
      "-----------------------\n",
      "200 LinearRegression() gcm_gmb\n",
      "0.088 0.012499820158706284\n",
      "-----------------------\n",
      "200 LinearRegression() linear_hsic_shuffle_kci\n",
      "0.426 0.022715324871108493\n",
      "-----------------------\n",
      "300 LinearRegression() max_corr\n",
      "0.012 0.004879219609732687\n",
      "-----------------------\n",
      "300 LinearRegression() gcm_gmb\n",
      "0.06 0.010795670243203985\n",
      "-----------------------\n",
      "300 LinearRegression() linear_hsic_shuffle_kci\n",
      "0.258 0.020117557605236275\n",
      "-----------------------\n",
      "500 LinearRegression() max_corr\n",
      "0.024 0.006501684397138944\n",
      "-----------------------\n",
      "500 LinearRegression() gcm_gmb\n",
      "0.06 0.010260039766004809\n",
      "-----------------------\n",
      "500 LinearRegression() linear_hsic_shuffle_kci\n",
      "0.14 0.015997363657803118\n",
      "-----------------------\n",
      "Metrics dump  /Users/urmininad/Documents/Python/Mult_CI_Tests/metrics/only_ols_final/20-20-type1-high-high_metrics.dat\n",
      "====================\n",
      " 20-20-type2-high-high \n",
      "====================\n",
      "100 LinearRegression() max_corr\n",
      "0.002 0.0020571825392998065\n",
      "-----------------------\n",
      "100 LinearRegression() gcm_gmb\n",
      "0.956 0.008808841921614899\n",
      "-----------------------\n",
      "100 LinearRegression() linear_hsic_shuffle_kci\n",
      "1.0 0.0\n",
      "-----------------------\n",
      "200 LinearRegression() max_corr\n",
      "0.6 0.021812451398226664\n",
      "-----------------------\n",
      "200 LinearRegression() gcm_gmb\n",
      "1.0 0.0\n",
      "-----------------------\n",
      "200 LinearRegression() linear_hsic_shuffle_kci\n",
      "1.0 0.0\n",
      "-----------------------\n",
      "300 LinearRegression() max_corr\n",
      "0.988 0.004785143258043592\n",
      "-----------------------\n",
      "300 LinearRegression() gcm_gmb\n",
      "1.0 0.0\n",
      "-----------------------\n",
      "300 LinearRegression() linear_hsic_shuffle_kci\n",
      "1.0 0.0\n",
      "-----------------------\n",
      "500 LinearRegression() max_corr\n",
      "1.0 0.0\n",
      "-----------------------\n",
      "500 LinearRegression() gcm_gmb\n",
      "1.0 0.0\n",
      "-----------------------\n",
      "500 LinearRegression() linear_hsic_shuffle_kci\n",
      "1.0 0.0\n",
      "-----------------------\n",
      "Metrics dump  /Users/urmininad/Documents/Python/Mult_CI_Tests/metrics/only_ols_final/20-20-type2-high-high_metrics.dat\n"
     ]
    }
   ],
   "source": [
    "realizations = 500\n",
    "sample_range = [100, 200, 300, 500]\n",
    "corr_type_range = ['max_corr','gcm_gmb','linear_hsic_shuffle_kci']#,'boxm']#'linear_hsic_approx','gcm_gmb' ,'boxm']\n",
    "reg_range = ['ols']\n",
    "\n",
    "for dimxy in [5,20]:\n",
    "    for dimz in [20]:\n",
    "        for z_int in [None, 'low', 'high']:\n",
    "            for n_conf in ['low','high']:\n",
    "                for error in ['type1', 'type2']:\n",
    "                    para_setup = (dimxy,dimz,error,z_int,n_conf)\n",
    "                    conf = '%s-'*len(para_setup) % para_setup\n",
    "                    conf = conf[:-1]\n",
    "                    \n",
    "                    # conf = conf+'-0.06'\n",
    "                    \n",
    "                    print('====================\\n',conf,'\\n====================')\n",
    "                    \n",
    "                    results_dict = metrics_rate_full(sample_range,corr_type_range,reg_range,error, dimxy, dimz, z_int, n_conf)\n",
    "                    dump_metrics(conf,results_dict)\n",
    "                    \n",
    "                    # para_setup = tuple(conf.split(\"-\"))\n",
    "                    # results = get_metrics_from_file(para_setup)\n",
    "                    # if results == results_dict:\n",
    "                    #     print('Metric dump happened correctly')\n",
    "                    # else:\n",
    "                    #     print('CHECK!',conf)\n",
    "                 \n",
    "            "
   ]
  },
  {
   "cell_type": "markdown",
   "id": "7a0c63f2-1362-45e4-8ca4-35e9c551b7f5",
   "metadata": {},
   "source": [
    "## Plots"
   ]
  },
  {
   "cell_type": "code",
   "execution_count": 118,
   "id": "9190ec03-8163-4079-a2e2-a8225356bf55",
   "metadata": {},
   "outputs": [
    {
     "name": "stdout",
     "output_type": "stream",
     "text": [
      "load from metrics file  /Users/urmininad/Documents/Python/Mult_CI_Tests/metrics/only_ols_final/20-20-type1-None-low_metrics.dat \n",
      "load from metrics file  /Users/urmininad/Documents/Python/Mult_CI_Tests/metrics/only_ols_final/20-20-type1-low-low_metrics.dat \n",
      "load from metrics file  /Users/urmininad/Documents/Python/Mult_CI_Tests/metrics/only_ols_final/20-20-type1-high-low_metrics.dat \n",
      "load from metrics file  /Users/urmininad/Documents/Python/Mult_CI_Tests/metrics/only_ols_final/20-20-type1-None-high_metrics.dat \n",
      "load from metrics file  /Users/urmininad/Documents/Python/Mult_CI_Tests/metrics/only_ols_final/20-20-type1-low-high_metrics.dat \n",
      "load from metrics file  /Users/urmininad/Documents/Python/Mult_CI_Tests/metrics/only_ols_final/20-20-type1-high-high_metrics.dat \n"
     ]
    },
    {
     "data": {
      "image/png": "[encoded data removed]",
      "text/plain": [
       "<Figure size 864x432 with 6 Axes>"
      ]
     },
     "metadata": {
      "needs_background": "light"
     },
     "output_type": "display_data"
    }
   ],
   "source": [
    "anyconfigurations = [] \n",
    "for dimxy in [20]:\n",
    "    for dimz in [20]:\n",
    "        for err_type in ['type1']:\n",
    "            for n_conf in ['low','high']:\n",
    "                for z_int in [None, 'low', 'high']:\n",
    "\n",
    "                    para_setup = (dimxy,dimz,err_type,z_int,n_conf)\n",
    "                    # para_setup = (dimxy,dimz,err_type,z_int,n_conf,0.06)\n",
    "                    name = '%s-'*len(para_setup) % para_setup\n",
    "                    name = name[:-1]\n",
    "                    anyconfigurations += [name]\n",
    "\n",
    "# anyconfigurations\n",
    "gen_plots_zint_nconf(anyconfigurations, save = 'no')"
   ]
  },
  {
   "cell_type": "code",
   "execution_count": 115,
   "id": "da451ce6-3a53-4f4f-804b-36cc45e5ad08",
   "metadata": {},
   "outputs": [
    {
     "name": "stdout",
     "output_type": "stream",
     "text": [
      "load from metrics file  /Users/urmininad/Documents/Python/Mult_CI_Tests/metrics/only_ols_final/20-20-type2-None-low_metrics.dat \n",
      "load from metrics file  /Users/urmininad/Documents/Python/Mult_CI_Tests/metrics/only_ols_final/20-20-type2-low-low_metrics.dat \n",
      "load from metrics file  /Users/urmininad/Documents/Python/Mult_CI_Tests/metrics/only_ols_final/20-20-type2-high-low_metrics.dat \n",
      "load from metrics file  /Users/urmininad/Documents/Python/Mult_CI_Tests/metrics/only_ols_final/20-20-type2-None-high_metrics.dat \n",
      "load from metrics file  /Users/urmininad/Documents/Python/Mult_CI_Tests/metrics/only_ols_final/20-20-type2-low-high_metrics.dat \n",
      "load from metrics file  /Users/urmininad/Documents/Python/Mult_CI_Tests/metrics/only_ols_final/20-20-type2-high-high_metrics.dat \n"
     ]
    },
    {
     "data": {
      "image/png": "[encoded data removed]",
      "text/plain": [
       "<Figure size 864x432 with 6 Axes>"
      ]
     },
     "metadata": {
      "needs_background": "light"
     },
     "output_type": "display_data"
    }
   ],
   "source": [
    "anyconfigurations = [] \n",
    "for dimxy in [20]:\n",
    "    for dimz in [20]:\n",
    "        for err_type in ['type2']:\n",
    "            for n_conf in ['low','high']:\n",
    "                for z_int in [None, 'low', 'high']:\n",
    "\n",
    "                    para_setup = (dimxy,dimz,err_type,z_int,n_conf)\n",
    "                    # para_setup = (dimxy,dimz,err_type,z_int,n_conf,0.06)\n",
    "                    name = '%s-'*len(para_setup) % para_setup\n",
    "                    name = name[:-1]\n",
    "                    anyconfigurations += [name]\n",
    "\n",
    "# anyconfigurations\n",
    "gen_plots_zint_nconf(anyconfigurations, save = 'no')"
   ]
  },
  {
   "cell_type": "code",
   "execution_count": null,
   "id": "e024d5e1-11a1-4699-aa4e-710e9f818f51",
   "metadata": {},
   "outputs": [],
   "source": []
  },
  {
   "cell_type": "code",
   "execution_count": null,
   "id": "dcf73b4e-3410-4454-9a39-872b95039ead",
   "metadata": {},
   "outputs": [],
   "source": []
  },
  {
   "cell_type": "code",
   "execution_count": null,
   "id": "69523c9f-a183-4fb2-ab92-a5350455317a",
   "metadata": {},
   "outputs": [],
   "source": []
  },
  {
   "cell_type": "code",
   "execution_count": null,
   "id": "8ace5996-c00c-4732-9735-083e9ceebccb",
   "metadata": {},
   "outputs": [],
   "source": []
  },
  {
   "cell_type": "code",
   "execution_count": null,
   "id": "b6be57f8-3779-4ef1-a0c3-03933fd679e7",
   "metadata": {},
   "outputs": [],
   "source": []
  },
  {
   "cell_type": "markdown",
   "id": "df1784e3-5054-4aaf-8978-15352509b5ef",
   "metadata": {},
   "source": [
    "Following are old experiments for general regression types (OLS, PLS, Ridge etc)"
   ]
  },
  {
   "cell_type": "markdown",
   "id": "e0535640-1528-487a-a014-5c2d4729a994",
   "metadata": {
    "jp-MarkdownHeadingCollapsed": true,
    "tags": []
   },
   "source": [
    "# Case 1: Univariate X,Y ; Multivariate Z"
   ]
  },
  {
   "cell_type": "markdown",
   "id": "f3c47685-b08e-4f55-bc9f-68b60360fbd9",
   "metadata": {
    "tags": []
   },
   "source": [
    "## (i) n_conf = Full (i.e. all Z components act as confounders)"
   ]
  },
  {
   "cell_type": "markdown",
   "id": "d18138c2-c171-41bf-975b-62358902957e",
   "metadata": {
    "tags": []
   },
   "source": [
    "### Type 1"
   ]
  },
  {
   "cell_type": "markdown",
   "id": "8315c607-3f91-41c9-ae40-3b095daaab51",
   "metadata": {
    "jp-MarkdownHeadingCollapsed": true,
    "tags": []
   },
   "source": [
    "#### 1-20"
   ]
  },
  {
   "cell_type": "code",
   "execution_count": 105,
   "id": "2b9413b0-b19a-4d7b-ba5f-20a3accee09c",
   "metadata": {},
   "outputs": [],
   "source": [
    "dimxy = 1\n",
    "dimz = 20\n",
    "realizations = 500\n",
    "#z_int = None\n",
    "#n_conf = 5"
   ]
  },
  {
   "cell_type": "code",
   "execution_count": 106,
   "id": "eb8af4d5-5231-43c9-9063-7b3c39fcaeec",
   "metadata": {},
   "outputs": [],
   "source": [
    "corr_type_range = ['max_corr','max_corr_shuffle','gcm','gcm_shuffle','gcm_gmb']\n",
    "reg_range = ['ols','ridge','pls']"
   ]
  },
  {
   "cell_type": "code",
   "execution_count": 107,
   "id": "272f8795-0ea3-4715-9f5d-40ba2a8cd6b1",
   "metadata": {},
   "outputs": [],
   "source": [
    "metrics =  {y:{x: dict() for x in corr_type_range} for y in reg_range}\n",
    "# for samples in [100,1000,5000]:\n",
    "#     for corr_type in corr_type_range:\n",
    "#         for reg in reg_range:\n",
    "#             metrics[reg][corr_type][samples] = 'mean','error'"
   ]
  },
  {
   "cell_type": "code",
   "execution_count": 109,
   "id": "3ab8ccf8-ab58-4c87-bbf5-d949a6d5b8ce",
   "metadata": {
    "collapsed": true,
    "jupyter": {
     "outputs_hidden": true
    },
    "tags": []
   },
   "outputs": [
    {
     "name": "stdout",
     "output_type": "stream",
     "text": [
      "100 LinearRegression() max_corr\n",
      "0.05 0.00998749217771909\n",
      "-----------------------\n",
      "100 RidgeCV(alphas=array([ 0.1,  1. , 10. ])) max_corr\n",
      "0.044 0.009144501954726676\n",
      "-----------------------\n",
      "100 PLSRegression(n_components=1) max_corr\n",
      "0.058 0.010332078009771317\n",
      "-----------------------\n",
      "100 LinearRegression() max_corr_shuffle\n",
      "0.072 0.011091816803391589\n",
      "-----------------------\n",
      "100 RidgeCV(alphas=array([ 0.1,  1. , 10. ])) max_corr_shuffle\n",
      "0.042 0.008886028359171492\n",
      "-----------------------\n",
      "100 PLSRegression(n_components=1) max_corr_shuffle\n",
      "0.07 0.011921864115984546\n",
      "-----------------------\n",
      "100 LinearRegression() gcm\n",
      "0.068 0.01116697344852221\n",
      "-----------------------\n",
      "100 RidgeCV(alphas=array([ 0.1,  1. , 10. ])) gcm\n",
      "0.096 0.013251895562522367\n",
      "-----------------------\n",
      "100 PLSRegression(n_components=1) gcm\n",
      "0.064 0.010632854743670676\n",
      "-----------------------\n",
      "100 LinearRegression() gcm_shuffle\n",
      "0.028 0.007527221001139796\n",
      "-----------------------\n",
      "100 RidgeCV(alphas=array([ 0.1,  1. , 10. ])) gcm_shuffle\n",
      "0.022 0.006813534765450309\n",
      "-----------------------\n",
      "100 PLSRegression(n_components=1) gcm_shuffle\n",
      "0.022 0.006550933979212429\n",
      "-----------------------\n",
      "100 LinearRegression() gcm_gmb\n",
      "0.064 0.010918621891062992\n",
      "-----------------------\n",
      "100 RidgeCV(alphas=array([ 0.1,  1. , 10. ])) gcm_gmb\n",
      "0.074 0.012149893003644104\n",
      "-----------------------\n",
      "100 PLSRegression(n_components=1) gcm_gmb\n",
      "0.068 0.011344572446769424\n",
      "-----------------------\n",
      "1000 LinearRegression() max_corr\n",
      "0.07 0.011033544308154113\n",
      "-----------------------\n",
      "1000 RidgeCV(alphas=array([ 0.1,  1. , 10. ])) max_corr\n",
      "0.064 0.011042447373657706\n",
      "-----------------------\n",
      "1000 PLSRegression(n_components=1) max_corr\n",
      "0.064 0.010879017602706598\n",
      "-----------------------\n",
      "1000 LinearRegression() max_corr_shuffle\n",
      "0.062 0.011175501062592227\n",
      "-----------------------\n",
      "1000 RidgeCV(alphas=array([ 0.1,  1. , 10. ])) max_corr_shuffle\n",
      "0.032 0.00778709085602576\n",
      "-----------------------\n",
      "1000 PLSRegression(n_components=1) max_corr_shuffle\n",
      "0.05 0.009328211832929182\n",
      "-----------------------\n",
      "1000 LinearRegression() gcm\n",
      "0.046 0.009415747660170169\n",
      "-----------------------\n",
      "1000 RidgeCV(alphas=array([ 0.1,  1. , 10. ])) gcm\n",
      "0.052 0.009800326525172516\n",
      "-----------------------\n",
      "1000 PLSRegression(n_components=1) gcm\n",
      "0.03 0.007754504239472695\n",
      "-----------------------\n",
      "1000 LinearRegression() gcm_shuffle\n",
      "0.024 0.0067368016150098995\n",
      "-----------------------\n",
      "1000 RidgeCV(alphas=array([ 0.1,  1. , 10. ])) gcm_shuffle\n",
      "0.036 0.008329607673834345\n",
      "-----------------------\n",
      "1000 PLSRegression(n_components=1) gcm_shuffle\n",
      "0.032 0.007783818086260752\n",
      "-----------------------\n",
      "1000 LinearRegression() gcm_gmb\n",
      "0.312 0.019528322406187383\n",
      "-----------------------\n",
      "1000 RidgeCV(alphas=array([ 0.1,  1. , 10. ])) gcm_gmb\n",
      "0.324 0.02051257087739126\n",
      "-----------------------\n",
      "1000 PLSRegression(n_components=1) gcm_gmb\n",
      "0.32 0.020718491740471846\n",
      "-----------------------\n",
      "5000 LinearRegression() max_corr\n",
      "0.054 0.009930829572598656\n",
      "-----------------------\n",
      "5000 RidgeCV(alphas=array([ 0.1,  1. , 10. ])) max_corr\n",
      "0.056 0.010244080437013369\n",
      "-----------------------\n",
      "5000 PLSRegression(n_components=1) max_corr\n",
      "0.046 0.00953173037805833\n",
      "-----------------------\n",
      "5000 LinearRegression() max_corr_shuffle\n",
      "0.064 0.010750251159856684\n",
      "-----------------------\n",
      "5000 RidgeCV(alphas=array([ 0.1,  1. , 10. ])) max_corr_shuffle\n",
      "0.048 0.009575685040768623\n",
      "-----------------------\n",
      "5000 PLSRegression(n_components=1) max_corr_shuffle\n",
      "0.048 0.009565731336390333\n",
      "-----------------------\n",
      "5000 LinearRegression() gcm\n",
      "0.034 0.008246205187842467\n",
      "-----------------------\n",
      "5000 RidgeCV(alphas=array([ 0.1,  1. , 10. ])) gcm\n",
      "0.044 0.00955646378112741\n",
      "-----------------------\n",
      "5000 PLSRegression(n_components=1) gcm\n",
      "0.062 0.011378231672803996\n",
      "-----------------------\n",
      "5000 LinearRegression() gcm_shuffle\n",
      "0.032 0.007685070982105501\n",
      "-----------------------\n",
      "5000 RidgeCV(alphas=array([ 0.1,  1. , 10. ])) gcm_shuffle\n",
      "0.028 0.007287242276746397\n",
      "-----------------------\n",
      "5000 PLSRegression(n_components=1) gcm_shuffle\n",
      "0.03 0.007688953114696434\n",
      "-----------------------\n",
      "5000 LinearRegression() gcm_gmb\n",
      "0.9 0.013659903220740633\n",
      "-----------------------\n",
      "5000 RidgeCV(alphas=array([ 0.1,  1. , 10. ])) gcm_gmb\n",
      "0.92 0.012145925901305336\n",
      "-----------------------\n",
      "5000 PLSRegression(n_components=1) gcm_gmb\n",
      "0.92 0.01211907851282431\n",
      "-----------------------\n"
     ]
    }
   ],
   "source": [
    "for samples in [100,1000,5000]:\n",
    "    for corr_type in corr_type_range:\n",
    "        for regr in reg_range:\n",
    "            \n",
    "            if regr == 'ols':\n",
    "                reg = LinearRegression()\n",
    "            elif regr == 'ridge':\n",
    "                reg = RidgeCV()\n",
    "            elif regr == 'pls':\n",
    "                reg = PLSRegression(n_components=1)\n",
    "            else:\n",
    "                raise ValueError(\"Unknown regression type\")\n",
    "            \n",
    "            if 'max_corr' in corr_type:\n",
    "                if 'shuffle' in corr_type:\n",
    "                    cmi = ParCorrMult(\n",
    "                            correlation_type = 'max_corr',\n",
    "                            regularization_model = reg,\n",
    "                            significance = 'shuffle_test',\n",
    "                            sig_blocklength=1,\n",
    "                            sig_samples=200)\n",
    "                else:\n",
    "                    cmi = ParCorrMult(\n",
    "                            correlation_type = 'max_corr',\n",
    "                            regularization_model = reg)\n",
    "                    \n",
    "            elif 'gcm' in corr_type:\n",
    "                if 'shuffle' in corr_type:\n",
    "                    cmi = ParCorrMult(\n",
    "                            correlation_type = 'gcm',\n",
    "                            regularization_model = reg,\n",
    "                            significance = 'shuffle_test',\n",
    "                            sig_blocklength=1,\n",
    "                            sig_samples=200)\n",
    "                elif 'gmb' in corr_type:\n",
    "                    cmi = ParCorrMult(\n",
    "                            correlation_type = 'gcm_gmb',\n",
    "                            regularization_model = reg,\n",
    "                            significance = 'shuffle_test',\n",
    "                            sig_blocklength=1,\n",
    "                            sig_samples=200)\n",
    "                else:\n",
    "                    cmi = ParCorrMult(\n",
    "                            correlation_type = 'gcm',\n",
    "                            regularization_model = reg)\n",
    "                    \n",
    "                    \n",
    "            error = 'type1'\n",
    "            print(samples,reg,corr_type)\n",
    "            metrics[regr][corr_type][samples] = error_rate(error, cmi, realizations, samples, dimxy, dimz)\n",
    "            print('-----------------------')\n",
    "            "
   ]
  },
  {
   "cell_type": "markdown",
   "id": "3c3cdd9e-4c54-4b8b-82da-2a41aea6bc2c",
   "metadata": {
    "tags": []
   },
   "source": [
    "#### 1-50"
   ]
  },
  {
   "cell_type": "code",
   "execution_count": 226,
   "id": "bf11251e-7a76-4591-9692-cca32c6f4de6",
   "metadata": {},
   "outputs": [],
   "source": [
    "dimxy = 1\n",
    "dimz = 50\n",
    "realizations = 500\n",
    "sample_range = [100, 500, 1000]\n",
    "corr_type_range = ['max_corr','max_corr_shuffle','gcm','gcm_shuffle']#,'gcm_gmb']\n",
    "reg_range = ['ols','ridge','pls']\n",
    "\n",
    "error = 'type1'"
   ]
  },
  {
   "cell_type": "code",
   "execution_count": 227,
   "id": "51e04d8b-886f-4eb1-8ba0-8a577fb710fd",
   "metadata": {
    "collapsed": true,
    "jupyter": {
     "outputs_hidden": true
    },
    "tags": []
   },
   "outputs": [
    {
     "name": "stdout",
     "output_type": "stream",
     "text": [
      "100 LinearRegression() max_corr\n",
      "0.056 0.010510899295493226\n",
      "-----------------------\n",
      "100 RidgeCV(alphas=array([ 0.1,  1. , 10. ])) max_corr\n",
      "0.046 0.009071185148590013\n",
      "-----------------------\n",
      "100 PLSRegression(n_components=1) max_corr\n",
      "0.014 0.005341219336443693\n",
      "-----------------------\n",
      "100 LinearRegression() max_corr_shuffle\n",
      "0.046 0.009351171049660038\n",
      "-----------------------\n",
      "100 RidgeCV(alphas=array([ 0.1,  1. , 10. ])) max_corr_shuffle\n",
      "0.054 0.00999617506849495\n",
      "-----------------------\n",
      "100 PLSRegression(n_components=1) max_corr_shuffle\n",
      "0.06 0.010650218964885182\n",
      "-----------------------\n",
      "100 LinearRegression() gcm\n",
      "0.162 0.016416088571885812\n",
      "-----------------------\n",
      "100 RidgeCV(alphas=array([ 0.1,  1. , 10. ])) gcm\n",
      "0.146 0.0153302712304773\n",
      "-----------------------\n",
      "100 PLSRegression(n_components=1) gcm\n",
      "0.09 0.012385852574611084\n",
      "-----------------------\n",
      "100 LinearRegression() gcm_shuffle\n",
      "0.02 0.006096884122238178\n",
      "-----------------------\n",
      "100 RidgeCV(alphas=array([ 0.1,  1. , 10. ])) gcm_shuffle\n",
      "0.032 0.007512185034994812\n",
      "-----------------------\n",
      "100 PLSRegression(n_components=1) gcm_shuffle\n",
      "0.018 0.005905387032193571\n",
      "-----------------------\n",
      "500 LinearRegression() max_corr\n",
      "0.046 0.009279641372380723\n",
      "-----------------------\n",
      "500 RidgeCV(alphas=array([ 0.1,  1. , 10. ])) max_corr\n",
      "0.038 0.008310094102956958\n",
      "-----------------------\n",
      "500 PLSRegression(n_components=1) max_corr\n",
      "0.044 0.00954822685109649\n",
      "-----------------------\n",
      "500 LinearRegression() max_corr_shuffle\n",
      "0.068 0.011220512466015088\n",
      "-----------------------\n",
      "500 RidgeCV(alphas=array([ 0.1,  1. , 10. ])) max_corr_shuffle\n",
      "0.064 0.01075996115234623\n",
      "-----------------------\n",
      "500 PLSRegression(n_components=1) max_corr_shuffle\n",
      "0.058 0.010525587679555\n",
      "-----------------------\n",
      "500 LinearRegression() gcm\n",
      "0.068 0.011230603901838937\n",
      "-----------------------\n",
      "500 RidgeCV(alphas=array([ 0.1,  1. , 10. ])) gcm\n",
      "0.06 0.010768017644859244\n",
      "-----------------------\n",
      "500 PLSRegression(n_components=1) gcm\n",
      "0.078 0.01182681681603296\n",
      "-----------------------\n",
      "500 LinearRegression() gcm_shuffle\n",
      "0.036 0.008272328813580854\n",
      "-----------------------\n",
      "500 RidgeCV(alphas=array([ 0.1,  1. , 10. ])) gcm_shuffle\n",
      "0.034 0.00807726587404426\n",
      "-----------------------\n",
      "500 PLSRegression(n_components=1) gcm_shuffle\n",
      "0.034 0.007762523043444059\n",
      "-----------------------\n",
      "1000 LinearRegression() max_corr\n",
      "0.046 0.00930967238950974\n",
      "-----------------------\n",
      "1000 RidgeCV(alphas=array([ 0.1,  1. , 10. ])) max_corr\n",
      "0.052 0.009947525521455072\n",
      "-----------------------\n",
      "1000 PLSRegression(n_components=1) max_corr\n",
      "0.026 0.007125680599072625\n",
      "-----------------------\n",
      "1000 LinearRegression() max_corr_shuffle\n",
      "0.048 0.00938170048551967\n",
      "-----------------------\n",
      "1000 RidgeCV(alphas=array([ 0.1,  1. , 10. ])) max_corr_shuffle\n",
      "0.058 0.010684523199469408\n",
      "-----------------------\n",
      "1000 PLSRegression(n_components=1) max_corr_shuffle\n",
      "0.066 0.011208325298634046\n",
      "-----------------------\n",
      "1000 LinearRegression() gcm\n",
      "0.052 0.009735689189780045\n",
      "-----------------------\n",
      "1000 RidgeCV(alphas=array([ 0.1,  1. , 10. ])) gcm\n",
      "0.082 0.012198777643682173\n",
      "-----------------------\n",
      "1000 PLSRegression(n_components=1) gcm\n",
      "0.06 0.010484868334891002\n",
      "-----------------------\n",
      "1000 LinearRegression() gcm_shuffle\n",
      "0.028 0.00723999889502754\n",
      "-----------------------\n",
      "1000 RidgeCV(alphas=array([ 0.1,  1. , 10. ])) gcm_shuffle\n",
      "0.022 0.006535955630204354\n",
      "-----------------------\n",
      "1000 PLSRegression(n_components=1) gcm_shuffle\n",
      "0.05 0.009928367237365869\n",
      "-----------------------\n"
     ]
    }
   ],
   "source": [
    "metrics_1_50_type1 = metrics_rate_full(sample_range,corr_type_range,reg_range,error, dimxy, dimz, z_int=None, num_int = None, n_conf = None)"
   ]
  },
  {
   "cell_type": "code",
   "execution_count": 230,
   "id": "00630229-902e-4dc5-ad1c-13046e6b7382",
   "metadata": {
    "collapsed": true,
    "jupyter": {
     "outputs_hidden": true
    },
    "tags": []
   },
   "outputs": [
    {
     "data": {
      "text/plain": [
       "{'ols': {'max_corr': {100: (0.056, 0.010510899295493226),\n",
       "   500: (0.046, 0.009279641372380723),\n",
       "   1000: (0.046, 0.00930967238950974)},\n",
       "  'max_corr_shuffle': {100: (0.046, 0.009351171049660038),\n",
       "   500: (0.068, 0.011220512466015088),\n",
       "   1000: (0.048, 0.00938170048551967)},\n",
       "  'gcm': {100: (0.162, 0.016416088571885812),\n",
       "   500: (0.068, 0.011230603901838937),\n",
       "   1000: (0.052, 0.009735689189780045)},\n",
       "  'gcm_shuffle': {100: (0.02, 0.006096884122238178),\n",
       "   500: (0.036, 0.008272328813580854),\n",
       "   1000: (0.028, 0.00723999889502754)}},\n",
       " 'ridge': {'max_corr': {100: (0.046, 0.009071185148590013),\n",
       "   500: (0.038, 0.008310094102956958),\n",
       "   1000: (0.052, 0.009947525521455072)},\n",
       "  'max_corr_shuffle': {100: (0.054, 0.00999617506849495),\n",
       "   500: (0.064, 0.01075996115234623),\n",
       "   1000: (0.058, 0.010684523199469408)},\n",
       "  'gcm': {100: (0.146, 0.0153302712304773),\n",
       "   500: (0.06, 0.010768017644859244),\n",
       "   1000: (0.082, 0.012198777643682173)},\n",
       "  'gcm_shuffle': {100: (0.032, 0.007512185034994812),\n",
       "   500: (0.034, 0.00807726587404426),\n",
       "   1000: (0.022, 0.006535955630204354)}},\n",
       " 'pls': {'max_corr': {100: (0.014, 0.005341219336443693),\n",
       "   500: (0.044, 0.00954822685109649),\n",
       "   1000: (0.026, 0.007125680599072625)},\n",
       "  'max_corr_shuffle': {100: (0.06, 0.010650218964885182),\n",
       "   500: (0.058, 0.010525587679555),\n",
       "   1000: (0.066, 0.011208325298634046)},\n",
       "  'gcm': {100: (0.09, 0.012385852574611084),\n",
       "   500: (0.078, 0.01182681681603296),\n",
       "   1000: (0.06, 0.010484868334891002)},\n",
       "  'gcm_shuffle': {100: (0.018, 0.005905387032193571),\n",
       "   500: (0.034, 0.007762523043444059),\n",
       "   1000: (0.05, 0.009928367237365869)}}}"
      ]
     },
     "execution_count": 230,
     "metadata": {},
     "output_type": "execute_result"
    }
   ],
   "source": [
    "metrics_1_50_type1"
   ]
  },
  {
   "cell_type": "markdown",
   "id": "78f1b847-92c5-4ad0-8a20-7fc410f5ba05",
   "metadata": {
    "tags": []
   },
   "source": [
    "#### 1-20 (z_int = High)"
   ]
  },
  {
   "cell_type": "code",
   "execution_count": 76,
   "id": "2f3ff618-2d9a-471c-991e-d7f9acba9e96",
   "metadata": {},
   "outputs": [],
   "source": [
    "dimxy = 1\n",
    "dimz = 20\n",
    "realizations = 500\n",
    "sample_range = [100, 200, 500]\n",
    "corr_type_range = ['max_corr','max_corr_shuffle','gcm','gcm_shuffle']#,'gcm_gmb']\n",
    "reg_range = ['ols','ridge','pls']\n",
    "z_int = 'high'\n",
    "\n",
    "error = 'type1'"
   ]
  },
  {
   "cell_type": "code",
   "execution_count": 77,
   "id": "65bf3557-0d73-4cb2-ae97-018c6e854897",
   "metadata": {
    "tags": []
   },
   "outputs": [
    {
     "name": "stdout",
     "output_type": "stream",
     "text": [
      "100 LinearRegression() max_corr\n",
      "0.054 0.00982241497799803\n",
      "-----------------------\n",
      "100 RidgeCV(alphas=array([ 0.1,  1. , 10. ])) max_corr\n",
      "0.066 0.011127821709571016\n",
      "-----------------------\n",
      "100 PLSRegression(n_components=1) max_corr\n",
      "0.03 0.0076558693823758515\n",
      "-----------------------\n",
      "100 LinearRegression() max_corr_shuffle\n",
      "0.04 0.008674416637446003\n",
      "-----------------------\n",
      "100 RidgeCV(alphas=array([ 0.1,  1. , 10. ])) max_corr_shuffle\n",
      "0.054 0.009901631380737219\n",
      "-----------------------\n",
      "100 PLSRegression(n_components=1) max_corr_shuffle\n",
      "0.058 0.010107403227337872\n",
      "-----------------------\n",
      "100 LinearRegression() gcm\n",
      "0.098 0.013118071657069113\n",
      "-----------------------\n",
      "100 RidgeCV(alphas=array([ 0.1,  1. , 10. ])) gcm\n",
      "0.08 0.011926438529586273\n",
      "-----------------------\n",
      "100 PLSRegression(n_components=1) gcm\n",
      "0.066 0.010783281689726925\n",
      "-----------------------\n",
      "100 LinearRegression() gcm_shuffle\n",
      "0.026 0.00694712717603471\n",
      "-----------------------\n",
      "100 RidgeCV(alphas=array([ 0.1,  1. , 10. ])) gcm_shuffle\n",
      "0.03 0.007767665286300639\n",
      "-----------------------\n",
      "100 PLSRegression(n_components=1) gcm_shuffle\n",
      "0.022 0.006348178951478919\n",
      "-----------------------\n",
      "200 LinearRegression() max_corr\n",
      "0.052 0.00987787001331765\n",
      "-----------------------\n",
      "200 RidgeCV(alphas=array([ 0.1,  1. , 10. ])) max_corr\n",
      "0.064 0.010981751954947808\n",
      "-----------------------\n",
      "200 PLSRegression(n_components=1) max_corr\n",
      "0.038 0.008781077610407506\n",
      "-----------------------\n",
      "200 LinearRegression() max_corr_shuffle\n",
      "0.062 0.010985902056727066\n",
      "-----------------------\n",
      "200 RidgeCV(alphas=array([ 0.1,  1. , 10. ])) max_corr_shuffle\n",
      "0.05 0.009806724019773371\n",
      "-----------------------\n",
      "200 PLSRegression(n_components=1) max_corr_shuffle\n",
      "0.072 0.011680554610120188\n",
      "-----------------------\n",
      "200 LinearRegression() gcm\n",
      "0.058 0.01036966171097206\n",
      "-----------------------\n",
      "200 RidgeCV(alphas=array([ 0.1,  1. , 10. ])) gcm\n",
      "0.064 0.011531159698833417\n",
      "-----------------------\n",
      "200 PLSRegression(n_components=1) gcm\n",
      "0.058 0.00989294698257299\n",
      "-----------------------\n",
      "200 LinearRegression() gcm_shuffle\n",
      "0.026 0.00686608330855372\n",
      "-----------------------\n",
      "200 RidgeCV(alphas=array([ 0.1,  1. , 10. ])) gcm_shuffle\n",
      "0.024 0.007074065026560048\n",
      "-----------------------\n",
      "200 PLSRegression(n_components=1) gcm_shuffle\n",
      "0.026 0.006874979563605989\n",
      "-----------------------\n",
      "500 LinearRegression() max_corr\n",
      "0.07 0.01175529429661376\n",
      "-----------------------\n",
      "500 RidgeCV(alphas=array([ 0.1,  1. , 10. ])) max_corr\n",
      "0.036 0.008149879999116552\n",
      "-----------------------\n",
      "500 PLSRegression(n_components=1) max_corr\n",
      "0.038 0.008592990399156746\n",
      "-----------------------\n",
      "500 LinearRegression() max_corr_shuffle\n",
      "0.068 0.010994424768945394\n",
      "-----------------------\n",
      "500 RidgeCV(alphas=array([ 0.1,  1. , 10. ])) max_corr_shuffle\n",
      "0.072 0.01161830211347596\n",
      "-----------------------\n",
      "500 PLSRegression(n_components=1) max_corr_shuffle\n",
      "0.042 0.009277013312483711\n",
      "-----------------------\n",
      "500 LinearRegression() gcm\n",
      "0.052 0.009828105819536134\n",
      "-----------------------\n",
      "500 RidgeCV(alphas=array([ 0.1,  1. , 10. ])) gcm\n",
      "0.038 0.008724357626782616\n",
      "-----------------------\n",
      "500 PLSRegression(n_components=1) gcm\n",
      "0.07 0.011608603016728584\n",
      "-----------------------\n",
      "500 LinearRegression() gcm_shuffle\n",
      "0.03 0.0073272616986156565\n",
      "-----------------------\n",
      "500 RidgeCV(alphas=array([ 0.1,  1. , 10. ])) gcm_shuffle\n",
      "0.044 0.008800127044537483\n",
      "-----------------------\n",
      "500 PLSRegression(n_components=1) gcm_shuffle\n",
      "0.04 0.008603812875696448\n",
      "-----------------------\n"
     ]
    }
   ],
   "source": [
    "metrics_1_20_type1_high = metrics_rate_full(sample_range,corr_type_range,reg_range,error, dimxy, dimz, z_int, num_int = None, n_conf = None)"
   ]
  },
  {
   "cell_type": "code",
   "execution_count": 79,
   "id": "7569d02e-1944-4b6b-8a3d-2d2c50c87915",
   "metadata": {},
   "outputs": [
    {
     "name": "stdout",
     "output_type": "stream",
     "text": [
      "Metrics dump  /Users/urmininad/Documents/Python/Mult_CI_Tests/metrics/1-20-type1-high-None_metrics.dat\n"
     ]
    }
   ],
   "source": [
    "conf = \"1-20-type1-high-None\"\n",
    "file_name = os.path.expanduser('~') + '/Documents/Python/Mult_CI_Tests/metrics/%s' %(conf)\n",
    "\n",
    "print(\"Metrics dump \", file_name.replace(\"'\", \"\").replace('\"', '') + '_metrics.dat')\n",
    "file = open(file_name.replace(\"'\", \"\").replace('\"', '') + '_metrics.dat', 'wb')     \n",
    "pickle.dump(metrics_1_20_type1_high, file, protocol=-1)        \n",
    "file.close()"
   ]
  },
  {
   "cell_type": "code",
   "execution_count": 80,
   "id": "764ac831-c9d4-45f4-9411-5e417fab9cee",
   "metadata": {},
   "outputs": [
    {
     "name": "stdout",
     "output_type": "stream",
     "text": [
      "load from metrics file  /Users/urmininad/Documents/Python/Mult_CI_Tests/metrics/1-20-type1-high-None_metrics.dat \n"
     ]
    }
   ],
   "source": [
    "para_setup = tuple(conf.split(\"-\"))\n",
    "results = get_metrics_from_file(para_setup)"
   ]
  },
  {
   "cell_type": "code",
   "execution_count": 92,
   "id": "efc95957-7fca-417e-99df-2bd16080f032",
   "metadata": {},
   "outputs": [
    {
     "name": "stdout",
     "output_type": "stream",
     "text": [
      "sample range = [100, 200, 500] \n",
      "----\n",
      "load from metrics file  /Users/urmininad/Documents/Python/Mult_CI_Tests/metrics/1-20-type1-None-5_metrics.dat \n"
     ]
    },
    {
     "data": {
      "image/png": "[encoded data removed]",
      "text/plain": [
       "<Figure size 864x288 with 3 Axes>"
      ]
     },
     "metadata": {
      "needs_background": "light"
     },
     "output_type": "display_data"
    }
   ],
   "source": [
    "anyconfigurations = [] \n",
    "for dimxy in [1]:\n",
    "    for dimz in [20]:\n",
    "        for err_type in ['type1']:\n",
    "            for z_int in ['None']:\n",
    "                for n_conf in ['5']:\n",
    "                    para_setup = (dimxy,dimz,err_type,z_int,n_conf)\n",
    "                    name = '%s-'*len(para_setup) % para_setup\n",
    "                    name = name[:-1]\n",
    "                    anyconfigurations += [name]\n",
    "\n",
    "#anyconfigurations[0]\n",
    "gen_plots_sample_size(anyconfigurations, save = 'yes')"
   ]
  },
  {
   "cell_type": "markdown",
   "id": "25cb2d1c-1c8b-4162-b009-c2f8fa20b2b7",
   "metadata": {
    "jp-MarkdownHeadingCollapsed": true,
    "tags": []
   },
   "source": [
    "### Type 2"
   ]
  },
  {
   "cell_type": "markdown",
   "id": "1e7bb4ac-d8e1-4078-9ad5-0595e5f4d2ed",
   "metadata": {
    "tags": []
   },
   "source": [
    "#### 1-20 (z_int = High)"
   ]
  },
  {
   "cell_type": "code",
   "execution_count": 83,
   "id": "15dc62ea-00da-4a1b-85a9-c123ed573528",
   "metadata": {},
   "outputs": [],
   "source": [
    "dimxy = 1\n",
    "dimz = 20\n",
    "realizations = 500\n",
    "z_int = 'high'\n",
    "#n_conf = 5\n",
    "sample_range = [100,200,500]\n",
    "corr_type_range = ['max_corr','max_corr_shuffle','gcm','gcm_shuffle']#,'gcm_gmb']\n",
    "reg_range = ['ols','ridge','pls']\n",
    "\n",
    "error = 'type2'"
   ]
  },
  {
   "cell_type": "code",
   "execution_count": 84,
   "id": "38fcce5a-7239-4aff-9b9d-bd40c0cf8d10",
   "metadata": {
    "collapsed": true,
    "jupyter": {
     "outputs_hidden": true
    },
    "tags": []
   },
   "outputs": [
    {
     "name": "stdout",
     "output_type": "stream",
     "text": [
      "100 LinearRegression() max_corr\n",
      "0.726 0.02018259487776536\n",
      "-----------------------\n",
      "100 RidgeCV(alphas=array([ 0.1,  1. , 10. ])) max_corr\n",
      "0.742 0.018269512965593815\n",
      "-----------------------\n",
      "100 PLSRegression(n_components=1) max_corr\n",
      "0.754 0.019647534196432913\n",
      "-----------------------\n",
      "100 LinearRegression() max_corr_shuffle\n",
      "0.766 0.01916133440029688\n",
      "-----------------------\n",
      "100 RidgeCV(alphas=array([ 0.1,  1. , 10. ])) max_corr_shuffle\n",
      "0.786 0.018771748560003677\n",
      "-----------------------\n",
      "100 PLSRegression(n_components=1) max_corr_shuffle\n",
      "0.794 0.018873897318783944\n",
      "-----------------------\n",
      "100 LinearRegression() gcm\n",
      "0.82 0.016480263954196824\n",
      "-----------------------\n",
      "100 RidgeCV(alphas=array([ 0.1,  1. , 10. ])) gcm\n",
      "0.792 0.017817073946077674\n",
      "-----------------------\n",
      "100 PLSRegression(n_components=1) gcm\n",
      "0.846 0.015841076226064954\n",
      "-----------------------\n",
      "100 LinearRegression() gcm_shuffle\n",
      "0.642 0.02151219189204114\n",
      "-----------------------\n",
      "100 RidgeCV(alphas=array([ 0.1,  1. , 10. ])) gcm_shuffle\n",
      "0.658 0.020758651208592528\n",
      "-----------------------\n",
      "100 PLSRegression(n_components=1) gcm_shuffle\n",
      "0.716 0.019332219634589302\n",
      "-----------------------\n",
      "200 LinearRegression() max_corr\n",
      "0.98 0.006417818944158527\n",
      "-----------------------\n",
      "200 RidgeCV(alphas=array([ 0.1,  1. , 10. ])) max_corr\n",
      "0.96 0.00855853048133849\n",
      "-----------------------\n",
      "200 PLSRegression(n_components=1) max_corr\n",
      "0.982 0.005984732575479047\n",
      "-----------------------\n",
      "200 LinearRegression() max_corr_shuffle\n",
      "0.982 0.005890570091256029\n",
      "-----------------------\n",
      "200 RidgeCV(alphas=array([ 0.1,  1. , 10. ])) max_corr_shuffle\n",
      "0.98 0.006052051222519524\n",
      "-----------------------\n",
      "200 PLSRegression(n_components=1) max_corr_shuffle\n",
      "0.978 0.006575371928644043\n",
      "-----------------------\n",
      "200 LinearRegression() gcm\n",
      "0.97 0.007455701442520354\n",
      "-----------------------\n",
      "200 RidgeCV(alphas=array([ 0.1,  1. , 10. ])) gcm\n",
      "0.986 0.0053297939922664975\n",
      "-----------------------\n",
      "200 PLSRegression(n_components=1) gcm\n",
      "0.98 0.00613516552343945\n",
      "-----------------------\n",
      "200 LinearRegression() gcm_shuffle\n",
      "0.948 0.009941227087236248\n",
      "-----------------------\n",
      "200 RidgeCV(alphas=array([ 0.1,  1. , 10. ])) gcm_shuffle\n",
      "0.948 0.01035845374561279\n",
      "-----------------------\n",
      "200 PLSRegression(n_components=1) gcm_shuffle\n",
      "0.974 0.007170432344008281\n",
      "-----------------------\n",
      "500 LinearRegression() max_corr\n",
      "1.0 0.0\n",
      "-----------------------\n",
      "500 RidgeCV(alphas=array([ 0.1,  1. , 10. ])) max_corr\n",
      "1.0 0.0\n",
      "-----------------------\n",
      "500 PLSRegression(n_components=1) max_corr\n",
      "1.0 0.0\n",
      "-----------------------\n",
      "500 LinearRegression() max_corr_shuffle\n",
      "1.0 0.0\n",
      "-----------------------\n",
      "500 RidgeCV(alphas=array([ 0.1,  1. , 10. ])) max_corr_shuffle\n",
      "1.0 0.0\n",
      "-----------------------\n",
      "500 PLSRegression(n_components=1) max_corr_shuffle\n",
      "1.0 0.0\n",
      "-----------------------\n",
      "500 LinearRegression() gcm\n",
      "1.0 0.0\n",
      "-----------------------\n",
      "500 RidgeCV(alphas=array([ 0.1,  1. , 10. ])) gcm\n",
      "1.0 0.0\n",
      "-----------------------\n",
      "500 PLSRegression(n_components=1) gcm\n",
      "1.0 0.0\n",
      "-----------------------\n",
      "500 LinearRegression() gcm_shuffle\n",
      "1.0 0.0\n",
      "-----------------------\n",
      "500 RidgeCV(alphas=array([ 0.1,  1. , 10. ])) gcm_shuffle\n",
      "1.0 0.0\n",
      "-----------------------\n",
      "500 PLSRegression(n_components=1) gcm_shuffle\n",
      "1.0 0.0\n",
      "-----------------------\n"
     ]
    }
   ],
   "source": [
    "metrics_1_20_type2_high = metrics_rate_full(sample_range,corr_type_range,reg_range,error, dimxy, dimz, z_int, num_int = None, n_conf = None)"
   ]
  },
  {
   "cell_type": "code",
   "execution_count": 85,
   "id": "5f9c6709-d993-4f78-a445-4f8a07570ca0",
   "metadata": {},
   "outputs": [
    {
     "name": "stdout",
     "output_type": "stream",
     "text": [
      "Metrics dump  /Users/urmininad/Documents/Python/Mult_CI_Tests/metrics/1-20-type2-high-None_metrics.dat\n"
     ]
    }
   ],
   "source": [
    "conf = \"1-20-type2-high-None\"\n",
    "file_name = os.path.expanduser('~') + '/Documents/Python/Mult_CI_Tests/metrics/%s' %(conf)\n",
    "\n",
    "print(\"Metrics dump \", file_name.replace(\"'\", \"\").replace('\"', '') + '_metrics.dat')\n",
    "file = open(file_name.replace(\"'\", \"\").replace('\"', '') + '_metrics.dat', 'wb')     \n",
    "pickle.dump(metrics_1_20_type2_high, file, protocol=-1)        \n",
    "file.close()"
   ]
  },
  {
   "cell_type": "code",
   "execution_count": 86,
   "id": "8ac97cf7-943c-4ee6-9952-1f565c6f7ffb",
   "metadata": {},
   "outputs": [
    {
     "name": "stdout",
     "output_type": "stream",
     "text": [
      "load from metrics file  /Users/urmininad/Documents/Python/Mult_CI_Tests/metrics/1-20-type2-high-None_metrics.dat \n"
     ]
    }
   ],
   "source": [
    "para_setup = tuple(conf.split(\"-\"))\n",
    "results = get_metrics_from_file(para_setup)"
   ]
  },
  {
   "cell_type": "code",
   "execution_count": 93,
   "id": "d2058bb4-04ad-4650-ad83-ebf65f82c8e5",
   "metadata": {},
   "outputs": [
    {
     "name": "stdout",
     "output_type": "stream",
     "text": [
      "sample range = [100, 200, 500] \n",
      "----\n",
      "load from metrics file  /Users/urmininad/Documents/Python/Mult_CI_Tests/metrics/1-20-type2-None-5_metrics.dat \n"
     ]
    },
    {
     "data": {
      "image/png": "[encoded data removed]",
      "text/plain": [
       "<Figure size 864x288 with 3 Axes>"
      ]
     },
     "metadata": {
      "needs_background": "light"
     },
     "output_type": "display_data"
    }
   ],
   "source": [
    "anyconfigurations = [] \n",
    "for dimxy in [1]:\n",
    "    for dimz in [20]:\n",
    "        for err_type in ['type2']:\n",
    "            for z_int in ['None']:\n",
    "                for n_conf in ['5']:\n",
    "                    para_setup = (dimxy,dimz,err_type,z_int,n_conf)\n",
    "                    name = '%s-'*len(para_setup) % para_setup\n",
    "                    name = name[:-1]\n",
    "                    anyconfigurations += [name]\n",
    "\n",
    "#anyconfigurations[0]\n",
    "gen_plots_sample_size(anyconfigurations, save = 'yes')"
   ]
  },
  {
   "cell_type": "code",
   "execution_count": null,
   "id": "70f2bae2-5899-42aa-bba4-7ede20ef7709",
   "metadata": {},
   "outputs": [],
   "source": []
  },
  {
   "cell_type": "markdown",
   "id": "91df1f2c-a379-4d2d-b0cb-a908d8687c01",
   "metadata": {
    "jp-MarkdownHeadingCollapsed": true,
    "tags": []
   },
   "source": [
    "#### 1-50"
   ]
  },
  {
   "cell_type": "code",
   "execution_count": 228,
   "id": "44d96765-da64-4ec4-80ea-78e61ce72d45",
   "metadata": {},
   "outputs": [],
   "source": [
    "dimxy = 1\n",
    "dimz = 50\n",
    "realizations = 500\n",
    "sample_range = [100, 500, 1000]\n",
    "corr_type_range = ['max_corr','max_corr_shuffle','gcm','gcm_shuffle']#,'gcm_gmb']\n",
    "reg_range = ['ols','ridge','pls']\n",
    "\n",
    "error = 'type2'"
   ]
  },
  {
   "cell_type": "code",
   "execution_count": 229,
   "id": "165e35f0-e8f0-4c46-803e-89f88a5f1191",
   "metadata": {
    "collapsed": true,
    "jupyter": {
     "outputs_hidden": true
    },
    "tags": []
   },
   "outputs": [
    {
     "name": "stdout",
     "output_type": "stream",
     "text": [
      "100 LinearRegression() max_corr\n",
      "0.594 0.021907660395395948\n",
      "-----------------------\n",
      "100 RidgeCV(alphas=array([ 0.1,  1. , 10. ])) max_corr\n",
      "0.514 0.022659941659236474\n",
      "-----------------------\n",
      "100 PLSRegression(n_components=1) max_corr\n",
      "0.544 0.022650580478212903\n",
      "-----------------------\n",
      "100 LinearRegression() max_corr_shuffle\n",
      "0.564 0.022267490563599637\n",
      "-----------------------\n",
      "100 RidgeCV(alphas=array([ 0.1,  1. , 10. ])) max_corr_shuffle\n",
      "0.592 0.022674260649467717\n",
      "-----------------------\n",
      "100 PLSRegression(n_components=1) max_corr_shuffle\n",
      "0.744 0.019389725526680376\n",
      "-----------------------\n",
      "100 LinearRegression() gcm\n",
      "0.772 0.018224322099875224\n",
      "-----------------------\n",
      "100 RidgeCV(alphas=array([ 0.1,  1. , 10. ])) gcm\n",
      "0.714 0.02053456948659991\n",
      "-----------------------\n",
      "100 PLSRegression(n_components=1) gcm\n",
      "0.81 0.01720623142933975\n",
      "-----------------------\n",
      "100 LinearRegression() gcm_shuffle\n",
      "0.396 0.021254748081311146\n",
      "-----------------------\n",
      "100 RidgeCV(alphas=array([ 0.1,  1. , 10. ])) gcm_shuffle\n",
      "0.46 0.021799997706421898\n",
      "-----------------------\n",
      "100 PLSRegression(n_components=1) gcm_shuffle\n",
      "0.612 0.021006846502985656\n",
      "-----------------------\n",
      "500 LinearRegression() max_corr\n",
      "1.0 0.0\n",
      "-----------------------\n",
      "500 RidgeCV(alphas=array([ 0.1,  1. , 10. ])) max_corr\n",
      "1.0 0.0\n",
      "-----------------------\n",
      "500 PLSRegression(n_components=1) max_corr\n",
      "1.0 0.0\n",
      "-----------------------\n",
      "500 LinearRegression() max_corr_shuffle\n",
      "1.0 0.0\n",
      "-----------------------\n",
      "500 RidgeCV(alphas=array([ 0.1,  1. , 10. ])) max_corr_shuffle\n",
      "1.0 0.0\n",
      "-----------------------\n",
      "500 PLSRegression(n_components=1) max_corr_shuffle\n",
      "1.0 0.0\n",
      "-----------------------\n",
      "500 LinearRegression() gcm\n",
      "1.0 0.0\n",
      "-----------------------\n",
      "500 RidgeCV(alphas=array([ 0.1,  1. , 10. ])) gcm\n",
      "1.0 0.0\n",
      "-----------------------\n",
      "500 PLSRegression(n_components=1) gcm\n",
      "1.0 0.0\n",
      "-----------------------\n",
      "500 LinearRegression() gcm_shuffle\n",
      "1.0 0.0\n",
      "-----------------------\n",
      "500 RidgeCV(alphas=array([ 0.1,  1. , 10. ])) gcm_shuffle\n",
      "1.0 0.0\n",
      "-----------------------\n",
      "500 PLSRegression(n_components=1) gcm_shuffle\n",
      "0.998 0.002056520362165181\n",
      "-----------------------\n",
      "1000 LinearRegression() max_corr\n",
      "1.0 0.0\n",
      "-----------------------\n",
      "1000 RidgeCV(alphas=array([ 0.1,  1. , 10. ])) max_corr\n",
      "1.0 0.0\n",
      "-----------------------\n",
      "1000 PLSRegression(n_components=1) max_corr\n",
      "1.0 0.0\n",
      "-----------------------\n",
      "1000 LinearRegression() max_corr_shuffle\n",
      "1.0 0.0\n",
      "-----------------------\n",
      "1000 RidgeCV(alphas=array([ 0.1,  1. , 10. ])) max_corr_shuffle\n",
      "1.0 0.0\n",
      "-----------------------\n",
      "1000 PLSRegression(n_components=1) max_corr_shuffle\n",
      "1.0 0.0\n",
      "-----------------------\n",
      "1000 LinearRegression() gcm\n",
      "1.0 0.0\n",
      "-----------------------\n",
      "1000 RidgeCV(alphas=array([ 0.1,  1. , 10. ])) gcm\n",
      "1.0 0.0\n",
      "-----------------------\n",
      "1000 PLSRegression(n_components=1) gcm\n",
      "1.0 0.0\n",
      "-----------------------\n",
      "1000 LinearRegression() gcm_shuffle\n",
      "1.0 0.0\n",
      "-----------------------\n",
      "1000 RidgeCV(alphas=array([ 0.1,  1. , 10. ])) gcm_shuffle\n",
      "1.0 0.0\n",
      "-----------------------\n",
      "1000 PLSRegression(n_components=1) gcm_shuffle\n",
      "1.0 0.0\n",
      "-----------------------\n"
     ]
    }
   ],
   "source": [
    "metrics_1_50_type2 = metrics_rate_full(sample_range,corr_type_range,reg_range,error, dimxy, dimz, z_int=None, num_int = None, n_conf = None)"
   ]
  },
  {
   "cell_type": "code",
   "execution_count": 231,
   "id": "8eddc553-6ec7-4bd4-a07f-bfaeda3b039a",
   "metadata": {
    "collapsed": true,
    "jupyter": {
     "outputs_hidden": true
    },
    "tags": []
   },
   "outputs": [
    {
     "data": {
      "text/plain": [
       "{'ols': {'max_corr': {100: (0.594, 0.021907660395395948),\n",
       "   500: (1.0, 0.0),\n",
       "   1000: (1.0, 0.0)},\n",
       "  'max_corr_shuffle': {100: (0.564, 0.022267490563599637),\n",
       "   500: (1.0, 0.0),\n",
       "   1000: (1.0, 0.0)},\n",
       "  'gcm': {100: (0.772, 0.018224322099875224),\n",
       "   500: (1.0, 0.0),\n",
       "   1000: (1.0, 0.0)},\n",
       "  'gcm_shuffle': {100: (0.396, 0.021254748081311146),\n",
       "   500: (1.0, 0.0),\n",
       "   1000: (1.0, 0.0)}},\n",
       " 'ridge': {'max_corr': {100: (0.514, 0.022659941659236474),\n",
       "   500: (1.0, 0.0),\n",
       "   1000: (1.0, 0.0)},\n",
       "  'max_corr_shuffle': {100: (0.592, 0.022674260649467717),\n",
       "   500: (1.0, 0.0),\n",
       "   1000: (1.0, 0.0)},\n",
       "  'gcm': {100: (0.714, 0.02053456948659991),\n",
       "   500: (1.0, 0.0),\n",
       "   1000: (1.0, 0.0)},\n",
       "  'gcm_shuffle': {100: (0.46, 0.021799997706421898),\n",
       "   500: (1.0, 0.0),\n",
       "   1000: (1.0, 0.0)}},\n",
       " 'pls': {'max_corr': {100: (0.544, 0.022650580478212903),\n",
       "   500: (1.0, 0.0),\n",
       "   1000: (1.0, 0.0)},\n",
       "  'max_corr_shuffle': {100: (0.744, 0.019389725526680376),\n",
       "   500: (1.0, 0.0),\n",
       "   1000: (1.0, 0.0)},\n",
       "  'gcm': {100: (0.81, 0.01720623142933975), 500: (1.0, 0.0), 1000: (1.0, 0.0)},\n",
       "  'gcm_shuffle': {100: (0.612, 0.021006846502985656),\n",
       "   500: (0.998, 0.002056520362165181),\n",
       "   1000: (1.0, 0.0)}}}"
      ]
     },
     "execution_count": 231,
     "metadata": {},
     "output_type": "execute_result"
    }
   ],
   "source": [
    "metrics_1_50_type2"
   ]
  },
  {
   "cell_type": "markdown",
   "id": "7b02037f-eef2-46c9-9d2e-11a63b4c66d3",
   "metadata": {
    "tags": []
   },
   "source": [
    "### Dump Metrics"
   ]
  },
  {
   "cell_type": "code",
   "execution_count": 235,
   "id": "15572771-1db1-4982-a730-cb04382ed114",
   "metadata": {},
   "outputs": [
    {
     "name": "stdout",
     "output_type": "stream",
     "text": [
      "Metrics dump  /Users/urmininad/Documents/Python/Mult_CI_Tests/metrics/1-50-type2-None-None_metrics.dat\n"
     ]
    }
   ],
   "source": [
    "#conf = \"1-20-type1-None-None\"\n",
    "conf = \"1-50-type2-None-None\"\n",
    "file_name = os.path.expanduser('~') + '/Documents/Python/Mult_CI_Tests/metrics/%s' %(conf)\n",
    "\n",
    "print(\"Metrics dump \", file_name.replace(\"'\", \"\").replace('\"', '') + '_metrics.dat')\n",
    "file = open(file_name.replace(\"'\", \"\").replace('\"', '') + '_metrics.dat', 'wb')\n",
    "#pickle.dump(metrics, file, protocol=-1)        \n",
    "pickle.dump(metrics_1_50_type2, file, protocol=-1)        \n",
    "file.close()"
   ]
  },
  {
   "cell_type": "code",
   "execution_count": 236,
   "id": "3bf95ab5-55b7-4258-87ff-95180c1d2f55",
   "metadata": {},
   "outputs": [],
   "source": [
    "folder_name = os.path.expanduser('~') + '/Documents/Python/Mult_CI_Tests/metrics/'\n",
    "def get_metrics_from_file(para_setup):\n",
    "\n",
    "    name_string = '%s-'*len(para_setup)  # % para_setup\n",
    "    #print(name_string)\n",
    "    name_string = name_string[:-1]\n",
    "    #print(name_string% (para_setup))\n",
    "\n",
    "    try:\n",
    "        print(\"load from metrics file  %s_metrics.dat \" % (folder_name + name_string % (para_setup)))\n",
    "        results = pickle.load(open(folder_name + name_string % (para_setup) + '_metrics.dat', 'rb'), encoding='latin1')\n",
    "    except:\n",
    "        print('***---*** failed from metrics file '  , (para_setup))\n",
    "        return None\n",
    "\n",
    "    return results"
   ]
  },
  {
   "cell_type": "code",
   "execution_count": 237,
   "id": "4cd21013-2854-44b4-b20e-218fa8e7d3ad",
   "metadata": {},
   "outputs": [
    {
     "name": "stdout",
     "output_type": "stream",
     "text": [
      "load from metrics file  /Users/urmininad/Documents/Python/Mult_CI_Tests/metrics/1-50-type2-None-None_metrics.dat \n"
     ]
    }
   ],
   "source": [
    "para_setup = tuple(conf.split(\"-\"))\n",
    "results = get_metrics_from_file(para_setup)"
   ]
  },
  {
   "cell_type": "markdown",
   "id": "79851c4c-5a3a-4269-a1fa-924e9b8d1f2f",
   "metadata": {
    "tags": []
   },
   "source": [
    "## (ii) n_conf = 5 (i.e. 5 components of Z act as confounders)"
   ]
  },
  {
   "cell_type": "code",
   "execution_count": 327,
   "id": "e35cf3fa-83a3-4700-9515-3b39d37bfeb8",
   "metadata": {},
   "outputs": [],
   "source": [
    "dimxy = 1\n",
    "dimz = 20\n",
    "realizations = 500\n",
    "n_conf = 5"
   ]
  },
  {
   "cell_type": "code",
   "execution_count": 328,
   "id": "14580bf3-f9ec-4691-bddf-7fdab411118b",
   "metadata": {},
   "outputs": [],
   "source": [
    "corr_type_range = ['max_corr','max_corr_shuffle','gcm','gcm_shuffle','gcm_gmb']\n",
    "reg_range = ['ols','ridge','pls']\n",
    "sample_range = [100,1000,5000]"
   ]
  },
  {
   "cell_type": "markdown",
   "id": "c66b5fe7-a23b-4a3d-925c-59311e5985d0",
   "metadata": {
    "tags": []
   },
   "source": [
    "### Type 1"
   ]
  },
  {
   "cell_type": "code",
   "execution_count": 112,
   "id": "0373cc28-620a-4492-bea4-12c916a95911",
   "metadata": {},
   "outputs": [],
   "source": [
    "metrics_nconf =  {y:{x: dict() for x in corr_type_range} for y in reg_range}"
   ]
  },
  {
   "cell_type": "code",
   "execution_count": 117,
   "id": "292658e0-d002-4923-bdd0-124b281a99ba",
   "metadata": {},
   "outputs": [],
   "source": [
    "def metrics_rate(sample_range,corr_type_range,reg_range,error = 'type1'):\n",
    "\n",
    "    for samples in sample_range:\n",
    "        for corr_type in corr_type_range:\n",
    "            for regr in reg_range:\n",
    "\n",
    "                if regr == 'ols':\n",
    "                    reg = LinearRegression()\n",
    "                elif regr == 'ridge':\n",
    "                    reg = RidgeCV()\n",
    "                elif regr == 'pls':\n",
    "                    reg = PLSRegression(n_components=1)\n",
    "                else:\n",
    "                    raise ValueError(\"Unknown regression type\")\n",
    "\n",
    "                if 'max_corr' in corr_type:\n",
    "                    if 'shuffle' in corr_type:\n",
    "                        cmi = ParCorrMult(\n",
    "                                correlation_type = 'max_corr',\n",
    "                                regularization_model = reg,\n",
    "                                significance = 'shuffle_test',\n",
    "                                sig_blocklength=1,\n",
    "                                sig_samples=200)\n",
    "                    else:\n",
    "                        cmi = ParCorrMult(\n",
    "                                correlation_type = 'max_corr',\n",
    "                                regularization_model = reg)\n",
    "\n",
    "                elif 'gcm' in corr_type:\n",
    "                    if 'shuffle' in corr_type:\n",
    "                        cmi = ParCorrMult(\n",
    "                                correlation_type = 'gcm',\n",
    "                                regularization_model = reg,\n",
    "                                significance = 'shuffle_test',\n",
    "                                sig_blocklength=1,\n",
    "                                sig_samples=200)\n",
    "                    elif 'gmb' in corr_type:\n",
    "                        cmi = ParCorrMult(\n",
    "                                correlation_type = 'gcm_gmb',\n",
    "                                regularization_model = reg,\n",
    "                                significance = 'shuffle_test',\n",
    "                                sig_blocklength=1,\n",
    "                                sig_samples=200)\n",
    "                    else:\n",
    "                        cmi = ParCorrMult(\n",
    "                                correlation_type = 'gcm',\n",
    "                                regularization_model = reg)\n",
    "\n",
    "                print(samples,reg,corr_type)\n",
    "                metrics_nconf[regr][corr_type][samples] = error_rate(error, cmi, realizations, samples, dimxy, dimz, z_int=None, num_int = None, n_conf = n_conf)\n",
    "                print('-----------------------')\n",
    "                \n",
    "    return metrics_nconf\n"
   ]
  },
  {
   "cell_type": "code",
   "execution_count": 118,
   "id": "14f6ecef-e254-4f54-9c4d-0c3df3bcea4f",
   "metadata": {
    "collapsed": true,
    "jupyter": {
     "outputs_hidden": true
    },
    "tags": []
   },
   "outputs": [
    {
     "name": "stdout",
     "output_type": "stream",
     "text": [
      "100 LinearRegression() max_corr\n",
      "0.056 0.010079647612888062\n",
      "-----------------------\n",
      "100 RidgeCV(alphas=array([ 0.1,  1. , 10. ])) max_corr\n",
      "0.042 0.00859404072599147\n",
      "-----------------------\n",
      "100 PLSRegression(n_components=1) max_corr\n",
      "0.05 0.009448653660707436\n",
      "-----------------------\n",
      "100 LinearRegression() max_corr_shuffle\n",
      "0.058 0.010713558512464475\n",
      "-----------------------\n",
      "100 RidgeCV(alphas=array([ 0.1,  1. , 10. ])) max_corr_shuffle\n",
      "0.066 0.010948303247535665\n",
      "-----------------------\n",
      "100 PLSRegression(n_components=1) max_corr_shuffle\n",
      "0.058 0.010458771629593985\n",
      "-----------------------\n",
      "100 LinearRegression() gcm\n",
      "0.096 0.013419537845991567\n",
      "-----------------------\n",
      "100 RidgeCV(alphas=array([ 0.1,  1. , 10. ])) gcm\n",
      "0.076 0.011835728283464436\n",
      "-----------------------\n",
      "100 PLSRegression(n_components=1) gcm\n",
      "0.086 0.012458372124800254\n",
      "-----------------------\n",
      "100 LinearRegression() gcm_shuffle\n",
      "0.028 0.007274608992928761\n",
      "-----------------------\n",
      "100 RidgeCV(alphas=array([ 0.1,  1. , 10. ])) gcm_shuffle\n",
      "0.04 0.008875984452442445\n",
      "-----------------------\n",
      "100 PLSRegression(n_components=1) gcm_shuffle\n",
      "0.04 0.008820611316683215\n",
      "-----------------------\n",
      "100 LinearRegression() gcm_gmb\n",
      "0.316 0.02050050379868749\n",
      "-----------------------\n",
      "100 RidgeCV(alphas=array([ 0.1,  1. , 10. ])) gcm_gmb\n",
      "0.342 0.021897155157691143\n",
      "-----------------------\n",
      "100 PLSRegression(n_components=1) gcm_gmb\n",
      "0.378 0.021145637469700464\n",
      "-----------------------\n",
      "1000 LinearRegression() max_corr\n",
      "0.052 0.009856921223181202\n",
      "-----------------------\n",
      "1000 RidgeCV(alphas=array([ 0.1,  1. , 10. ])) max_corr\n",
      "0.048 0.009451362653078128\n",
      "-----------------------\n",
      "1000 PLSRegression(n_components=1) max_corr\n",
      "0.052 0.009925223624684737\n",
      "-----------------------\n",
      "1000 LinearRegression() max_corr_shuffle\n",
      "0.052 0.010013231046969804\n",
      "-----------------------\n",
      "1000 RidgeCV(alphas=array([ 0.1,  1. , 10. ])) max_corr_shuffle\n",
      "0.062 0.01112466017458511\n",
      "-----------------------\n",
      "1000 PLSRegression(n_components=1) max_corr_shuffle\n",
      "0.062 0.010540216126816375\n",
      "-----------------------\n",
      "1000 LinearRegression() gcm\n",
      "0.052 0.010312663283555805\n",
      "-----------------------\n",
      "1000 RidgeCV(alphas=array([ 0.1,  1. , 10. ])) gcm\n",
      "0.052 0.009924792189260186\n",
      "-----------------------\n",
      "1000 PLSRegression(n_components=1) gcm\n",
      "0.056 0.010588963310919535\n",
      "-----------------------\n",
      "1000 LinearRegression() gcm_shuffle\n",
      "0.034 0.00790770662075927\n",
      "-----------------------\n",
      "1000 RidgeCV(alphas=array([ 0.1,  1. , 10. ])) gcm_shuffle\n",
      "0.042 0.008899873257524515\n",
      "-----------------------\n",
      "1000 PLSRegression(n_components=1) gcm_shuffle\n",
      "0.018 0.005868020449862117\n",
      "-----------------------\n",
      "1000 LinearRegression() gcm_gmb\n",
      "1.0 0.0\n",
      "-----------------------\n",
      "1000 RidgeCV(alphas=array([ 0.1,  1. , 10. ])) gcm_gmb\n",
      "1.0 0.0\n",
      "-----------------------\n",
      "1000 PLSRegression(n_components=1) gcm_gmb\n",
      "1.0 0.0\n",
      "-----------------------\n",
      "5000 LinearRegression() max_corr\n",
      "0.056 0.010472140373390724\n",
      "-----------------------\n",
      "5000 RidgeCV(alphas=array([ 0.1,  1. , 10. ])) max_corr\n",
      "0.044 0.009478556641176968\n",
      "-----------------------\n",
      "5000 PLSRegression(n_components=1) max_corr\n",
      "0.06 0.010970432990543262\n",
      "-----------------------\n",
      "5000 LinearRegression() max_corr_shuffle\n",
      "0.064 0.011238427648029773\n",
      "-----------------------\n",
      "5000 RidgeCV(alphas=array([ 0.1,  1. , 10. ])) max_corr_shuffle\n",
      "0.046 0.00941608751021357\n",
      "-----------------------\n",
      "5000 PLSRegression(n_components=1) max_corr_shuffle\n",
      "0.078 0.012233569552669406\n",
      "-----------------------\n",
      "5000 LinearRegression() gcm\n",
      "0.058 0.010365494874823874\n",
      "-----------------------\n",
      "5000 RidgeCV(alphas=array([ 0.1,  1. , 10. ])) gcm\n",
      "0.036 0.008047350868453543\n",
      "-----------------------\n",
      "5000 PLSRegression(n_components=1) gcm\n",
      "0.078 0.011849927594715504\n",
      "-----------------------\n",
      "5000 LinearRegression() gcm_shuffle\n",
      "0.026 0.007396517829357272\n",
      "-----------------------\n",
      "5000 RidgeCV(alphas=array([ 0.1,  1. , 10. ])) gcm_shuffle\n",
      "0.022 0.006544456891140776\n",
      "-----------------------\n",
      "5000 PLSRegression(n_components=1) gcm_shuffle\n",
      "0.042 0.009154202532170676\n",
      "-----------------------\n",
      "5000 LinearRegression() gcm_gmb\n",
      "1.0 0.0\n",
      "-----------------------\n",
      "5000 RidgeCV(alphas=array([ 0.1,  1. , 10. ])) gcm_gmb\n",
      "1.0 0.0\n",
      "-----------------------\n",
      "5000 PLSRegression(n_components=1) gcm_gmb\n",
      "1.0 0.0\n",
      "-----------------------\n"
     ]
    }
   ],
   "source": [
    "metrics_nconf_5 = metrics_rate(sample_range,corr_type_range,reg_range)"
   ]
  },
  {
   "cell_type": "markdown",
   "id": "aaa1498e-d4f2-43f4-9d8d-3587a708f48c",
   "metadata": {
    "tags": []
   },
   "source": [
    "### Type 2"
   ]
  },
  {
   "cell_type": "code",
   "execution_count": 330,
   "id": "abaf70cf-eee5-4f72-83be-0874226cad1e",
   "metadata": {},
   "outputs": [],
   "source": [
    "error = 'type2'\n",
    "n_conf = 5"
   ]
  },
  {
   "cell_type": "code",
   "execution_count": 334,
   "id": "a908c2a9-6763-4ec2-9e6c-0adabf1e124c",
   "metadata": {},
   "outputs": [
    {
     "name": "stdout",
     "output_type": "stream",
     "text": [
      "100 LinearRegression() max_corr\n",
      "0.726 0.0191562000407179\n",
      "-----------------------\n",
      "100 RidgeCV(alphas=array([ 0.1,  1. , 10. ])) max_corr\n",
      "0.774 0.018903129793766967\n",
      "-----------------------\n",
      "100 PLSRegression(n_components=1) max_corr\n",
      "0.804 0.017357289074046073\n",
      "-----------------------\n",
      "100 LinearRegression() max_corr_shuffle\n",
      "0.77 0.018413076983491938\n",
      "-----------------------\n",
      "100 RidgeCV(alphas=array([ 0.1,  1. , 10. ])) max_corr_shuffle\n",
      "0.758 0.01930554645691234\n",
      "-----------------------\n",
      "100 PLSRegression(n_components=1) max_corr_shuffle\n",
      "0.848 0.016098525522543993\n",
      "-----------------------\n",
      "100 LinearRegression() gcm\n",
      "0.786 0.01864881240186624\n",
      "-----------------------\n",
      "100 RidgeCV(alphas=array([ 0.1,  1. , 10. ])) gcm\n",
      "0.814 0.017433526206708697\n",
      "-----------------------\n",
      "100 PLSRegression(n_components=1) gcm\n",
      "0.856 0.014638729453063897\n",
      "-----------------------\n",
      "100 LinearRegression() gcm_shuffle\n",
      "0.618 0.02206646541700779\n",
      "-----------------------\n",
      "100 RidgeCV(alphas=array([ 0.1,  1. , 10. ])) gcm_shuffle\n",
      "0.638 0.020959272411035665\n",
      "-----------------------\n",
      "100 PLSRegression(n_components=1) gcm_shuffle\n",
      "0.736 0.020073713757050554\n",
      "-----------------------\n",
      "100 LinearRegression() gcm_gmb\n",
      "0.994 0.003466262540547098\n",
      "-----------------------\n",
      "100 RidgeCV(alphas=array([ 0.1,  1. , 10. ])) gcm_gmb\n",
      "0.99 0.004352463210642915\n",
      "-----------------------\n",
      "100 PLSRegression(n_components=1) gcm_gmb\n",
      "0.994 0.0033805177118305446\n",
      "-----------------------\n",
      "1000 LinearRegression() max_corr\n",
      "1.0 0.0\n",
      "-----------------------\n",
      "1000 RidgeCV(alphas=array([ 0.1,  1. , 10. ])) max_corr\n",
      "1.0 0.0\n",
      "-----------------------\n",
      "1000 PLSRegression(n_components=1) max_corr\n",
      "1.0 0.0\n",
      "-----------------------\n",
      "1000 LinearRegression() max_corr_shuffle\n",
      "1.0 0.0\n",
      "-----------------------\n",
      "1000 RidgeCV(alphas=array([ 0.1,  1. , 10. ])) max_corr_shuffle\n",
      "1.0 0.0\n",
      "-----------------------\n",
      "1000 PLSRegression(n_components=1) max_corr_shuffle\n",
      "1.0 0.0\n",
      "-----------------------\n",
      "1000 LinearRegression() gcm\n",
      "1.0 0.0\n",
      "-----------------------\n",
      "1000 RidgeCV(alphas=array([ 0.1,  1. , 10. ])) gcm\n",
      "1.0 0.0\n",
      "-----------------------\n",
      "1000 PLSRegression(n_components=1) gcm\n",
      "1.0 0.0\n",
      "-----------------------\n",
      "1000 LinearRegression() gcm_shuffle\n",
      "1.0 0.0\n",
      "-----------------------\n",
      "1000 RidgeCV(alphas=array([ 0.1,  1. , 10. ])) gcm_shuffle\n",
      "1.0 0.0\n",
      "-----------------------\n",
      "1000 PLSRegression(n_components=1) gcm_shuffle\n",
      "1.0 0.0\n",
      "-----------------------\n",
      "1000 LinearRegression() gcm_gmb\n",
      "1.0 0.0\n",
      "-----------------------\n",
      "1000 RidgeCV(alphas=array([ 0.1,  1. , 10. ])) gcm_gmb\n",
      "1.0 0.0\n",
      "-----------------------\n",
      "1000 PLSRegression(n_components=1) gcm_gmb\n",
      "1.0 0.0\n",
      "-----------------------\n",
      "5000 LinearRegression() max_corr\n",
      "1.0 0.0\n",
      "-----------------------\n",
      "5000 RidgeCV(alphas=array([ 0.1,  1. , 10. ])) max_corr\n",
      "1.0 0.0\n",
      "-----------------------\n",
      "5000 PLSRegression(n_components=1) max_corr\n",
      "1.0 0.0\n",
      "-----------------------\n",
      "5000 LinearRegression() max_corr_shuffle\n",
      "1.0 0.0\n",
      "-----------------------\n",
      "5000 RidgeCV(alphas=array([ 0.1,  1. , 10. ])) max_corr_shuffle\n",
      "1.0 0.0\n",
      "-----------------------\n",
      "5000 PLSRegression(n_components=1) max_corr_shuffle\n",
      "1.0 0.0\n",
      "-----------------------\n",
      "5000 LinearRegression() gcm\n",
      "1.0 0.0\n",
      "-----------------------\n",
      "5000 RidgeCV(alphas=array([ 0.1,  1. , 10. ])) gcm\n",
      "1.0 0.0\n",
      "-----------------------\n",
      "5000 PLSRegression(n_components=1) gcm\n",
      "1.0 0.0\n",
      "-----------------------\n",
      "5000 LinearRegression() gcm_shuffle\n",
      "1.0 0.0\n",
      "-----------------------\n",
      "5000 RidgeCV(alphas=array([ 0.1,  1. , 10. ])) gcm_shuffle\n",
      "1.0 0.0\n",
      "-----------------------\n",
      "5000 PLSRegression(n_components=1) gcm_shuffle\n",
      "1.0 0.0\n",
      "-----------------------\n",
      "5000 LinearRegression() gcm_gmb\n",
      "1.0 0.0\n",
      "-----------------------\n",
      "5000 RidgeCV(alphas=array([ 0.1,  1. , 10. ])) gcm_gmb\n",
      "1.0 0.0\n",
      "-----------------------\n",
      "5000 PLSRegression(n_components=1) gcm_gmb\n",
      "1.0 0.0\n",
      "-----------------------\n"
     ]
    }
   ],
   "source": [
    "metrics_nconf_5_type2 = metrics_rate_full(sample_range,corr_type_range,reg_range,error, dimxy, dimz, z_int=None, num_int = None, n_conf = n_conf)"
   ]
  },
  {
   "cell_type": "code",
   "execution_count": 335,
   "id": "146ecfe4-96e9-4053-95cb-e1fd800ffa29",
   "metadata": {},
   "outputs": [
    {
     "data": {
      "text/plain": [
       "{'ols': {'max_corr': {100: (0.726, 0.0191562000407179),\n",
       "   1000: (1.0, 0.0),\n",
       "   5000: (1.0, 0.0)},\n",
       "  'max_corr_shuffle': {100: (0.77, 0.018413076983491938),\n",
       "   1000: (1.0, 0.0),\n",
       "   5000: (1.0, 0.0)},\n",
       "  'gcm': {100: (0.786, 0.01864881240186624),\n",
       "   1000: (1.0, 0.0),\n",
       "   5000: (1.0, 0.0)},\n",
       "  'gcm_shuffle': {100: (0.618, 0.02206646541700779),\n",
       "   1000: (1.0, 0.0),\n",
       "   5000: (1.0, 0.0)},\n",
       "  'gcm_gmb': {100: (0.994, 0.003466262540547098),\n",
       "   1000: (1.0, 0.0),\n",
       "   5000: (1.0, 0.0)}},\n",
       " 'ridge': {'max_corr': {100: (0.774, 0.018903129793766967),\n",
       "   1000: (1.0, 0.0),\n",
       "   5000: (1.0, 0.0)},\n",
       "  'max_corr_shuffle': {100: (0.758, 0.01930554645691234),\n",
       "   1000: (1.0, 0.0),\n",
       "   5000: (1.0, 0.0)},\n",
       "  'gcm': {100: (0.814, 0.017433526206708697),\n",
       "   1000: (1.0, 0.0),\n",
       "   5000: (1.0, 0.0)},\n",
       "  'gcm_shuffle': {100: (0.638, 0.020959272411035665),\n",
       "   1000: (1.0, 0.0),\n",
       "   5000: (1.0, 0.0)},\n",
       "  'gcm_gmb': {100: (0.99, 0.004352463210642915),\n",
       "   1000: (1.0, 0.0),\n",
       "   5000: (1.0, 0.0)}},\n",
       " 'pls': {'max_corr': {100: (0.804, 0.017357289074046073),\n",
       "   1000: (1.0, 0.0),\n",
       "   5000: (1.0, 0.0)},\n",
       "  'max_corr_shuffle': {100: (0.848, 0.016098525522543993),\n",
       "   1000: (1.0, 0.0),\n",
       "   5000: (1.0, 0.0)},\n",
       "  'gcm': {100: (0.856, 0.014638729453063897),\n",
       "   1000: (1.0, 0.0),\n",
       "   5000: (1.0, 0.0)},\n",
       "  'gcm_shuffle': {100: (0.736, 0.020073713757050554),\n",
       "   1000: (1.0, 0.0),\n",
       "   5000: (1.0, 0.0)},\n",
       "  'gcm_gmb': {100: (0.994, 0.0033805177118305446),\n",
       "   1000: (1.0, 0.0),\n",
       "   5000: (1.0, 0.0)}}}"
      ]
     },
     "execution_count": 335,
     "metadata": {},
     "output_type": "execute_result"
    }
   ],
   "source": [
    "metrics_nconf_5_type2"
   ]
  },
  {
   "cell_type": "markdown",
   "id": "7d908337-e509-44f2-8f90-417cb240b3e9",
   "metadata": {
    "tags": []
   },
   "source": [
    "### Dump Metrics"
   ]
  },
  {
   "cell_type": "code",
   "execution_count": 338,
   "id": "900a9d5d-1c04-447e-a4a8-c16c6f3e2013",
   "metadata": {},
   "outputs": [
    {
     "name": "stdout",
     "output_type": "stream",
     "text": [
      "Metrics dump  /Users/urmininad/Documents/Python/Mult_CI_Tests/metrics/1-20-type2-None-5_metrics.dat\n"
     ]
    }
   ],
   "source": [
    "#conf = \"1-20-type1-None-5\"\n",
    "conf = \"1-20-type2-None-5\"\n",
    "file_name = os.path.expanduser('~') + '/Documents/Python/Mult_CI_Tests/metrics/%s' %(conf)\n",
    "\n",
    "print(\"Metrics dump \", file_name.replace(\"'\", \"\").replace('\"', '') + '_metrics.dat')\n",
    "file = open(file_name.replace(\"'\", \"\").replace('\"', '') + '_metrics.dat', 'wb')\n",
    "#pickle.dump(metrics_nconf_5, file, protocol=-1)        \n",
    "pickle.dump(metrics_nconf_5_type2, file, protocol=-1)        \n",
    "file.close()"
   ]
  },
  {
   "cell_type": "code",
   "execution_count": 339,
   "id": "3b59d91b-b73f-4d37-b589-d5afb4214eeb",
   "metadata": {},
   "outputs": [],
   "source": [
    "folder_name = os.path.expanduser('~') + '/Documents/Python/Mult_CI_Tests/metrics/'\n",
    "def get_metrics_from_file(para_setup):\n",
    "\n",
    "    name_string = '%s-'*len(para_setup)  # % para_setup\n",
    "    #print(name_string)\n",
    "    name_string = name_string[:-1]\n",
    "    #print(name_string% (para_setup))\n",
    "\n",
    "    try:\n",
    "        print(\"load from metrics file  %s_metrics.dat \" % (folder_name + name_string % (para_setup)))\n",
    "        results = pickle.load(open(folder_name + name_string % (para_setup) + '_metrics.dat', 'rb'), encoding='latin1')\n",
    "    except:\n",
    "        print('***---*** failed from metrics file '  , (para_setup))\n",
    "        return None\n",
    "\n",
    "    return results"
   ]
  },
  {
   "cell_type": "code",
   "execution_count": 340,
   "id": "7026982a-d030-4c9a-9d16-33151a8aac58",
   "metadata": {},
   "outputs": [
    {
     "name": "stdout",
     "output_type": "stream",
     "text": [
      "load from metrics file  /Users/urmininad/Documents/Python/Mult_CI_Tests/metrics/1-20-type2-None-5_metrics.dat \n"
     ]
    }
   ],
   "source": [
    "para_setup = tuple(conf.split(\"-\"))\n",
    "results = get_metrics_from_file(para_setup)"
   ]
  },
  {
   "cell_type": "code",
   "execution_count": 341,
   "id": "151278c8-0e32-470b-925e-7a90b2155e49",
   "metadata": {},
   "outputs": [
    {
     "data": {
      "text/plain": [
       "{'ols': {'max_corr': {100: (0.726, 0.0191562000407179),\n",
       "   1000: (1.0, 0.0),\n",
       "   5000: (1.0, 0.0)},\n",
       "  'max_corr_shuffle': {100: (0.77, 0.018413076983491938),\n",
       "   1000: (1.0, 0.0),\n",
       "   5000: (1.0, 0.0)},\n",
       "  'gcm': {100: (0.786, 0.01864881240186624),\n",
       "   1000: (1.0, 0.0),\n",
       "   5000: (1.0, 0.0)},\n",
       "  'gcm_shuffle': {100: (0.618, 0.02206646541700779),\n",
       "   1000: (1.0, 0.0),\n",
       "   5000: (1.0, 0.0)},\n",
       "  'gcm_gmb': {100: (0.994, 0.003466262540547098),\n",
       "   1000: (1.0, 0.0),\n",
       "   5000: (1.0, 0.0)}},\n",
       " 'ridge': {'max_corr': {100: (0.774, 0.018903129793766967),\n",
       "   1000: (1.0, 0.0),\n",
       "   5000: (1.0, 0.0)},\n",
       "  'max_corr_shuffle': {100: (0.758, 0.01930554645691234),\n",
       "   1000: (1.0, 0.0),\n",
       "   5000: (1.0, 0.0)},\n",
       "  'gcm': {100: (0.814, 0.017433526206708697),\n",
       "   1000: (1.0, 0.0),\n",
       "   5000: (1.0, 0.0)},\n",
       "  'gcm_shuffle': {100: (0.638, 0.020959272411035665),\n",
       "   1000: (1.0, 0.0),\n",
       "   5000: (1.0, 0.0)},\n",
       "  'gcm_gmb': {100: (0.99, 0.004352463210642915),\n",
       "   1000: (1.0, 0.0),\n",
       "   5000: (1.0, 0.0)}},\n",
       " 'pls': {'max_corr': {100: (0.804, 0.017357289074046073),\n",
       "   1000: (1.0, 0.0),\n",
       "   5000: (1.0, 0.0)},\n",
       "  'max_corr_shuffle': {100: (0.848, 0.016098525522543993),\n",
       "   1000: (1.0, 0.0),\n",
       "   5000: (1.0, 0.0)},\n",
       "  'gcm': {100: (0.856, 0.014638729453063897),\n",
       "   1000: (1.0, 0.0),\n",
       "   5000: (1.0, 0.0)},\n",
       "  'gcm_shuffle': {100: (0.736, 0.020073713757050554),\n",
       "   1000: (1.0, 0.0),\n",
       "   5000: (1.0, 0.0)},\n",
       "  'gcm_gmb': {100: (0.994, 0.0033805177118305446),\n",
       "   1000: (1.0, 0.0),\n",
       "   5000: (1.0, 0.0)}}}"
      ]
     },
     "execution_count": 341,
     "metadata": {},
     "output_type": "execute_result"
    }
   ],
   "source": [
    "results"
   ]
  },
  {
   "cell_type": "code",
   "execution_count": null,
   "id": "e41eff37-21aa-4ebf-b8f8-7f4034a99aa6",
   "metadata": {},
   "outputs": [],
   "source": []
  },
  {
   "cell_type": "code",
   "execution_count": null,
   "id": "7010054a-31f0-43fc-a622-bdf818173101",
   "metadata": {},
   "outputs": [],
   "source": []
  },
  {
   "cell_type": "markdown",
   "id": "f62bce56-f3be-4599-baa2-f8413dc4e87e",
   "metadata": {
    "jp-MarkdownHeadingCollapsed": true,
    "tags": []
   },
   "source": [
    "# Case 2 (Multivariate X,Y,Z)"
   ]
  },
  {
   "cell_type": "markdown",
   "id": "793bef88-f4dc-4aa0-9b3e-20e6ea25faf8",
   "metadata": {
    "tags": []
   },
   "source": [
    "## (i) n_conf  = Full"
   ]
  },
  {
   "cell_type": "markdown",
   "id": "a8c70758-f2f7-4104-a403-e34f02150181",
   "metadata": {
    "jp-MarkdownHeadingCollapsed": true,
    "tags": []
   },
   "source": [
    "### Type 1"
   ]
  },
  {
   "cell_type": "code",
   "execution_count": 22,
   "id": "418e9637-5201-4187-937f-47f5e12186fb",
   "metadata": {},
   "outputs": [],
   "source": [
    "dimxy = 10\n",
    "dimz = 20\n",
    "realizations = 500\n",
    "\n",
    "sample_range = [100,200,500, 1000]\n",
    "corr_type_range = ['max_corr','max_corr_shuffle','gcm_shuffle','gcm_gmb']\n",
    "reg_range = ['ols','ridge','pls']\n",
    "\n",
    "error = 'type1'"
   ]
  },
  {
   "cell_type": "code",
   "execution_count": 23,
   "id": "1da6945d-b416-4f35-9822-23c762edc1ac",
   "metadata": {
    "collapsed": true,
    "jupyter": {
     "outputs_hidden": true
    },
    "tags": []
   },
   "outputs": [
    {
     "name": "stdout",
     "output_type": "stream",
     "text": [
      "100 LinearRegression() max_corr\n",
      "0.006 0.003539717502852452\n",
      "-----------------------\n",
      "100 RidgeCV(alphas=array([ 0.1,  1. , 10. ])) max_corr\n",
      "0.0 0.0\n",
      "-----------------------\n",
      "100 PLSRegression(n_components=1) max_corr\n",
      "0.002 0.0018712295423063414\n",
      "-----------------------\n",
      "100 LinearRegression() max_corr_shuffle\n",
      "0.084 0.012404176715929196\n",
      "-----------------------\n",
      "100 RidgeCV(alphas=array([ 0.1,  1. , 10. ])) max_corr_shuffle\n",
      "0.084 0.012352113341448902\n",
      "-----------------------\n",
      "100 PLSRegression(n_components=1) max_corr_shuffle\n"
     ]
    },
    {
     "name": "stderr",
     "output_type": "stream",
     "text": [
      "/opt/anaconda3/lib/python3.9/site-packages/sklearn/cross_decomposition/_pls.py:97: ConvergenceWarning: Maximum number of iterations reached\n",
      "  warnings.warn('Maximum number of iterations reached',\n",
      "/opt/anaconda3/lib/python3.9/site-packages/sklearn/cross_decomposition/_pls.py:97: ConvergenceWarning: Maximum number of iterations reached\n",
      "  warnings.warn('Maximum number of iterations reached',\n",
      "/opt/anaconda3/lib/python3.9/site-packages/sklearn/cross_decomposition/_pls.py:97: ConvergenceWarning: Maximum number of iterations reached\n",
      "  warnings.warn('Maximum number of iterations reached',\n",
      "/opt/anaconda3/lib/python3.9/site-packages/sklearn/cross_decomposition/_pls.py:97: ConvergenceWarning: Maximum number of iterations reached\n",
      "  warnings.warn('Maximum number of iterations reached',\n",
      "/opt/anaconda3/lib/python3.9/site-packages/sklearn/cross_decomposition/_pls.py:97: ConvergenceWarning: Maximum number of iterations reached\n",
      "  warnings.warn('Maximum number of iterations reached',\n",
      "/opt/anaconda3/lib/python3.9/site-packages/sklearn/cross_decomposition/_pls.py:97: ConvergenceWarning: Maximum number of iterations reached\n",
      "  warnings.warn('Maximum number of iterations reached',\n"
     ]
    },
    {
     "name": "stdout",
     "output_type": "stream",
     "text": [
      "0.072 0.011056080860775214\n",
      "-----------------------\n",
      "100 LinearRegression() gcm_shuffle\n",
      "0.012 0.004763641884105059\n",
      "-----------------------\n",
      "100 RidgeCV(alphas=array([ 0.1,  1. , 10. ])) gcm_shuffle\n",
      "0.034 0.008147242723768575\n",
      "-----------------------\n",
      "100 PLSRegression(n_components=1) gcm_shuffle\n"
     ]
    },
    {
     "name": "stderr",
     "output_type": "stream",
     "text": [
      "/opt/anaconda3/lib/python3.9/site-packages/sklearn/cross_decomposition/_pls.py:97: ConvergenceWarning: Maximum number of iterations reached\n",
      "  warnings.warn('Maximum number of iterations reached',\n",
      "/opt/anaconda3/lib/python3.9/site-packages/sklearn/cross_decomposition/_pls.py:97: ConvergenceWarning: Maximum number of iterations reached\n",
      "  warnings.warn('Maximum number of iterations reached',\n",
      "/opt/anaconda3/lib/python3.9/site-packages/sklearn/cross_decomposition/_pls.py:97: ConvergenceWarning: Maximum number of iterations reached\n",
      "  warnings.warn('Maximum number of iterations reached',\n"
     ]
    },
    {
     "name": "stdout",
     "output_type": "stream",
     "text": [
      "0.03 0.0077167285814650766\n",
      "-----------------------\n",
      "100 LinearRegression() gcm_gmb\n",
      "0.086 0.012497108625598163\n",
      "-----------------------\n",
      "100 RidgeCV(alphas=array([ 0.1,  1. , 10. ])) gcm_gmb\n",
      "0.092 0.012537740785324923\n",
      "-----------------------\n",
      "100 PLSRegression(n_components=1) gcm_gmb\n",
      "0.054 0.010071599475753592\n",
      "-----------------------\n",
      "200 LinearRegression() max_corr\n",
      "0.016 0.005543563835656625\n",
      "-----------------------\n",
      "200 RidgeCV(alphas=array([ 0.1,  1. , 10. ])) max_corr\n",
      "0.022 0.006391212717473891\n",
      "-----------------------\n",
      "200 PLSRegression(n_components=1) max_corr\n",
      "0.016 0.005532079175138403\n",
      "-----------------------\n",
      "200 LinearRegression() max_corr_shuffle\n",
      "0.056 0.01047211229886311\n",
      "-----------------------\n",
      "200 RidgeCV(alphas=array([ 0.1,  1. , 10. ])) max_corr_shuffle\n",
      "0.052 0.00967671927876385\n",
      "-----------------------\n",
      "200 PLSRegression(n_components=1) max_corr_shuffle\n"
     ]
    },
    {
     "name": "stderr",
     "output_type": "stream",
     "text": [
      "/opt/anaconda3/lib/python3.9/site-packages/sklearn/cross_decomposition/_pls.py:97: ConvergenceWarning: Maximum number of iterations reached\n",
      "  warnings.warn('Maximum number of iterations reached',\n",
      "/opt/anaconda3/lib/python3.9/site-packages/sklearn/cross_decomposition/_pls.py:97: ConvergenceWarning: Maximum number of iterations reached\n",
      "  warnings.warn('Maximum number of iterations reached',\n",
      "/opt/anaconda3/lib/python3.9/site-packages/sklearn/cross_decomposition/_pls.py:97: ConvergenceWarning: Maximum number of iterations reached\n",
      "  warnings.warn('Maximum number of iterations reached',\n",
      "/opt/anaconda3/lib/python3.9/site-packages/sklearn/cross_decomposition/_pls.py:97: ConvergenceWarning: Maximum number of iterations reached\n",
      "  warnings.warn('Maximum number of iterations reached',\n",
      "/opt/anaconda3/lib/python3.9/site-packages/sklearn/cross_decomposition/_pls.py:97: ConvergenceWarning: Maximum number of iterations reached\n",
      "  warnings.warn('Maximum number of iterations reached',\n",
      "/opt/anaconda3/lib/python3.9/site-packages/sklearn/cross_decomposition/_pls.py:97: ConvergenceWarning: Maximum number of iterations reached\n",
      "  warnings.warn('Maximum number of iterations reached',\n"
     ]
    },
    {
     "name": "stdout",
     "output_type": "stream",
     "text": [
      "0.07 0.01116402633461602\n",
      "-----------------------\n",
      "200 LinearRegression() gcm_shuffle\n",
      "0.034 0.008466830339625331\n",
      "-----------------------\n",
      "200 RidgeCV(alphas=array([ 0.1,  1. , 10. ])) gcm_shuffle\n",
      "0.036 0.007815512523181061\n",
      "-----------------------\n",
      "200 PLSRegression(n_components=1) gcm_shuffle\n"
     ]
    },
    {
     "name": "stderr",
     "output_type": "stream",
     "text": [
      "/opt/anaconda3/lib/python3.9/site-packages/sklearn/cross_decomposition/_pls.py:97: ConvergenceWarning: Maximum number of iterations reached\n",
      "  warnings.warn('Maximum number of iterations reached',\n",
      "/opt/anaconda3/lib/python3.9/site-packages/sklearn/cross_decomposition/_pls.py:97: ConvergenceWarning: Maximum number of iterations reached\n",
      "  warnings.warn('Maximum number of iterations reached',\n",
      "/opt/anaconda3/lib/python3.9/site-packages/sklearn/cross_decomposition/_pls.py:97: ConvergenceWarning: Maximum number of iterations reached\n",
      "  warnings.warn('Maximum number of iterations reached',\n",
      "/opt/anaconda3/lib/python3.9/site-packages/sklearn/cross_decomposition/_pls.py:97: ConvergenceWarning: Maximum number of iterations reached\n",
      "  warnings.warn('Maximum number of iterations reached',\n",
      "/opt/anaconda3/lib/python3.9/site-packages/sklearn/cross_decomposition/_pls.py:97: ConvergenceWarning: Maximum number of iterations reached\n",
      "  warnings.warn('Maximum number of iterations reached',\n"
     ]
    },
    {
     "name": "stdout",
     "output_type": "stream",
     "text": [
      "0.032 0.007900521248626573\n",
      "-----------------------\n",
      "200 LinearRegression() gcm_gmb\n",
      "0.06 0.010516758245771364\n",
      "-----------------------\n",
      "200 RidgeCV(alphas=array([ 0.1,  1. , 10. ])) gcm_gmb\n",
      "0.086 0.01280433660913364\n",
      "-----------------------\n",
      "200 PLSRegression(n_components=1) gcm_gmb\n",
      "0.04 0.008875954934540846\n",
      "-----------------------\n",
      "500 LinearRegression() max_corr\n",
      "0.034 0.008205601745149468\n",
      "-----------------------\n",
      "500 RidgeCV(alphas=array([ 0.1,  1. , 10. ])) max_corr\n",
      "0.038 0.008566156430978833\n",
      "-----------------------\n",
      "500 PLSRegression(n_components=1) max_corr\n",
      "0.04 0.008380174461191128\n",
      "-----------------------\n",
      "500 LinearRegression() max_corr_shuffle\n",
      "0.054 0.010037111138171182\n",
      "-----------------------\n",
      "500 RidgeCV(alphas=array([ 0.1,  1. , 10. ])) max_corr_shuffle\n",
      "0.048 0.009647581251277442\n",
      "-----------------------\n",
      "500 PLSRegression(n_components=1) max_corr_shuffle\n"
     ]
    },
    {
     "name": "stderr",
     "output_type": "stream",
     "text": [
      "/opt/anaconda3/lib/python3.9/site-packages/sklearn/cross_decomposition/_pls.py:97: ConvergenceWarning: Maximum number of iterations reached\n",
      "  warnings.warn('Maximum number of iterations reached',\n",
      "/opt/anaconda3/lib/python3.9/site-packages/sklearn/cross_decomposition/_pls.py:97: ConvergenceWarning: Maximum number of iterations reached\n",
      "  warnings.warn('Maximum number of iterations reached',\n",
      "/opt/anaconda3/lib/python3.9/site-packages/sklearn/cross_decomposition/_pls.py:97: ConvergenceWarning: Maximum number of iterations reached\n",
      "  warnings.warn('Maximum number of iterations reached',\n",
      "/opt/anaconda3/lib/python3.9/site-packages/sklearn/cross_decomposition/_pls.py:97: ConvergenceWarning: Maximum number of iterations reached\n",
      "  warnings.warn('Maximum number of iterations reached',\n",
      "/opt/anaconda3/lib/python3.9/site-packages/sklearn/cross_decomposition/_pls.py:97: ConvergenceWarning: Maximum number of iterations reached\n",
      "  warnings.warn('Maximum number of iterations reached',\n",
      "/opt/anaconda3/lib/python3.9/site-packages/sklearn/cross_decomposition/_pls.py:97: ConvergenceWarning: Maximum number of iterations reached\n",
      "  warnings.warn('Maximum number of iterations reached',\n",
      "/opt/anaconda3/lib/python3.9/site-packages/sklearn/cross_decomposition/_pls.py:97: ConvergenceWarning: Maximum number of iterations reached\n",
      "  warnings.warn('Maximum number of iterations reached',\n"
     ]
    },
    {
     "name": "stdout",
     "output_type": "stream",
     "text": [
      "0.048 0.009905548949957292\n",
      "-----------------------\n",
      "500 LinearRegression() gcm_shuffle\n",
      "0.024 0.006735933194443069\n",
      "-----------------------\n",
      "500 RidgeCV(alphas=array([ 0.1,  1. , 10. ])) gcm_shuffle\n",
      "0.028 0.007250043861936285\n",
      "-----------------------\n",
      "500 PLSRegression(n_components=1) gcm_shuffle\n"
     ]
    },
    {
     "name": "stderr",
     "output_type": "stream",
     "text": [
      "/opt/anaconda3/lib/python3.9/site-packages/sklearn/cross_decomposition/_pls.py:97: ConvergenceWarning: Maximum number of iterations reached\n",
      "  warnings.warn('Maximum number of iterations reached',\n",
      "/opt/anaconda3/lib/python3.9/site-packages/sklearn/cross_decomposition/_pls.py:97: ConvergenceWarning: Maximum number of iterations reached\n",
      "  warnings.warn('Maximum number of iterations reached',\n",
      "/opt/anaconda3/lib/python3.9/site-packages/sklearn/cross_decomposition/_pls.py:97: ConvergenceWarning: Maximum number of iterations reached\n",
      "  warnings.warn('Maximum number of iterations reached',\n",
      "/opt/anaconda3/lib/python3.9/site-packages/sklearn/cross_decomposition/_pls.py:97: ConvergenceWarning: Maximum number of iterations reached\n",
      "  warnings.warn('Maximum number of iterations reached',\n",
      "/opt/anaconda3/lib/python3.9/site-packages/sklearn/cross_decomposition/_pls.py:97: ConvergenceWarning: Maximum number of iterations reached\n",
      "  warnings.warn('Maximum number of iterations reached',\n",
      "/opt/anaconda3/lib/python3.9/site-packages/sklearn/cross_decomposition/_pls.py:97: ConvergenceWarning: Maximum number of iterations reached\n",
      "  warnings.warn('Maximum number of iterations reached',\n",
      "/opt/anaconda3/lib/python3.9/site-packages/sklearn/cross_decomposition/_pls.py:97: ConvergenceWarning: Maximum number of iterations reached\n",
      "  warnings.warn('Maximum number of iterations reached',\n"
     ]
    },
    {
     "name": "stdout",
     "output_type": "stream",
     "text": [
      "0.048 0.009345251414488538\n",
      "-----------------------\n",
      "500 LinearRegression() gcm_gmb\n",
      "0.068 0.010985013609459025\n",
      "-----------------------\n",
      "500 RidgeCV(alphas=array([ 0.1,  1. , 10. ])) gcm_gmb\n",
      "0.068 0.010831413388842658\n",
      "-----------------------\n",
      "500 PLSRegression(n_components=1) gcm_gmb\n",
      "0.034 0.008022617777259492\n",
      "-----------------------\n",
      "1000 LinearRegression() max_corr\n",
      "0.028 0.007377777443105749\n",
      "-----------------------\n",
      "1000 RidgeCV(alphas=array([ 0.1,  1. , 10. ])) max_corr\n",
      "0.036 0.008369983512528564\n",
      "-----------------------\n",
      "1000 PLSRegression(n_components=1) max_corr\n",
      "0.044 0.009145969822823603\n",
      "-----------------------\n",
      "1000 LinearRegression() max_corr_shuffle\n",
      "0.042 0.009192683830090101\n",
      "-----------------------\n",
      "1000 RidgeCV(alphas=array([ 0.1,  1. , 10. ])) max_corr_shuffle\n",
      "0.084 0.012589038883091909\n",
      "-----------------------\n",
      "1000 PLSRegression(n_components=1) max_corr_shuffle\n"
     ]
    },
    {
     "name": "stderr",
     "output_type": "stream",
     "text": [
      "/opt/anaconda3/lib/python3.9/site-packages/sklearn/cross_decomposition/_pls.py:97: ConvergenceWarning: Maximum number of iterations reached\n",
      "  warnings.warn('Maximum number of iterations reached',\n",
      "/opt/anaconda3/lib/python3.9/site-packages/sklearn/cross_decomposition/_pls.py:97: ConvergenceWarning: Maximum number of iterations reached\n",
      "  warnings.warn('Maximum number of iterations reached',\n",
      "/opt/anaconda3/lib/python3.9/site-packages/sklearn/cross_decomposition/_pls.py:97: ConvergenceWarning: Maximum number of iterations reached\n",
      "  warnings.warn('Maximum number of iterations reached',\n",
      "/opt/anaconda3/lib/python3.9/site-packages/sklearn/cross_decomposition/_pls.py:97: ConvergenceWarning: Maximum number of iterations reached\n",
      "  warnings.warn('Maximum number of iterations reached',\n"
     ]
    },
    {
     "name": "stdout",
     "output_type": "stream",
     "text": [
      "0.054 0.009788358595801443\n",
      "-----------------------\n",
      "1000 LinearRegression() gcm_shuffle\n",
      "0.03 0.007625326222529761\n",
      "-----------------------\n",
      "1000 RidgeCV(alphas=array([ 0.1,  1. , 10. ])) gcm_shuffle\n",
      "0.032 0.008014722453085946\n",
      "-----------------------\n",
      "1000 PLSRegression(n_components=1) gcm_shuffle\n"
     ]
    },
    {
     "name": "stderr",
     "output_type": "stream",
     "text": [
      "/opt/anaconda3/lib/python3.9/site-packages/sklearn/cross_decomposition/_pls.py:97: ConvergenceWarning: Maximum number of iterations reached\n",
      "  warnings.warn('Maximum number of iterations reached',\n",
      "/opt/anaconda3/lib/python3.9/site-packages/sklearn/cross_decomposition/_pls.py:97: ConvergenceWarning: Maximum number of iterations reached\n",
      "  warnings.warn('Maximum number of iterations reached',\n",
      "/opt/anaconda3/lib/python3.9/site-packages/sklearn/cross_decomposition/_pls.py:97: ConvergenceWarning: Maximum number of iterations reached\n",
      "  warnings.warn('Maximum number of iterations reached',\n",
      "/opt/anaconda3/lib/python3.9/site-packages/sklearn/cross_decomposition/_pls.py:97: ConvergenceWarning: Maximum number of iterations reached\n",
      "  warnings.warn('Maximum number of iterations reached',\n",
      "/opt/anaconda3/lib/python3.9/site-packages/sklearn/cross_decomposition/_pls.py:97: ConvergenceWarning: Maximum number of iterations reached\n",
      "  warnings.warn('Maximum number of iterations reached',\n"
     ]
    },
    {
     "name": "stdout",
     "output_type": "stream",
     "text": [
      "0.014 0.005273770567629957\n",
      "-----------------------\n",
      "1000 LinearRegression() gcm_gmb\n",
      "0.074 0.011342386168703656\n",
      "-----------------------\n",
      "1000 RidgeCV(alphas=array([ 0.1,  1. , 10. ])) gcm_gmb\n",
      "0.032 0.007753770437664505\n",
      "-----------------------\n",
      "1000 PLSRegression(n_components=1) gcm_gmb\n",
      "0.06 0.010642559090745045\n",
      "-----------------------\n"
     ]
    }
   ],
   "source": [
    "metrics_10_20_type1 = metrics_rate_full(sample_range,corr_type_range,reg_range,error, dimxy, dimz, z_int=None, num_int = None, n_conf = None)"
   ]
  },
  {
   "cell_type": "code",
   "execution_count": 26,
   "id": "8127af83-8519-42ff-8eb6-69ab18052e27",
   "metadata": {
    "collapsed": true,
    "jupyter": {
     "outputs_hidden": true
    },
    "tags": []
   },
   "outputs": [
    {
     "data": {
      "text/plain": [
       "{'ols': {'max_corr': {100: (0.006, 0.003539717502852452),\n",
       "   200: (0.016, 0.005543563835656625),\n",
       "   500: (0.034, 0.008205601745149468),\n",
       "   1000: (0.028, 0.007377777443105749)},\n",
       "  'max_corr_shuffle': {100: (0.084, 0.012404176715929196),\n",
       "   200: (0.056, 0.01047211229886311),\n",
       "   500: (0.054, 0.010037111138171182),\n",
       "   1000: (0.042, 0.009192683830090101)},\n",
       "  'gcm_shuffle': {100: (0.012, 0.004763641884105059),\n",
       "   200: (0.034, 0.008466830339625331),\n",
       "   500: (0.024, 0.006735933194443069),\n",
       "   1000: (0.03, 0.007625326222529761)},\n",
       "  'gcm_gmb': {100: (0.086, 0.012497108625598163),\n",
       "   200: (0.06, 0.010516758245771364),\n",
       "   500: (0.068, 0.010985013609459025),\n",
       "   1000: (0.074, 0.011342386168703656)}},\n",
       " 'ridge': {'max_corr': {100: (0.0, 0.0),\n",
       "   200: (0.022, 0.006391212717473891),\n",
       "   500: (0.038, 0.008566156430978833),\n",
       "   1000: (0.036, 0.008369983512528564)},\n",
       "  'max_corr_shuffle': {100: (0.084, 0.012352113341448902),\n",
       "   200: (0.052, 0.00967671927876385),\n",
       "   500: (0.048, 0.009647581251277442),\n",
       "   1000: (0.084, 0.012589038883091909)},\n",
       "  'gcm_shuffle': {100: (0.034, 0.008147242723768575),\n",
       "   200: (0.036, 0.007815512523181061),\n",
       "   500: (0.028, 0.007250043861936285),\n",
       "   1000: (0.032, 0.008014722453085946)},\n",
       "  'gcm_gmb': {100: (0.092, 0.012537740785324923),\n",
       "   200: (0.086, 0.01280433660913364),\n",
       "   500: (0.068, 0.010831413388842658),\n",
       "   1000: (0.032, 0.007753770437664505)}},\n",
       " 'pls': {'max_corr': {100: (0.002, 0.0018712295423063414),\n",
       "   200: (0.016, 0.005532079175138403),\n",
       "   500: (0.04, 0.008380174461191128),\n",
       "   1000: (0.044, 0.009145969822823603)},\n",
       "  'max_corr_shuffle': {100: (0.072, 0.011056080860775214),\n",
       "   200: (0.07, 0.01116402633461602),\n",
       "   500: (0.048, 0.009905548949957292),\n",
       "   1000: (0.054, 0.009788358595801443)},\n",
       "  'gcm_shuffle': {100: (0.03, 0.0077167285814650766),\n",
       "   200: (0.032, 0.007900521248626573),\n",
       "   500: (0.048, 0.009345251414488538),\n",
       "   1000: (0.014, 0.005273770567629957)},\n",
       "  'gcm_gmb': {100: (0.054, 0.010071599475753592),\n",
       "   200: (0.04, 0.008875954934540846),\n",
       "   500: (0.034, 0.008022617777259492),\n",
       "   1000: (0.06, 0.010642559090745045)}}}"
      ]
     },
     "execution_count": 26,
     "metadata": {},
     "output_type": "execute_result"
    }
   ],
   "source": [
    "metrics_10_20_type1"
   ]
  },
  {
   "cell_type": "markdown",
   "id": "e2055817-1a7d-4ddd-a42e-dcf0d94f7dd9",
   "metadata": {
    "tags": []
   },
   "source": [
    "### Dump Metrics"
   ]
  },
  {
   "cell_type": "code",
   "execution_count": 27,
   "id": "20e3d20c-bcc8-469f-9cb1-21c07ee0cfe6",
   "metadata": {},
   "outputs": [
    {
     "name": "stdout",
     "output_type": "stream",
     "text": [
      "Metrics dump  /Users/urmininad/Documents/Python/Mult_CI_Tests/metrics/10-20-type1-None-None_metrics.dat\n"
     ]
    }
   ],
   "source": [
    "#conf = \"1-20-type1-None-None\"\n",
    "# conf = \"5-20-type1-None-None\"\n",
    "conf = \"10-20-type1-None-None\"\n",
    "file_name = os.path.expanduser('~') + '/Documents/Python/Mult_CI_Tests/metrics/%s' %(conf)\n",
    "\n",
    "print(\"Metrics dump \", file_name.replace(\"'\", \"\").replace('\"', '') + '_metrics.dat')\n",
    "file = open(file_name.replace(\"'\", \"\").replace('\"', '') + '_metrics.dat', 'wb')\n",
    "#pickle.dump(metrics, file, protocol=-1)\n",
    "\n",
    "pickle.dump(metrics_10_20_type1, file, protocol=-1)        \n",
    "file.close()"
   ]
  },
  {
   "cell_type": "code",
   "execution_count": 31,
   "id": "67766aea-242d-4caa-9bb8-c9bd2382d049",
   "metadata": {},
   "outputs": [
    {
     "name": "stdout",
     "output_type": "stream",
     "text": [
      "load from metrics file  /Users/urmininad/Documents/Python/Mult_CI_Tests/metrics/10-20-type1-None-None_metrics.dat \n"
     ]
    }
   ],
   "source": [
    "para_setup = tuple(conf.split(\"-\"))\n",
    "results = get_metrics_from_file(para_setup)"
   ]
  },
  {
   "cell_type": "markdown",
   "id": "b6c427e0-995d-42e9-aa5b-fc3f6a1d6877",
   "metadata": {
    "jp-MarkdownHeadingCollapsed": true,
    "tags": []
   },
   "source": [
    "### Type 2"
   ]
  },
  {
   "cell_type": "code",
   "execution_count": 24,
   "id": "79b6780e-826e-4655-a9a9-d7c46ca58ff9",
   "metadata": {},
   "outputs": [],
   "source": [
    "dimxy = 10\n",
    "dimz = 20\n",
    "realizations = 500\n",
    "\n",
    "sample_range = [100,200,500, 1000]\n",
    "corr_type_range = ['max_corr','max_corr_shuffle','gcm_shuffle','gcm_gmb']\n",
    "reg_range = ['ols','ridge','pls']\n",
    "\n",
    "error = 'type2'"
   ]
  },
  {
   "cell_type": "code",
   "execution_count": 25,
   "id": "873af8b6-49a7-4ecb-aeb4-a5ca34645aff",
   "metadata": {
    "collapsed": true,
    "jupyter": {
     "outputs_hidden": true
    },
    "tags": []
   },
   "outputs": [
    {
     "name": "stdout",
     "output_type": "stream",
     "text": [
      "100 LinearRegression() max_corr\n",
      "0.556 0.023058662493735383\n",
      "-----------------------\n",
      "100 RidgeCV(alphas=array([ 0.1,  1. , 10. ])) max_corr\n",
      "0.586 0.02095991412196147\n",
      "-----------------------\n",
      "100 PLSRegression(n_components=1) max_corr\n",
      "0.468 0.021402189701056288\n",
      "-----------------------\n",
      "100 LinearRegression() max_corr_shuffle\n",
      "0.892 0.014128538494833793\n",
      "-----------------------\n",
      "100 RidgeCV(alphas=array([ 0.1,  1. , 10. ])) max_corr_shuffle\n",
      "0.85 0.015308235561291848\n",
      "-----------------------\n",
      "100 PLSRegression(n_components=1) max_corr_shuffle\n"
     ]
    },
    {
     "name": "stderr",
     "output_type": "stream",
     "text": [
      "/opt/anaconda3/lib/python3.9/site-packages/sklearn/cross_decomposition/_pls.py:97: ConvergenceWarning: Maximum number of iterations reached\n",
      "  warnings.warn('Maximum number of iterations reached',\n",
      "/opt/anaconda3/lib/python3.9/site-packages/sklearn/cross_decomposition/_pls.py:97: ConvergenceWarning: Maximum number of iterations reached\n",
      "  warnings.warn('Maximum number of iterations reached',\n",
      "/opt/anaconda3/lib/python3.9/site-packages/sklearn/cross_decomposition/_pls.py:97: ConvergenceWarning: Maximum number of iterations reached\n",
      "  warnings.warn('Maximum number of iterations reached',\n",
      "/opt/anaconda3/lib/python3.9/site-packages/sklearn/cross_decomposition/_pls.py:97: ConvergenceWarning: Maximum number of iterations reached\n",
      "  warnings.warn('Maximum number of iterations reached',\n",
      "/opt/anaconda3/lib/python3.9/site-packages/sklearn/cross_decomposition/_pls.py:97: ConvergenceWarning: Maximum number of iterations reached\n",
      "  warnings.warn('Maximum number of iterations reached',\n",
      "/opt/anaconda3/lib/python3.9/site-packages/sklearn/cross_decomposition/_pls.py:97: ConvergenceWarning: Maximum number of iterations reached\n",
      "  warnings.warn('Maximum number of iterations reached',\n",
      "/opt/anaconda3/lib/python3.9/site-packages/sklearn/cross_decomposition/_pls.py:97: ConvergenceWarning: Maximum number of iterations reached\n",
      "  warnings.warn('Maximum number of iterations reached',\n",
      "/opt/anaconda3/lib/python3.9/site-packages/sklearn/cross_decomposition/_pls.py:97: ConvergenceWarning: Maximum number of iterations reached\n",
      "  warnings.warn('Maximum number of iterations reached',\n",
      "/opt/anaconda3/lib/python3.9/site-packages/sklearn/cross_decomposition/_pls.py:97: ConvergenceWarning: Maximum number of iterations reached\n",
      "  warnings.warn('Maximum number of iterations reached',\n"
     ]
    },
    {
     "name": "stdout",
     "output_type": "stream",
     "text": [
      "0.98 0.006256823155563859\n",
      "-----------------------\n",
      "100 LinearRegression() gcm_shuffle\n",
      "0.966 0.007932713028970612\n",
      "-----------------------\n",
      "100 RidgeCV(alphas=array([ 0.1,  1. , 10. ])) gcm_shuffle\n",
      "0.976 0.007051185432251806\n",
      "-----------------------\n",
      "100 PLSRegression(n_components=1) gcm_shuffle\n"
     ]
    },
    {
     "name": "stderr",
     "output_type": "stream",
     "text": [
      "/opt/anaconda3/lib/python3.9/site-packages/sklearn/cross_decomposition/_pls.py:97: ConvergenceWarning: Maximum number of iterations reached\n",
      "  warnings.warn('Maximum number of iterations reached',\n",
      "/opt/anaconda3/lib/python3.9/site-packages/sklearn/cross_decomposition/_pls.py:97: ConvergenceWarning: Maximum number of iterations reached\n",
      "  warnings.warn('Maximum number of iterations reached',\n",
      "/opt/anaconda3/lib/python3.9/site-packages/sklearn/cross_decomposition/_pls.py:97: ConvergenceWarning: Maximum number of iterations reached\n",
      "  warnings.warn('Maximum number of iterations reached',\n",
      "/opt/anaconda3/lib/python3.9/site-packages/sklearn/cross_decomposition/_pls.py:97: ConvergenceWarning: Maximum number of iterations reached\n",
      "  warnings.warn('Maximum number of iterations reached',\n"
     ]
    },
    {
     "name": "stdout",
     "output_type": "stream",
     "text": [
      "0.998 0.00207405303693035\n",
      "-----------------------\n",
      "100 LinearRegression() gcm_gmb\n",
      "1.0 0.0\n",
      "-----------------------\n",
      "100 RidgeCV(alphas=array([ 0.1,  1. , 10. ])) gcm_gmb\n",
      "0.994 0.0035445276130959998\n",
      "-----------------------\n",
      "100 PLSRegression(n_components=1) gcm_gmb\n",
      "0.994 0.0035811500945925213\n",
      "-----------------------\n",
      "200 LinearRegression() max_corr\n",
      "1.0 0.0\n",
      "-----------------------\n",
      "200 RidgeCV(alphas=array([ 0.1,  1. , 10. ])) max_corr\n",
      "1.0 0.0\n",
      "-----------------------\n",
      "200 PLSRegression(n_components=1) max_corr\n",
      "1.0 0.0\n",
      "-----------------------\n",
      "200 LinearRegression() max_corr_shuffle\n",
      "1.0 0.0\n",
      "-----------------------\n",
      "200 RidgeCV(alphas=array([ 0.1,  1. , 10. ])) max_corr_shuffle\n",
      "1.0 0.0\n",
      "-----------------------\n",
      "200 PLSRegression(n_components=1) max_corr_shuffle\n"
     ]
    },
    {
     "name": "stderr",
     "output_type": "stream",
     "text": [
      "/opt/anaconda3/lib/python3.9/site-packages/sklearn/cross_decomposition/_pls.py:97: ConvergenceWarning: Maximum number of iterations reached\n",
      "  warnings.warn('Maximum number of iterations reached',\n",
      "/opt/anaconda3/lib/python3.9/site-packages/sklearn/cross_decomposition/_pls.py:97: ConvergenceWarning: Maximum number of iterations reached\n",
      "  warnings.warn('Maximum number of iterations reached',\n",
      "/opt/anaconda3/lib/python3.9/site-packages/sklearn/cross_decomposition/_pls.py:97: ConvergenceWarning: Maximum number of iterations reached\n",
      "  warnings.warn('Maximum number of iterations reached',\n",
      "/opt/anaconda3/lib/python3.9/site-packages/sklearn/cross_decomposition/_pls.py:97: ConvergenceWarning: Maximum number of iterations reached\n",
      "  warnings.warn('Maximum number of iterations reached',\n",
      "/opt/anaconda3/lib/python3.9/site-packages/sklearn/cross_decomposition/_pls.py:97: ConvergenceWarning: Maximum number of iterations reached\n",
      "  warnings.warn('Maximum number of iterations reached',\n",
      "/opt/anaconda3/lib/python3.9/site-packages/sklearn/cross_decomposition/_pls.py:97: ConvergenceWarning: Maximum number of iterations reached\n",
      "  warnings.warn('Maximum number of iterations reached',\n",
      "/opt/anaconda3/lib/python3.9/site-packages/sklearn/cross_decomposition/_pls.py:97: ConvergenceWarning: Maximum number of iterations reached\n",
      "  warnings.warn('Maximum number of iterations reached',\n",
      "/opt/anaconda3/lib/python3.9/site-packages/sklearn/cross_decomposition/_pls.py:97: ConvergenceWarning: Maximum number of iterations reached\n",
      "  warnings.warn('Maximum number of iterations reached',\n",
      "/opt/anaconda3/lib/python3.9/site-packages/sklearn/cross_decomposition/_pls.py:97: ConvergenceWarning: Maximum number of iterations reached\n",
      "  warnings.warn('Maximum number of iterations reached',\n",
      "/opt/anaconda3/lib/python3.9/site-packages/sklearn/cross_decomposition/_pls.py:97: ConvergenceWarning: Maximum number of iterations reached\n",
      "  warnings.warn('Maximum number of iterations reached',\n"
     ]
    },
    {
     "name": "stdout",
     "output_type": "stream",
     "text": [
      "1.0 0.0\n",
      "-----------------------\n",
      "200 LinearRegression() gcm_shuffle\n",
      "1.0 0.0\n",
      "-----------------------\n",
      "200 RidgeCV(alphas=array([ 0.1,  1. , 10. ])) gcm_shuffle\n",
      "1.0 0.0\n",
      "-----------------------\n",
      "200 PLSRegression(n_components=1) gcm_shuffle\n"
     ]
    },
    {
     "name": "stderr",
     "output_type": "stream",
     "text": [
      "/opt/anaconda3/lib/python3.9/site-packages/sklearn/cross_decomposition/_pls.py:97: ConvergenceWarning: Maximum number of iterations reached\n",
      "  warnings.warn('Maximum number of iterations reached',\n",
      "/opt/anaconda3/lib/python3.9/site-packages/sklearn/cross_decomposition/_pls.py:97: ConvergenceWarning: Maximum number of iterations reached\n",
      "  warnings.warn('Maximum number of iterations reached',\n",
      "/opt/anaconda3/lib/python3.9/site-packages/sklearn/cross_decomposition/_pls.py:97: ConvergenceWarning: Maximum number of iterations reached\n",
      "  warnings.warn('Maximum number of iterations reached',\n",
      "/opt/anaconda3/lib/python3.9/site-packages/sklearn/cross_decomposition/_pls.py:97: ConvergenceWarning: Maximum number of iterations reached\n",
      "  warnings.warn('Maximum number of iterations reached',\n"
     ]
    },
    {
     "name": "stdout",
     "output_type": "stream",
     "text": [
      "1.0 0.0\n",
      "-----------------------\n",
      "200 LinearRegression() gcm_gmb\n",
      "1.0 0.0\n",
      "-----------------------\n",
      "200 RidgeCV(alphas=array([ 0.1,  1. , 10. ])) gcm_gmb\n",
      "1.0 0.0\n",
      "-----------------------\n",
      "200 PLSRegression(n_components=1) gcm_gmb\n",
      "1.0 0.0\n",
      "-----------------------\n",
      "500 LinearRegression() max_corr\n",
      "1.0 0.0\n",
      "-----------------------\n",
      "500 RidgeCV(alphas=array([ 0.1,  1. , 10. ])) max_corr\n",
      "1.0 0.0\n",
      "-----------------------\n",
      "500 PLSRegression(n_components=1) max_corr\n",
      "1.0 0.0\n",
      "-----------------------\n",
      "500 LinearRegression() max_corr_shuffle\n",
      "1.0 0.0\n",
      "-----------------------\n",
      "500 RidgeCV(alphas=array([ 0.1,  1. , 10. ])) max_corr_shuffle\n",
      "1.0 0.0\n",
      "-----------------------\n",
      "500 PLSRegression(n_components=1) max_corr_shuffle\n"
     ]
    },
    {
     "name": "stderr",
     "output_type": "stream",
     "text": [
      "/opt/anaconda3/lib/python3.9/site-packages/sklearn/cross_decomposition/_pls.py:97: ConvergenceWarning: Maximum number of iterations reached\n",
      "  warnings.warn('Maximum number of iterations reached',\n",
      "/opt/anaconda3/lib/python3.9/site-packages/sklearn/cross_decomposition/_pls.py:97: ConvergenceWarning: Maximum number of iterations reached\n",
      "  warnings.warn('Maximum number of iterations reached',\n",
      "/opt/anaconda3/lib/python3.9/site-packages/sklearn/cross_decomposition/_pls.py:97: ConvergenceWarning: Maximum number of iterations reached\n",
      "  warnings.warn('Maximum number of iterations reached',\n",
      "/opt/anaconda3/lib/python3.9/site-packages/sklearn/cross_decomposition/_pls.py:97: ConvergenceWarning: Maximum number of iterations reached\n",
      "  warnings.warn('Maximum number of iterations reached',\n",
      "/opt/anaconda3/lib/python3.9/site-packages/sklearn/cross_decomposition/_pls.py:97: ConvergenceWarning: Maximum number of iterations reached\n",
      "  warnings.warn('Maximum number of iterations reached',\n",
      "/opt/anaconda3/lib/python3.9/site-packages/sklearn/cross_decomposition/_pls.py:97: ConvergenceWarning: Maximum number of iterations reached\n",
      "  warnings.warn('Maximum number of iterations reached',\n"
     ]
    },
    {
     "name": "stdout",
     "output_type": "stream",
     "text": [
      "1.0 0.0\n",
      "-----------------------\n",
      "500 LinearRegression() gcm_shuffle\n",
      "1.0 0.0\n",
      "-----------------------\n",
      "500 RidgeCV(alphas=array([ 0.1,  1. , 10. ])) gcm_shuffle\n",
      "1.0 0.0\n",
      "-----------------------\n",
      "500 PLSRegression(n_components=1) gcm_shuffle\n"
     ]
    },
    {
     "name": "stderr",
     "output_type": "stream",
     "text": [
      "/opt/anaconda3/lib/python3.9/site-packages/sklearn/cross_decomposition/_pls.py:97: ConvergenceWarning: Maximum number of iterations reached\n",
      "  warnings.warn('Maximum number of iterations reached',\n",
      "/opt/anaconda3/lib/python3.9/site-packages/sklearn/cross_decomposition/_pls.py:97: ConvergenceWarning: Maximum number of iterations reached\n",
      "  warnings.warn('Maximum number of iterations reached',\n",
      "/opt/anaconda3/lib/python3.9/site-packages/sklearn/cross_decomposition/_pls.py:97: ConvergenceWarning: Maximum number of iterations reached\n",
      "  warnings.warn('Maximum number of iterations reached',\n",
      "/opt/anaconda3/lib/python3.9/site-packages/sklearn/cross_decomposition/_pls.py:97: ConvergenceWarning: Maximum number of iterations reached\n",
      "  warnings.warn('Maximum number of iterations reached',\n",
      "/opt/anaconda3/lib/python3.9/site-packages/sklearn/cross_decomposition/_pls.py:97: ConvergenceWarning: Maximum number of iterations reached\n",
      "  warnings.warn('Maximum number of iterations reached',\n"
     ]
    },
    {
     "name": "stdout",
     "output_type": "stream",
     "text": [
      "1.0 0.0\n",
      "-----------------------\n",
      "500 LinearRegression() gcm_gmb\n",
      "1.0 0.0\n",
      "-----------------------\n",
      "500 RidgeCV(alphas=array([ 0.1,  1. , 10. ])) gcm_gmb\n",
      "1.0 0.0\n",
      "-----------------------\n",
      "500 PLSRegression(n_components=1) gcm_gmb\n",
      "1.0 0.0\n",
      "-----------------------\n",
      "1000 LinearRegression() max_corr\n",
      "1.0 0.0\n",
      "-----------------------\n",
      "1000 RidgeCV(alphas=array([ 0.1,  1. , 10. ])) max_corr\n",
      "1.0 0.0\n",
      "-----------------------\n",
      "1000 PLSRegression(n_components=1) max_corr\n",
      "1.0 0.0\n",
      "-----------------------\n",
      "1000 LinearRegression() max_corr_shuffle\n",
      "1.0 0.0\n",
      "-----------------------\n",
      "1000 RidgeCV(alphas=array([ 0.1,  1. , 10. ])) max_corr_shuffle\n",
      "1.0 0.0\n",
      "-----------------------\n",
      "1000 PLSRegression(n_components=1) max_corr_shuffle\n"
     ]
    },
    {
     "name": "stderr",
     "output_type": "stream",
     "text": [
      "/opt/anaconda3/lib/python3.9/site-packages/sklearn/cross_decomposition/_pls.py:97: ConvergenceWarning: Maximum number of iterations reached\n",
      "  warnings.warn('Maximum number of iterations reached',\n",
      "/opt/anaconda3/lib/python3.9/site-packages/sklearn/cross_decomposition/_pls.py:97: ConvergenceWarning: Maximum number of iterations reached\n",
      "  warnings.warn('Maximum number of iterations reached',\n",
      "/opt/anaconda3/lib/python3.9/site-packages/sklearn/cross_decomposition/_pls.py:97: ConvergenceWarning: Maximum number of iterations reached\n",
      "  warnings.warn('Maximum number of iterations reached',\n",
      "/opt/anaconda3/lib/python3.9/site-packages/sklearn/cross_decomposition/_pls.py:97: ConvergenceWarning: Maximum number of iterations reached\n",
      "  warnings.warn('Maximum number of iterations reached',\n",
      "/opt/anaconda3/lib/python3.9/site-packages/sklearn/cross_decomposition/_pls.py:97: ConvergenceWarning: Maximum number of iterations reached\n",
      "  warnings.warn('Maximum number of iterations reached',\n"
     ]
    },
    {
     "name": "stdout",
     "output_type": "stream",
     "text": [
      "1.0 0.0\n",
      "-----------------------\n",
      "1000 LinearRegression() gcm_shuffle\n",
      "1.0 0.0\n",
      "-----------------------\n",
      "1000 RidgeCV(alphas=array([ 0.1,  1. , 10. ])) gcm_shuffle\n",
      "1.0 0.0\n",
      "-----------------------\n",
      "1000 PLSRegression(n_components=1) gcm_shuffle\n"
     ]
    },
    {
     "name": "stderr",
     "output_type": "stream",
     "text": [
      "/opt/anaconda3/lib/python3.9/site-packages/sklearn/cross_decomposition/_pls.py:97: ConvergenceWarning: Maximum number of iterations reached\n",
      "  warnings.warn('Maximum number of iterations reached',\n",
      "/opt/anaconda3/lib/python3.9/site-packages/sklearn/cross_decomposition/_pls.py:97: ConvergenceWarning: Maximum number of iterations reached\n",
      "  warnings.warn('Maximum number of iterations reached',\n",
      "/opt/anaconda3/lib/python3.9/site-packages/sklearn/cross_decomposition/_pls.py:97: ConvergenceWarning: Maximum number of iterations reached\n",
      "  warnings.warn('Maximum number of iterations reached',\n"
     ]
    },
    {
     "name": "stdout",
     "output_type": "stream",
     "text": [
      "1.0 0.0\n",
      "-----------------------\n",
      "1000 LinearRegression() gcm_gmb\n",
      "1.0 0.0\n",
      "-----------------------\n",
      "1000 RidgeCV(alphas=array([ 0.1,  1. , 10. ])) gcm_gmb\n",
      "1.0 0.0\n",
      "-----------------------\n",
      "1000 PLSRegression(n_components=1) gcm_gmb\n",
      "1.0 0.0\n",
      "-----------------------\n"
     ]
    }
   ],
   "source": [
    "metrics_10_20_type2 = metrics_rate_full(sample_range,corr_type_range,reg_range,error, dimxy, dimz, z_int=None, num_int = None, n_conf = None)"
   ]
  },
  {
   "cell_type": "code",
   "execution_count": 33,
   "id": "09b98e56-f059-4ec8-9764-2c1041c7ce08",
   "metadata": {
    "collapsed": true,
    "jupyter": {
     "outputs_hidden": true
    },
    "tags": []
   },
   "outputs": [
    {
     "data": {
      "text/plain": [
       "{'ols': {'max_corr': {100: (0.556, 0.023058662493735383),\n",
       "   200: (1.0, 0.0),\n",
       "   500: (1.0, 0.0),\n",
       "   1000: (1.0, 0.0)},\n",
       "  'max_corr_shuffle': {100: (0.892, 0.014128538494833793),\n",
       "   200: (1.0, 0.0),\n",
       "   500: (1.0, 0.0),\n",
       "   1000: (1.0, 0.0)},\n",
       "  'gcm_shuffle': {100: (0.966, 0.007932713028970612),\n",
       "   200: (1.0, 0.0),\n",
       "   500: (1.0, 0.0),\n",
       "   1000: (1.0, 0.0)},\n",
       "  'gcm_gmb': {100: (1.0, 0.0),\n",
       "   200: (1.0, 0.0),\n",
       "   500: (1.0, 0.0),\n",
       "   1000: (1.0, 0.0)}},\n",
       " 'ridge': {'max_corr': {100: (0.586, 0.02095991412196147),\n",
       "   200: (1.0, 0.0),\n",
       "   500: (1.0, 0.0),\n",
       "   1000: (1.0, 0.0)},\n",
       "  'max_corr_shuffle': {100: (0.85, 0.015308235561291848),\n",
       "   200: (1.0, 0.0),\n",
       "   500: (1.0, 0.0),\n",
       "   1000: (1.0, 0.0)},\n",
       "  'gcm_shuffle': {100: (0.976, 0.007051185432251806),\n",
       "   200: (1.0, 0.0),\n",
       "   500: (1.0, 0.0),\n",
       "   1000: (1.0, 0.0)},\n",
       "  'gcm_gmb': {100: (0.994, 0.0035445276130959998),\n",
       "   200: (1.0, 0.0),\n",
       "   500: (1.0, 0.0),\n",
       "   1000: (1.0, 0.0)}},\n",
       " 'pls': {'max_corr': {100: (0.468, 0.021402189701056288),\n",
       "   200: (1.0, 0.0),\n",
       "   500: (1.0, 0.0),\n",
       "   1000: (1.0, 0.0)},\n",
       "  'max_corr_shuffle': {100: (0.98, 0.006256823155563859),\n",
       "   200: (1.0, 0.0),\n",
       "   500: (1.0, 0.0),\n",
       "   1000: (1.0, 0.0)},\n",
       "  'gcm_shuffle': {100: (0.998, 0.00207405303693035),\n",
       "   200: (1.0, 0.0),\n",
       "   500: (1.0, 0.0),\n",
       "   1000: (1.0, 0.0)},\n",
       "  'gcm_gmb': {100: (0.994, 0.0035811500945925213),\n",
       "   200: (1.0, 0.0),\n",
       "   500: (1.0, 0.0),\n",
       "   1000: (1.0, 0.0)}}}"
      ]
     },
     "execution_count": 33,
     "metadata": {},
     "output_type": "execute_result"
    }
   ],
   "source": [
    "metrics_10_20_type2"
   ]
  },
  {
   "cell_type": "code",
   "execution_count": null,
   "id": "3a545a8f-7004-45cd-84ff-6ae518150f24",
   "metadata": {},
   "outputs": [],
   "source": []
  },
  {
   "cell_type": "markdown",
   "id": "a8650b5c-29ef-4207-9480-de0ac565272f",
   "metadata": {
    "tags": []
   },
   "source": [
    "### Dump Metrics"
   ]
  },
  {
   "cell_type": "code",
   "execution_count": 34,
   "id": "c236713c-980d-4ace-9e17-18d378120484",
   "metadata": {},
   "outputs": [
    {
     "name": "stdout",
     "output_type": "stream",
     "text": [
      "Metrics dump  /Users/urmininad/Documents/Python/Mult_CI_Tests/metrics/10-20-type2-None-None_metrics.dat\n"
     ]
    }
   ],
   "source": [
    "#conf = \"1-20-type1-None-None\"\n",
    "conf = \"10-20-type2-None-None\"\n",
    "file_name = os.path.expanduser('~') + '/Documents/Python/Mult_CI_Tests/metrics/%s' %(conf)\n",
    "\n",
    "print(\"Metrics dump \", file_name.replace(\"'\", \"\").replace('\"', '') + '_metrics.dat')\n",
    "file = open(file_name.replace(\"'\", \"\").replace('\"', '') + '_metrics.dat', 'wb')\n",
    "#pickle.dump(metrics, file, protocol=-1)        \n",
    "pickle.dump(metrics_10_20_type2, file, protocol=-1)        \n",
    "file.close()"
   ]
  },
  {
   "cell_type": "code",
   "execution_count": 35,
   "id": "b448c661-7742-4cae-8747-007bf7a1fad9",
   "metadata": {},
   "outputs": [
    {
     "name": "stdout",
     "output_type": "stream",
     "text": [
      "load from metrics file  /Users/urmininad/Documents/Python/Mult_CI_Tests/metrics/10-20-type2-None-None_metrics.dat \n"
     ]
    }
   ],
   "source": [
    "para_setup = tuple(conf.split(\"-\"))\n",
    "results = get_metrics_from_file(para_setup)"
   ]
  },
  {
   "cell_type": "markdown",
   "id": "a1997f8f-f61b-41a7-b3a0-a94a9de165e6",
   "metadata": {
    "jp-MarkdownHeadingCollapsed": true,
    "tags": []
   },
   "source": [
    "# Plotting function"
   ]
  },
  {
   "cell_type": "code",
   "execution_count": 38,
   "id": "8ae475d5-8484-4710-b7a3-5a641206671a",
   "metadata": {},
   "outputs": [],
   "source": [
    "def gen_plots_sample_size(para_setup_list= anyconfigurations, save  = 'no'):\n",
    "    \n",
    "    print('sample range =', sample_range,'\\n----')\n",
    "    \n",
    "    fig, (axs) = plt.subplots(1, 3, figsize=(12,  4))#, layout=\"constrained\")\n",
    "    axs = axs.ravel()\n",
    "    \n",
    "    l = 0\n",
    "    for j,para_setup in enumerate(para_setup_list):\n",
    "        \n",
    "        #print('j', j)\n",
    "        \n",
    "        para_setup_string = para_setup\n",
    "        paras = para_setup_string.split('-') #para_setup_string[0].split('-')\n",
    "        paras = [w.replace(\"'\",\"\") for w in paras]\n",
    "\n",
    "        dimxy = int(paras[0])\n",
    "        dimz = int(paras[1])\n",
    "        err_type = str(paras[2])\n",
    "        z_int = str(paras[3])\n",
    "        n_conf = str(paras[4])        \n",
    "        results = get_results_from_para(para_setup)\n",
    "        \n",
    "        fig.suptitle(para_setup)\n",
    "        \n",
    "        for i,reg_type in enumerate(results.keys()): \n",
    "            \n",
    "            i+=l\n",
    "            #print('i',i)            \n",
    "            axs[i].title.set_text(para_setup)\n",
    "            \n",
    "            for corr_type in results[reg_type].keys():\n",
    "                \n",
    "                # if dimxy == 1 and corr_type != 'gcm_gmb':\n",
    "                \n",
    "                x = list(results[reg_type][corr_type].keys())\n",
    "                sample_range_ticks = [str(m) for m in x]\n",
    "\n",
    "                y_tot = np.array([results[reg_type][corr_type][sample_size] for sample_size in x])\n",
    "                y = y_tot[:,0]\n",
    "                std_error = y_tot[:,1]            \n",
    "                x = np.arange(0,len(x),1)\n",
    "                axs[i].errorbar(x, y, yerr=std_error, label = corr_type)\n",
    "                axs[i].set_xlabel('sample size')\n",
    "                axs[i].set_ylabel(err_type)\n",
    "                axs[i].tick_params(axis='y')\n",
    "                axs[i].grid(True)\n",
    "                axs[i].set_title((reg_type,z_int,n_conf))\n",
    "\n",
    "                if err_type == 'type1':\n",
    "                    axs[i].set_ylim(0.0, 0.2)\n",
    "                else:\n",
    "                    axs[i].set_ylim(0.3, 1.15)\n",
    "                axs[i].axhline(y=0.05, color='black', linestyle='dotted')\n",
    "\n",
    "                axs[i].xaxis.set_ticks(list(x) )\n",
    "                axs[i].xaxis.set_ticklabels(sample_range_ticks)\n",
    "                \n",
    "\n",
    "\n",
    "                \n",
    "        l+=3\n",
    "                \n",
    "        plt.legend(bbox_to_anchor=(1.05, 1), loc='upper left', borderaxespad=0.)\n",
    "\n",
    "\n",
    "        fig.tight_layout()\n",
    "        \n",
    "        if save == 'yes':\n",
    "            save_suffix = para_setup#+'-shd'\n",
    "            save_type = 'pdf'\n",
    "            save_folder = os.path.expanduser('~') + '/Documents/Python/Mult_CI_Tests/local_figures/'\n",
    "            fig.savefig(save_folder + '%s.%s' %(save_suffix, save_type))\n",
    "    \n",
    "#     if save == 'yes':\n",
    "#         save_suffix = para_setup#+'-shd'\n",
    "#         save_type = 'pdf'\n",
    "#         save_folder = os.path.expanduser('~') + '/Documents/Python/Mult_CI_Tests/local_figures/'\n",
    "#         fig.savefig(save_folder + '%s.%s' %(save_suffix, save_type))\n",
    "        "
   ]
  },
  {
   "cell_type": "code",
   "execution_count": 39,
   "id": "bf9b4eb3-230e-40b9-beae-57ac8b4c3f1e",
   "metadata": {},
   "outputs": [
    {
     "name": "stdout",
     "output_type": "stream",
     "text": [
      "sample range = [100, 200, 500, 1000] \n",
      "----\n",
      "load from metrics file  /Users/urmininad/Documents/Python/Mult_CI_Tests/metrics/10-20-type1-None-None_metrics.dat \n"
     ]
    },
    {
     "data": {
      "image/png": "[encoded data removed]",
      "text/plain": [
       "<Figure size 864x288 with 3 Axes>"
      ]
     },
     "metadata": {
      "needs_background": "light"
     },
     "output_type": "display_data"
    }
   ],
   "source": [
    "anyconfigurations = [] \n",
    "for dimxy in [10]:\n",
    "    for dimz in [20]:\n",
    "        for err_type in ['type1']:\n",
    "            for z_int in ['None']:\n",
    "                for n_conf in ['None']:\n",
    "                    para_setup = (dimxy,dimz,err_type,z_int,n_conf)\n",
    "                    name = '%s-'*len(para_setup) % para_setup\n",
    "                    name = name[:-1]\n",
    "                    anyconfigurations += [name]\n",
    "\n",
    "#anyconfigurations[0]\n",
    "gen_plots_sample_size(anyconfigurations, save = 'yes')"
   ]
  },
  {
   "cell_type": "code",
   "execution_count": 40,
   "id": "8479c8b8-aeed-4b89-bdb8-6cbc93d72a7d",
   "metadata": {},
   "outputs": [
    {
     "name": "stdout",
     "output_type": "stream",
     "text": [
      "sample range = [100, 200, 500, 1000] \n",
      "----\n",
      "load from metrics file  /Users/urmininad/Documents/Python/Mult_CI_Tests/metrics/10-20-type2-None-None_metrics.dat \n"
     ]
    },
    {
     "data": {
      "image/png": "[encoded data removed]",
      "text/plain": [
       "<Figure size 864x288 with 3 Axes>"
      ]
     },
     "metadata": {
      "needs_background": "light"
     },
     "output_type": "display_data"
    }
   ],
   "source": [
    "anyconfigurations = [] \n",
    "for dimxy in [10]:\n",
    "    for dimz in [20]:\n",
    "        for err_type in ['type2']:\n",
    "            for z_int in ['None']:\n",
    "                for n_conf in ['None']:\n",
    "                    para_setup = (dimxy,dimz,err_type,z_int,n_conf)\n",
    "                    name = '%s-'*len(para_setup) % para_setup\n",
    "                    name = name[:-1]\n",
    "                    anyconfigurations += [name]\n",
    "\n",
    "#anyconfigurations\n",
    "gen_plots_sample_size(anyconfigurations, save = 'yes')"
   ]
  },
  {
   "cell_type": "markdown",
   "id": "c11ec8aa-7a2d-4a3d-a98b-be3dbeb97466",
   "metadata": {},
   "source": [
    "### Try with z_int = 'High', see if power goes down"
   ]
  },
  {
   "cell_type": "code",
   "execution_count": null,
   "id": "fe61cf98-34ac-4267-92ee-a10006706a4d",
   "metadata": {},
   "outputs": [],
   "source": []
  },
  {
   "cell_type": "code",
   "execution_count": null,
   "id": "b8ae3541-2fb4-4071-bb85-2ac321a48a92",
   "metadata": {},
   "outputs": [],
   "source": []
  },
  {
   "cell_type": "code",
   "execution_count": null,
   "id": "3a2af03b-1f6f-4b09-bb29-c029c8e863a5",
   "metadata": {},
   "outputs": [],
   "source": []
  },
  {
   "cell_type": "code",
   "execution_count": null,
   "id": "1d8a02ba-2435-49bd-9d65-c08f00248e84",
   "metadata": {},
   "outputs": [],
   "source": []
  },
  {
   "cell_type": "code",
   "execution_count": null,
   "id": "f4cb9943-6a16-480c-8f51-139742d46430",
   "metadata": {},
   "outputs": [],
   "source": []
  },
  {
   "cell_type": "code",
   "execution_count": null,
   "id": "a6508ea6-67c5-4bfb-a684-597d4f6ba3b4",
   "metadata": {},
   "outputs": [],
   "source": []
  },
  {
   "cell_type": "code",
   "execution_count": null,
   "id": "d2821bbd-c196-4f97-8039-3c978a6b7c2d",
   "metadata": {},
   "outputs": [],
   "source": []
  },
  {
   "cell_type": "code",
   "execution_count": null,
   "id": "7fd1db8a-8a61-4f1f-b32a-001f05141b78",
   "metadata": {},
   "outputs": [],
   "source": []
  },
  {
   "cell_type": "code",
   "execution_count": null,
   "id": "eab110f1-d7f4-4a9f-9539-9cedd8320ada",
   "metadata": {},
   "outputs": [],
   "source": []
  },
  {
   "cell_type": "markdown",
   "id": "79f92e29-0148-4a43-9a00-71316d0ed650",
   "metadata": {
    "jp-MarkdownHeadingCollapsed": true,
    "tags": []
   },
   "source": [
    "# Local Plot Script"
   ]
  },
  {
   "cell_type": "code",
   "execution_count": 30,
   "id": "b3cc460e-4bae-4a85-8777-ab47d0fd0c9f",
   "metadata": {},
   "outputs": [],
   "source": [
    "if os.path.expanduser('~') == '/home/b/b381872':\n",
    "    folder_name = os.path.expanduser('~') +'/work/bd1083/Interim_results/multCI/metrics/'\n",
    "    save_folder = os.path.expanduser('~') + '/work/bd1083/Projects/multCI/figures/'\n",
    "elif os.path.expanduser('~') == '/Users/urmininad':\n",
    "    #folder_name = os.path.expanduser('~') + '/Documents/Python/aggregation_validity/Interim_results/'\n",
    "    # save_folder = os.path.expanduser('~') + '/Documents/Python/aggregation_validity/figures/'\n",
    "    \n",
    "    folder_name = os.path.expanduser('~') + '/Documents/Python/Mult_CI_Tests/metrics/'\n",
    "\n",
    "def get_metrics_from_file(para_setup):\n",
    "\n",
    "    name_string = '%s-'*len(para_setup)  # % para_setup\n",
    "    name_string = name_string[:-1]\n",
    "\n",
    "    try:\n",
    "        print(\"load from metrics file  %s_metrics.dat \" % (folder_name + name_string % (para_setup)))\n",
    "        results = pickle.load(open(folder_name + name_string % (para_setup) + '_metrics.dat', 'rb'), encoding='latin1')\n",
    "    except:\n",
    "        print('***---*** failed from metrics file '  , (para_setup))\n",
    "        return None\n",
    "\n",
    "    return results\n",
    "\n",
    "def get_results_from_para(para_setup):\n",
    "    para_setup_str = tuple(para_setup.split(\"-\"))\n",
    "    results = get_metrics_from_file(para_setup_str)\n",
    "    return results    \n",
    "\n",
    "# para_setup = \"1-20-type1-None-5\"\n",
    "# results = get_results_from_para(para_setup)"
   ]
  },
  {
   "cell_type": "code",
   "execution_count": 29,
   "id": "e1238979-ad17-4052-bc73-fad771ca4e37",
   "metadata": {},
   "outputs": [
    {
     "ename": "NameError",
     "evalue": "name 'anyconfigurations' is not defined",
     "output_type": "error",
     "traceback": [
      "\u001B[0;31m---------------------------------------------------------------------------\u001B[0m",
      "\u001B[0;31mNameError\u001B[0m                                 Traceback (most recent call last)",
      "\u001B[0;32m/var/folders/41/0f2l4zg91hn3n6mvswgrw_6r0000gn/T/ipykernel_86203/822952840.py\u001B[0m in \u001B[0;36m<module>\u001B[0;34m\u001B[0m\n\u001B[1;32m     30\u001B[0m \u001B[0;31m# results = get_results_from_para(para_setup)\u001B[0m\u001B[0;34m\u001B[0m\u001B[0;34m\u001B[0m\u001B[0m\n\u001B[1;32m     31\u001B[0m \u001B[0;34m\u001B[0m\u001B[0m\n\u001B[0;32m---> 32\u001B[0;31m \u001B[0;32mdef\u001B[0m \u001B[0mgen_plots_sample_size\u001B[0m\u001B[0;34m(\u001B[0m\u001B[0mpara_setup_list\u001B[0m\u001B[0;34m=\u001B[0m \u001B[0manyconfigurations\u001B[0m\u001B[0;34m)\u001B[0m\u001B[0;34m:\u001B[0m\u001B[0;34m\u001B[0m\u001B[0;34m\u001B[0m\u001B[0m\n\u001B[0m\u001B[1;32m     33\u001B[0m \u001B[0;34m\u001B[0m\u001B[0m\n\u001B[1;32m     34\u001B[0m     \u001B[0mfig\u001B[0m\u001B[0;34m,\u001B[0m \u001B[0;34m(\u001B[0m\u001B[0maxs\u001B[0m\u001B[0;34m)\u001B[0m \u001B[0;34m=\u001B[0m \u001B[0mplt\u001B[0m\u001B[0;34m.\u001B[0m\u001B[0msubplots\u001B[0m\u001B[0;34m(\u001B[0m\u001B[0;36m2\u001B[0m\u001B[0;34m,\u001B[0m \u001B[0;36m3\u001B[0m\u001B[0;34m,\u001B[0m \u001B[0mfigsize\u001B[0m\u001B[0;34m=\u001B[0m\u001B[0;34m(\u001B[0m\u001B[0;36m12\u001B[0m\u001B[0;34m,\u001B[0m  \u001B[0;36m6\u001B[0m\u001B[0;34m)\u001B[0m\u001B[0;34m)\u001B[0m\u001B[0;31m#, layout=\"constrained\")\u001B[0m\u001B[0;34m\u001B[0m\u001B[0;34m\u001B[0m\u001B[0m\n",
      "\u001B[0;31mNameError\u001B[0m: name 'anyconfigurations' is not defined"
     ]
    }
   ],
   "source": [
    "def gen_plots_sample_size(para_setup_list= anyconfigurations):\n",
    "    \n",
    "    fig, (axs) = plt.subplots(2, 3, figsize=(12,  6))#, layout=\"constrained\")\n",
    "    #plt.subplots_adjust(top = 0.99, bottom=0.01, hspace=0.3, wspace=0.3)\n",
    "    #plt.xticks([0,100,5000])\n",
    "    # plt.setp(axs, xticks=[0.1, 0.5, 0.9], xticklabels=['100', '1000', '5000'])\n",
    "    #plt.xscale('log')\n",
    "    # fig.suptitle(para_setup)\n",
    "    axs = axs.ravel()\n",
    "    \n",
    "    l = 0\n",
    "    for j,para_setup in enumerate(para_setup_list):\n",
    "        \n",
    "        #print('j', j)\n",
    "        \n",
    "        para_setup_string = para_setup\n",
    "        paras = para_setup_string.split('-') #para_setup_string[0].split('-')\n",
    "        paras = [w.replace(\"'\",\"\") for w in paras]\n",
    "\n",
    "        dimxy = int(paras[0])\n",
    "        dimz = int(paras[1])\n",
    "        err_type = str(paras[2])\n",
    "        z_int = str(paras[3])\n",
    "        n_conf = str(paras[4])        \n",
    "        results = get_results_from_para(para_setup)\n",
    "        \n",
    "        fig.suptitle(para_setup)\n",
    "        \n",
    "        for i,reg_type in enumerate(results.keys()): \n",
    "            \n",
    "            i+=l\n",
    "            #print('i',i)            \n",
    "            axs[i].title.set_text(para_setup)\n",
    "            \n",
    "            for corr_type in results[reg_type].keys():\n",
    "                \n",
    "                if dimxy == 1 and corr_type != 'gcm_gmb':\n",
    "                \n",
    "                    x = list(results[reg_type][corr_type].keys())\n",
    "                    y_tot = np.array([results[reg_type][corr_type][sample_size] for sample_size in x])\n",
    "                    y = y_tot[:,0]\n",
    "                    std_error = y_tot[:,1]            \n",
    "                    x = np.arange(0,len(x),1)\n",
    "                    axs[i].errorbar(x, y, yerr=std_error, label = corr_type)\n",
    "                    axs[i].set_xlabel('sample size')\n",
    "                    axs[i].set_ylabel(err_type)\n",
    "                    axs[i].tick_params(axis='y')\n",
    "                    axs[i].grid(True)\n",
    "                    axs[i].set_title((reg_type,z_int,n_conf))\n",
    "                    \n",
    "                    if err_type == 'type1':\n",
    "                        axs[i].set_ylim(0.0, 0.15)\n",
    "                    else:\n",
    "                        axs[i].set_ylim(0.5, 1.15) #(0.0, 0.15)\n",
    "                    axs[i].axhline(y=0.05, color='black', linestyle='dotted')\n",
    "                    \n",
    "                    axs[i].xaxis.set_ticks(list(x) )\n",
    "                    axs[i].xaxis.set_ticklabels(['100', '1000', '5000'])\n",
    "                    \n",
    "                \n",
    "        l+=3\n",
    "                \n",
    "    plt.legend(bbox_to_anchor=(1.05, 1), loc='upper left', borderaxespad=0.)\n",
    "    \n",
    "\n",
    "    fig.tight_layout()\n",
    "        "
   ]
  },
  {
   "cell_type": "code",
   "execution_count": 394,
   "id": "fd0b6035-16d6-4945-9936-535aa1419297",
   "metadata": {},
   "outputs": [
    {
     "name": "stdout",
     "output_type": "stream",
     "text": [
      "load from metrics file  /Users/urmininad/Documents/Python/Mult_CI_Tests/metrics/1-20-type1-None-None_metrics.dat \n",
      "load from metrics file  /Users/urmininad/Documents/Python/Mult_CI_Tests/metrics/1-20-type1-None-5_metrics.dat \n"
     ]
    },
    {
     "data": {
      "image/png": "[encoded data removed]",
      "text/plain": [
       "<Figure size 864x432 with 6 Axes>"
      ]
     },
     "metadata": {
      "needs_background": "light"
     },
     "output_type": "display_data"
    }
   ],
   "source": [
    "anyconfigurations = [] \n",
    "for dimxy in [1]:\n",
    "    for dimz in [20]:\n",
    "        for err_type in ['type1']:\n",
    "            for z_int in ['None']:\n",
    "                for n_conf in ['None',5]:\n",
    "                    para_setup = (dimxy,dimz,err_type,z_int,n_conf)\n",
    "                    name = '%s-'*len(para_setup) % para_setup\n",
    "                    name = name[:-1]\n",
    "                    anyconfigurations += [name]\n",
    "\n",
    "#anyconfigurations\n",
    "gen_plots_sample_size(anyconfigurations)"
   ]
  },
  {
   "cell_type": "code",
   "execution_count": 395,
   "id": "e59a44df-af61-49f6-829b-549692a58727",
   "metadata": {},
   "outputs": [
    {
     "name": "stdout",
     "output_type": "stream",
     "text": [
      "load from metrics file  /Users/urmininad/Documents/Python/Mult_CI_Tests/metrics/1-20-type2-None-None_metrics.dat \n",
      "load from metrics file  /Users/urmininad/Documents/Python/Mult_CI_Tests/metrics/1-20-type2-None-5_metrics.dat \n"
     ]
    },
    {
     "data": {
      "image/png": "[encoded data removed]",
      "text/plain": [
       "<Figure size 864x432 with 6 Axes>"
      ]
     },
     "metadata": {
      "needs_background": "light"
     },
     "output_type": "display_data"
    }
   ],
   "source": [
    "anyconfigurations = [] \n",
    "for dimxy in [1]:\n",
    "    for dimz in [20]:\n",
    "        for err_type in ['type2']:\n",
    "            for z_int in ['None']:\n",
    "                for n_conf in ['None',5]:\n",
    "                    para_setup = (dimxy,dimz,err_type,z_int,n_conf)\n",
    "                    name = '%s-'*len(para_setup) % para_setup\n",
    "                    name = name[:-1]\n",
    "                    anyconfigurations += [name]\n",
    "\n",
    "#anyconfigurations\n",
    "gen_plots_sample_size(anyconfigurations)"
   ]
  },
  {
   "cell_type": "code",
   "execution_count": null,
   "id": "8bf4b9f7-18c6-44fb-acd5-162a8aafee9b",
   "metadata": {},
   "outputs": [],
   "source": []
  },
  {
   "cell_type": "code",
   "execution_count": null,
   "id": "b87ee22c-931f-481e-8b31-044e740d0649",
   "metadata": {},
   "outputs": [],
   "source": []
  },
  {
   "cell_type": "code",
   "execution_count": null,
   "id": "dcf0f8af-accd-4275-b634-86b4028dc107",
   "metadata": {},
   "outputs": [],
   "source": []
  },
  {
   "cell_type": "code",
   "execution_count": null,
   "id": "a1be1176-3b8d-4aa7-ad65-bc7b82565ef7",
   "metadata": {},
   "outputs": [],
   "source": []
  },
  {
   "cell_type": "code",
   "execution_count": null,
   "id": "4fd69bbb-1ec6-4492-9e9d-e6d6e987adc1",
   "metadata": {},
   "outputs": [],
   "source": []
  },
  {
   "cell_type": "code",
   "execution_count": null,
   "id": "2ef2acef-235e-4eb4-8302-82cce7741db0",
   "metadata": {},
   "outputs": [],
   "source": []
  },
  {
   "cell_type": "code",
   "execution_count": null,
   "id": "c3474264-a31a-4716-90b9-d6f5b8f530dc",
   "metadata": {},
   "outputs": [],
   "source": []
  },
  {
   "cell_type": "code",
   "execution_count": null,
   "id": "f17df7dc-78ca-4c3f-ad4f-97efd2fe0de9",
   "metadata": {},
   "outputs": [],
   "source": []
  },
  {
   "cell_type": "code",
   "execution_count": null,
   "id": "10465a6c-9b5a-43f6-877d-4cebfccd20e7",
   "metadata": {},
   "outputs": [],
   "source": []
  },
  {
   "cell_type": "code",
   "execution_count": null,
   "id": "5da16e0c-985f-43b8-bda5-74bb140fcce3",
   "metadata": {},
   "outputs": [],
   "source": []
  },
  {
   "cell_type": "markdown",
   "id": "b4d81d4b-314c-4b44-b48f-5e7b52777b00",
   "metadata": {
    "jp-MarkdownHeadingCollapsed": true,
    "tags": []
   },
   "source": [
    " # Plotting Cluster Results"
   ]
  },
  {
   "cell_type": "code",
   "execution_count": 104,
   "id": "de433e21-985a-4b90-8773-0489a757cc44",
   "metadata": {},
   "outputs": [],
   "source": [
    "if os.path.expanduser('~') == '/home/b/b381872':\n",
    "    folder_name = os.path.expanduser('~') +'/work/bd1083/Interim_results/multCI/metrics/'\n",
    "    save_folder = os.path.expanduser('~') + '/work/bd1083/Projects/multCI/figures/'\n",
    "elif os.path.expanduser('~') == '/Users/urmininad':\n",
    "    folder_name = os.path.expanduser('~') + '/Documents/Python/Mult_CI_Tests/cluster_results_renamed/'\n",
    "    # folder_name = os.path.expanduser('~') + '/Documents/Python/Mult_CI_Tests/Interim_results/'\n",
    "    # save_folder = os.path.expanduser('~') + '/Documents/Python/aggregation_validity/figures/'\n",
    "    \n",
    "def get_metrics_from_file(para_setup):\n",
    "\n",
    "    name_string = '%s-'*len(para_setup)  # % para_setup\n",
    "    name_string = name_string[:-1]\n",
    "\n",
    "    try:\n",
    "        # print(\"load from metrics file  %s_metrics.dat \" % (folder_name + name_string % (para_setup)))\n",
    "        results = pickle.load(open(folder_name + name_string % (para_setup) + '_metrics.dat', 'rb'), encoding='latin1')\n",
    "    except:\n",
    "        # print('***---*** failed from metrics file '  , (para_setup))\n",
    "        return None\n",
    "\n",
    "    return results\n",
    "\n",
    "def get_results_from_para(para_setup):\n",
    "    para_setup_str = tuple(para_setup.split(\"-\"))\n",
    "    # print('para_setup_str',para_setup_str)\n",
    "    results = get_metrics_from_file(para_setup_str)\n",
    "    return results  "
   ]
  },
  {
   "cell_type": "code",
   "execution_count": 105,
   "id": "68ddaced-7f21-481f-ab3a-d957a9cdec36",
   "metadata": {},
   "outputs": [
    {
     "data": {
      "text/plain": [
       "{'rate_mean': 0.072, 'rate_error': 0.011117513211145737}"
      ]
     },
     "execution_count": 105,
     "metadata": {},
     "output_type": "execute_result"
    }
   ],
   "source": [
    "para_setup = \"5-20-type1-None-None-0.05-5000-ridge-max_corr_shuffle\"#\"5-1-type1-None-None-0.05-100-ols-max_corr-1\"  #\"50-20-type2-None-None-0.05-1000-pls-gcm_gmb-1\"\n",
    "get_results_from_para(para_setup)"
   ]
  },
  {
   "cell_type": "code",
   "execution_count": null,
   "id": "6f27bdf8-da7f-4a7f-a353-27dd6fd13737",
   "metadata": {},
   "outputs": [],
   "source": []
  },
  {
   "cell_type": "code",
   "execution_count": 86,
   "id": "3904cfb3-e79a-469d-8b56-1ada0185a471",
   "metadata": {},
   "outputs": [],
   "source": [
    "methods = ['max_corr', 'max_corr_shuffle', 'gcm_shuffle', 'gcm_gmb']\n",
    "sample_range = [100,1000,5000]\n",
    "reg_range = ['ols','ridge','pls']"
   ]
  },
  {
   "cell_type": "code",
   "execution_count": 87,
   "id": "b5e1df2f-5ed0-4799-bca6-7bdfd5d3f5fe",
   "metadata": {},
   "outputs": [],
   "source": [
    "def gen_plot_sample(dimxy,dimz,err_type,z_int,n_conf,alpha, n_components,paras = sample_range):\n",
    "    \n",
    "\n",
    "    fig, (axs) = plt.subplots(1, 3, figsize=(12,  4))\n",
    "    axs = axs.ravel()\n",
    "        \n",
    "    for method in methods:\n",
    "        \n",
    "        for para in paras:\n",
    "            \n",
    "            para_plot = paras.index(para) + methods.index(method)/float(len(methods))*.6\n",
    "                \n",
    "            for i,reg in enumerate(reg_range):\n",
    "                n_components = 1\n",
    "                para_setup = (dimxy,dimz,err_type,z_int,n_conf,alpha,para,reg,method,n_components)\n",
    "                name = '%s-'*len(para_setup) % para_setup\n",
    "                para_setup = name[:-1]\n",
    "                metrics_dict = get_results_from_para(para_setup)\n",
    "                \n",
    "                if metrics_dict == None:\n",
    "                    n_components = 5\n",
    "                    para_setup = (dimxy,dimz,err_type,z_int,n_conf,alpha,para,reg,method,n_components)\n",
    "                    name = '%s-'*len(para_setup) % para_setup\n",
    "                    para_setup = name[:-1]\n",
    "                    metrics_dict = get_results_from_para(para_setup)\n",
    "                \n",
    "                if metrics_dict is not None:\n",
    "                    \n",
    "                    axs[i].errorbar(para_plot, metrics_dict['rate_mean'], \n",
    "                                    yerr = metrics_dict['rate_error'],label = method)\n",
    "                    axs[i].set_xlabel('sample size')\n",
    "                    axs[i].set_ylabel(err_type)                    \n",
    "                    axs[i].set_xlim(-0.5, len(paras)) \n",
    "                    axs[i].set_title((reg,z_int,n_conf,n_components))\n",
    "                \n",
    "    for ax in axs:        \n",
    "        ax.xaxis.set_ticks([paras.index(p) for p in paras] )\n",
    "        ax.xaxis.set_ticklabels([str(p) for p in paras] )\n",
    "        \n",
    "        if err_type == 'type1':\n",
    "            ax.set_ylim(0.0, 0.15)\n",
    "            ax.axhline(alpha, color='grey', linewidth=2.)\n",
    "        else:\n",
    "            ax.set_ylim(0.5, 1.15) #(0.0, 0.15)\n",
    "            \n",
    "    plt.legend(bbox_to_anchor=(1.05, 1), loc='upper left', borderaxespad=0.)\n",
    "    \n",
    "    fig.tight_layout()\n",
    "  \n",
    "    "
   ]
  },
  {
   "cell_type": "code",
   "execution_count": 88,
   "id": "1c7260d0-5f4f-41bc-972f-759dc8d5a2fd",
   "metadata": {},
   "outputs": [
    {
     "data": {
      "image/png": "[encoded data removed]",
      "text/plain": [
       "<Figure size 864x288 with 3 Axes>"
      ]
     },
     "metadata": {
      "needs_background": "light"
     },
     "output_type": "display_data"
    }
   ],
   "source": [
    "dimxy = 5\n",
    "dimz = 20\n",
    "err_type = 'type1'\n",
    "z_int = 'None'\n",
    "n_conf = 'None'\n",
    "alpha = 0.05\n",
    "n_components = 1\n",
    "\n",
    "gen_plot_sample(dimxy,dimz,err_type,z_int,n_conf,alpha, n_components)"
   ]
  },
  {
   "cell_type": "code",
   "execution_count": null,
   "id": "9f39cc50-9ee8-42a0-a98c-bfbf703781dc",
   "metadata": {},
   "outputs": [],
   "source": []
  },
  {
   "cell_type": "code",
   "execution_count": null,
   "id": "6f4c095a-3db1-48da-b03a-83be1cbc4ee7",
   "metadata": {},
   "outputs": [],
   "source": []
  },
  {
   "cell_type": "code",
   "execution_count": null,
   "id": "5c4be3b3-a1f2-4337-91b3-cbb6265b9083",
   "metadata": {},
   "outputs": [],
   "source": []
  },
  {
   "cell_type": "code",
   "execution_count": null,
   "id": "0098c385-0d18-40fc-8859-276f6092b10e",
   "metadata": {},
   "outputs": [],
   "source": []
  },
  {
   "cell_type": "code",
   "execution_count": null,
   "id": "2e595108-8697-4682-9d65-0859764ea5cd",
   "metadata": {},
   "outputs": [],
   "source": []
  },
  {
   "cell_type": "markdown",
   "id": "ba81f21c-06c0-4cca-a11a-175c40b978cd",
   "metadata": {
    "jp-MarkdownHeadingCollapsed": true,
    "tags": []
   },
   "source": [
    "# Next Steps"
   ]
  },
  {
   "cell_type": "markdown",
   "id": "85e6e679-3864-4317-881b-020d0289f30b",
   "metadata": {},
   "source": [
    "##########################\n",
    " Ideas\n",
    "##########################\n",
    "\n",
    "(i) Idea 1: Focus on two simple multivariate configurations (n_compoents = 1), example below\n",
    "(ii) Idea 2: Some results are already in cluster-results. Change mypath to cluster results in submit file :\n",
    "\n",
    "    current_results_files = [f for f in listdir(mypath) if isfile(join(mypath, f))]\n",
    "    already_there = []\n",
    "    configurations = []\n",
    "    for conf in anyconfigurations:\n",
    "        if conf not in configurations:\n",
    "            # print (conf + '.dat')\n",
    "            conf = conf.replace(\"'\",\"\")\n",
    "\n",
    "            if (overwrite == False) and (conf + '.dat' in current_results_files):\n",
    "                # print(\"Configuration %s already exists.\" % conf)\n",
    "                already_there.append(conf)\n",
    "                pass\n",
    "            else:\n",
    "                # print(\"Does not exist\")\n",
    "                configurations.append(conf)\n",
    "\n",
    "            # print conf \n",
    "\n",
    "\n",
    "(iii) Idea 3: Make sure to count n_components 1 or 5 for OLS and ridge\n",
    "\n",
    "(iv) Idea 4: Run the new submit script locally\n",
    "\n",
    "##########################\n",
    " Concrete Steps\n",
    "##########################\n",
    "- Cluster results folder:\n",
    "    - Delete the files where metric is none (see cell below)\n",
    "    - Rename all the OLS and ridge cases with n_components 5 to n_components 1 (last arguement).\n",
    "- Submit script:\n",
    "    - change my path to local cluster results\n",
    "    - change anyconfigurations, make simpler (see below)\n",
    "    - Run locally 😬"
   ]
  },
  {
   "cell_type": "code",
   "execution_count": 106,
   "id": "6b1a8e45-6149-4c1a-a349-cb6b9e2fb1bc",
   "metadata": {},
   "outputs": [
    {
     "data": {
      "text/plain": [
       "96"
      ]
     },
     "execution_count": 106,
     "metadata": {},
     "output_type": "execute_result"
    }
   ],
   "source": [
    "anyconfigurations = []\n",
    "for dimxy,dimz in [[5,20]]:#,[5,50]]:\n",
    "        for err_type in ['type1', 'type2']:\n",
    "            for z_int in ['None']:\n",
    "                for n_conf in ['None',5]:\n",
    "                    if type(n_conf)== str or dimz > n_conf:\n",
    "                        for alpha in [0.05]:\n",
    "                            for T in [100,1000,5000]:\n",
    "                                for reg_type in ['ols','ridge']:\n",
    "                                    for corr_type in ['max_corr','max_corr_shuffle','gcm_shuffle','gcm_gmb']:\n",
    "                                        #for n_components in [1]:#,5]:\n",
    "                                        para_setup = (dimxy,dimz,err_type,z_int,n_conf,alpha,T,reg_type,corr_type)\n",
    "                                        name = '%s-'*len(para_setup) % para_setup\n",
    "                                        name = name[:-1]\n",
    "                                        anyconfigurations += [name]\n",
    "                                            \n",
    "len(anyconfigurations)\n",
    "# anyconfigurations"
   ]
  },
  {
   "cell_type": "code",
   "execution_count": 107,
   "id": "f1be521d-891d-4c9a-8cbc-9e01b0171a49",
   "metadata": {},
   "outputs": [
    {
     "data": {
      "text/plain": [
       "79"
      ]
     },
     "execution_count": 107,
     "metadata": {},
     "output_type": "execute_result"
    }
   ],
   "source": [
    "# Tells you how many metric files from the list of anyconfigurations are None\n",
    "\n",
    "l=0\n",
    "for conf in anyconfigurations:\n",
    "    metrics = get_results_from_para(conf)\n",
    "    if metrics is None:\n",
    "        l+=1\n",
    "        #print(conf)\n",
    "l"
   ]
  },
  {
   "cell_type": "markdown",
   "id": "d7e50ce1-163b-45a8-865e-acda0ff45859",
   "metadata": {},
   "source": [
    "### Rename (Remove n_components suffix for non-PLS regression types) "
   ]
  },
  {
   "cell_type": "code",
   "execution_count": 24,
   "id": "304b3d46-aca1-441e-b8b0-875929db9c84",
   "metadata": {},
   "outputs": [],
   "source": [
    "mypath = os.path.expanduser('~') + '/Documents/Python/Mult_CI_Tests/cluster_results_renamed/'"
   ]
  },
  {
   "cell_type": "code",
   "execution_count": 25,
   "id": "3daee97d-3bda-4e3b-a301-7c00fcd449d0",
   "metadata": {},
   "outputs": [],
   "source": [
    "current_file_name = mypath+\"test_3.rtf\"\n",
    "new_file_name = mypath+\"test.rtf\"\n",
    "\n",
    "os.rename(current_file_name, new_file_name )"
   ]
  },
  {
   "cell_type": "code",
   "execution_count": 83,
   "id": "4877b521-9c66-4a03-ba3a-261857b9f623",
   "metadata": {},
   "outputs": [],
   "source": [
    "for file in os.listdir(mypath):\n",
    "    \n",
    "    filename = os.fsdecode(file)\n",
    "    #print(filename)\n",
    "    \n",
    "    para_setup_str = tuple(filename.split(\"-\"))\n",
    "    # print(para_setup_str)\n",
    "    \n",
    "    #print(para_setup_str[-1].split(\".\"))\n",
    "    old_name = para_setup_str[-1].split(\".\")\n",
    "    # print(old_name)\n",
    "    #print(old_name[0].split(\"_\"))\n",
    "    \n",
    "    if len(para_setup_str)>7:\n",
    "        if para_setup_str[7] in ['ols', 'ridge']:\n",
    "            if len(old_name)==3:\n",
    "                print(old_name) \n",
    "                print(filename)\n",
    "                \n",
    "                \n",
    "                \n",
    "    \n",
    "    # if len(old_name[0].split(\"_\"))>1 and old_name[0].split(\"_\")[1] == 'metrics':\n",
    "    #     print('metrics file')\n",
    "    \n",
    "#     if para_setup_str[7] in ['ols', 'ridge']:\n",
    "        \n",
    "#         print('----------\\n',para_setup_str[7],'REMOVE')\n",
    "#         print('OLD NAME:',mypath+filename)\n",
    "        \n",
    "        \n",
    "#         paras = [w.replace(\"'\",\"\") for w in para_setup_str]\n",
    "\n",
    "#         dimxy = int(paras[0])\n",
    "#         dimz = int(paras[1])\n",
    "#         err_type = str(paras[2]) #'type1' or 'type2'\n",
    "#         z_int = str(paras[3]) # None or 'low' or 'high'\n",
    "#         n_conf = str(paras[4]) # None or an int less than dimz, indicates number of z components that act as confounder      \n",
    "#         if n_conf == 'None':\n",
    "#             n_conf  = 'None'\n",
    "#         else:\n",
    "#             n_conf = int(paras[4])\n",
    "#         alpha =  float(paras[5])\n",
    "#         sample_size = int(paras[6])\n",
    "#         reg_type = str(paras[7])\n",
    "#         corr_type = str(paras[8])\n",
    "#         # n_components = int(paras[9]) # only relevant for PLS regression\n",
    "        \n",
    "#         para_setup = (dimxy,dimz,err_type,z_int,n_conf,alpha,T,reg_type,corr_type)\n",
    "#         name = '%s-'*len(para_setup) % para_setup\n",
    "#         name = name[:-1]\n",
    "        \n",
    "#         if len(old_name[0].split(\"_\"))>1 and old_name[0].split(\"_\")[1] == 'metrics':\n",
    "#             name = name+'_metrics.dat'\n",
    "#         else:\n",
    "#             name = name+'.dat'\n",
    "        \n",
    "#         print('NEW NAME',mypath+name)\n",
    "        \n",
    "#         current_filename  = mypath+filename\n",
    "#         new_filename = mypath+name\n",
    "        \n",
    "#         os.rename(current_filename, new_filename )\n",
    "        \n",
    "        #results = open(new_filename)\n",
    "\n",
    "        \n",
    "    #else:\n",
    "        #print(para_setup_str[7],'KEEP')\n",
    "    \n",
    "    "
   ]
  },
  {
   "cell_type": "code",
   "execution_count": null,
   "id": "df69c8d2-b998-4bbc-8ed7-1020c8c8fae4",
   "metadata": {},
   "outputs": [],
   "source": []
  },
  {
   "cell_type": "code",
   "execution_count": null,
   "id": "09a83366-04be-40df-b82c-c39c6ca1dc29",
   "metadata": {},
   "outputs": [],
   "source": []
  },
  {
   "cell_type": "code",
   "execution_count": null,
   "id": "c7f5317c-c91c-4432-ba6f-9b1000640251",
   "metadata": {},
   "outputs": [],
   "source": []
  },
  {
   "cell_type": "code",
   "execution_count": null,
   "id": "28dc1cdd-a928-4c03-b686-d211ad4910e9",
   "metadata": {},
   "outputs": [],
   "source": []
  },
  {
   "cell_type": "code",
   "execution_count": null,
   "id": "af2501b2-50ea-4b4d-aa5b-ffbf18877f0a",
   "metadata": {},
   "outputs": [],
   "source": []
  },
  {
   "cell_type": "code",
   "execution_count": null,
   "id": "a8eb50e5-e4f5-49fb-ae1f-4039acd367c8",
   "metadata": {},
   "outputs": [],
   "source": []
  },
  {
   "cell_type": "code",
   "execution_count": null,
   "id": "a6440eb8-e1d1-4ae0-a797-f4559d88e093",
   "metadata": {},
   "outputs": [],
   "source": []
  },
  {
   "cell_type": "code",
   "execution_count": null,
   "id": "e8b44839-51bb-4aa8-89aa-3578046802d7",
   "metadata": {},
   "outputs": [],
   "source": []
  },
  {
   "cell_type": "code",
   "execution_count": null,
   "id": "65363942-91a7-4e8e-bb37-9781a5068df8",
   "metadata": {},
   "outputs": [],
   "source": []
  },
  {
   "cell_type": "code",
   "execution_count": null,
   "id": "87305d0d-9531-49dc-aa09-78c32d2d9348",
   "metadata": {},
   "outputs": [],
   "source": []
  },
  {
   "cell_type": "code",
   "execution_count": null,
   "id": "c328d323-27cd-4461-b3c8-81722642430e",
   "metadata": {},
   "outputs": [],
   "source": []
  },
  {
   "cell_type": "code",
   "execution_count": null,
   "id": "575f60f7-4caf-4c43-a091-282180f991e7",
   "metadata": {},
   "outputs": [],
   "source": []
  },
  {
   "cell_type": "code",
   "execution_count": null,
   "id": "0cb96e77-0163-42a6-b237-618098e59828",
   "metadata": {},
   "outputs": [],
   "source": []
  },
  {
   "cell_type": "code",
   "execution_count": null,
   "id": "3d769cbc-3381-4db5-9384-182088968f48",
   "metadata": {},
   "outputs": [],
   "source": []
  },
  {
   "cell_type": "code",
   "execution_count": null,
   "id": "e1be9472-6ce5-4574-9ba3-c36cc490946e",
   "metadata": {},
   "outputs": [],
   "source": []
  },
  {
   "cell_type": "code",
   "execution_count": null,
   "id": "32c00171-9046-4a4b-8ee7-d16bd7861ae6",
   "metadata": {},
   "outputs": [],
   "source": []
  },
  {
   "cell_type": "code",
   "execution_count": null,
   "id": "67f6daec-b43e-4040-b2e7-891b1f220129",
   "metadata": {},
   "outputs": [],
   "source": []
  },
  {
   "cell_type": "code",
   "execution_count": null,
   "id": "52fcfec3-a607-41a9-b777-af24f157dd20",
   "metadata": {},
   "outputs": [],
   "source": []
  },
  {
   "cell_type": "code",
   "execution_count": null,
   "id": "1ff1e2d8-02a3-4d2c-9016-e63a51dff872",
   "metadata": {},
   "outputs": [],
   "source": []
  },
  {
   "cell_type": "code",
   "execution_count": null,
   "id": "c9be0331-e9f9-4128-a1a8-6361155feba1",
   "metadata": {},
   "outputs": [],
   "source": []
  },
  {
   "cell_type": "code",
   "execution_count": null,
   "id": "8a6542e5-f090-4d7a-a4ea-3cd850e098ef",
   "metadata": {},
   "outputs": [],
   "source": []
  },
  {
   "cell_type": "markdown",
   "id": "9377a764-65c1-487d-82ce-b7076a8b0d06",
   "metadata": {
    "jp-MarkdownHeadingCollapsed": true,
    "tags": []
   },
   "source": [
    "# Archive"
   ]
  },
  {
   "cell_type": "code",
   "execution_count": 80,
   "id": "f0a9ea0d-aebf-4b2e-ad6d-f08c2a0fa08c",
   "metadata": {},
   "outputs": [],
   "source": [
    "# OLD DATA GENERATION FOR CONFOUNDER\n",
    "\n",
    "# def mult_data_conf(samples, dimxy, dimz, coef, z_int=None, num_int = None, n_conf = 'high', random_state = None):\n",
    "    \n",
    "#     if random_state is None:\n",
    "#         seed = None\n",
    "#         random_state = np.random.default_rng(seed=seed)\n",
    "    \n",
    "#     data = random_state.standard_normal((samples, 2*dimxy + dimz))\n",
    "#     #print('1. data ',data.shape)\n",
    "#     confounder = random_state.standard_normal((samples, 1))\n",
    "#     #print('2. confounder',confounder.shape)\n",
    "    \n",
    "#     if z_int: #z_int denotes how dense z is internally connected (None implies unconnected)\n",
    "        \n",
    "#         if z_int == 'high': # z is fully connected \n",
    "            \n",
    "#             data[:,int(2*dimxy):] += confounder\n",
    "#             #print('3. data ',data.shape)\n",
    "            \n",
    "#         elif z_int == 'low': # num_int components of z are connected\n",
    "            \n",
    "#             if num_int == None:\n",
    "#                 num_int = int(dimz/3)\n",
    "                \n",
    "#             data[:,int(2*dimxy):int(2*dimxy)+num_int] += confounder\n",
    "#             #print('4. data ',data.shape)\n",
    "        \n",
    "#     if n_conf == 'high':\n",
    "#         n_conf = dimz  # all components of z act as confounders\n",
    "#     elif n_conf == 'low':\n",
    "#         n_conf = int(dimz/3) # n_conf components of z act as confounders\n",
    "    \n",
    "#     data[:,0:dimxy] += data[:,int(2*dimxy):int(2*dimxy+n_conf)].mean(axis=1).reshape(samples, 1) # Z causes X\n",
    "#     data[:,dimxy:int(2*dimxy)] += data[:,int(2*dimxy):int(2*dimxy)+n_conf].mean(axis=1).reshape(samples, 1) # Z causes Y\n",
    "#     data[:,dimxy:int(2*dimxy)] += coef*data[:,0:dimxy] # X causes Y\n",
    "    \n",
    "#     return data"
   ]
  },
  {
   "cell_type": "code",
   "execution_count": null,
   "id": "7f124f8c-472d-45aa-9f62-0cb8e9413193",
   "metadata": {},
   "outputs": [],
   "source": []
  },
  {
   "cell_type": "markdown",
   "id": "1c2d9ea0-4285-441b-89a2-3a8d73ac3e0d",
   "metadata": {
    "tags": []
   },
   "source": [
    "### Type 2"
   ]
  },
  {
   "cell_type": "code",
   "execution_count": null,
   "id": "45c42905-6145-473d-8e49-b36ba4a8a370",
   "metadata": {},
   "outputs": [],
   "source": [
    "dimxy = 5\n",
    "dimz = 20\n",
    "realizations = 500\n",
    "\n",
    "sample_range = [100,1000,5000]\n",
    "corr_type_range = ['max_corr','max_corr_shuffle','gcm_shuffle','gcm_gmb']\n",
    "reg_range = ['ols','ridge','pls']\n",
    "\n",
    "error = 'type2'"
   ]
  },
  {
   "cell_type": "code",
   "execution_count": null,
   "id": "fe771102-d7e2-4071-b9ac-5f03e295ca63",
   "metadata": {
    "collapsed": true,
    "jupyter": {
     "outputs_hidden": true
    },
    "tags": []
   },
   "outputs": [
    {
     "name": "stdout",
     "output_type": "stream",
     "text": [
      "100 LinearRegression() max_corr\n",
      "0.786 0.01781886360012894\n",
      "-----------------------\n",
      "100 RidgeCV(alphas=array([ 0.1,  1. , 10. ])) max_corr\n",
      "0.742 0.019307503101126274\n",
      "-----------------------\n",
      "100 PLSRegression(n_components=1) max_corr\n",
      "0.708 0.02027377064090446\n",
      "-----------------------\n",
      "100 LinearRegression() max_corr_shuffle\n",
      "0.836 0.016961318816648658\n",
      "-----------------------\n",
      "100 RidgeCV(alphas=array([ 0.1,  1. , 10. ])) max_corr_shuffle\n",
      "0.858 0.015584185702179001\n",
      "-----------------------\n",
      "100 PLSRegression(n_components=1) max_corr_shuffle\n"
     ]
    },
    {
     "name": "stderr",
     "output_type": "stream",
     "text": [
      "/opt/anaconda3/lib/python3.9/site-packages/sklearn/cross_decomposition/_pls.py:97: ConvergenceWarning: Maximum number of iterations reached\n",
      "  warnings.warn('Maximum number of iterations reached',\n"
     ]
    },
    {
     "name": "stdout",
     "output_type": "stream",
     "text": [
      "0.934 0.010941092450025239\n",
      "-----------------------\n",
      "100 LinearRegression() gcm_shuffle\n",
      "0.916 0.012529708695735909\n",
      "-----------------------\n",
      "100 RidgeCV(alphas=array([ 0.1,  1. , 10. ])) gcm_shuffle\n",
      "0.922 0.012366693171579854\n",
      "-----------------------\n",
      "100 PLSRegression(n_components=1) gcm_shuffle\n"
     ]
    },
    {
     "name": "stderr",
     "output_type": "stream",
     "text": [
      "/opt/anaconda3/lib/python3.9/site-packages/sklearn/cross_decomposition/_pls.py:97: ConvergenceWarning: Maximum number of iterations reached\n",
      "  warnings.warn('Maximum number of iterations reached',\n",
      "/opt/anaconda3/lib/python3.9/site-packages/sklearn/cross_decomposition/_pls.py:97: ConvergenceWarning: Maximum number of iterations reached\n",
      "  warnings.warn('Maximum number of iterations reached',\n",
      "/opt/anaconda3/lib/python3.9/site-packages/sklearn/cross_decomposition/_pls.py:97: ConvergenceWarning: Maximum number of iterations reached\n",
      "  warnings.warn('Maximum number of iterations reached',\n",
      "/opt/anaconda3/lib/python3.9/site-packages/sklearn/cross_decomposition/_pls.py:97: ConvergenceWarning: Maximum number of iterations reached\n",
      "  warnings.warn('Maximum number of iterations reached',\n"
     ]
    },
    {
     "name": "stdout",
     "output_type": "stream",
     "text": [
      "0.964 0.00829001109770066\n",
      "-----------------------\n",
      "100 LinearRegression() gcm_gmb\n",
      "1.0 0.0\n",
      "-----------------------\n",
      "100 RidgeCV(alphas=array([ 0.1,  1. , 10. ])) gcm_gmb\n",
      "0.998 0.0020537487674981104\n",
      "-----------------------\n",
      "100 PLSRegression(n_components=1) gcm_gmb\n",
      "1.0 0.0\n",
      "-----------------------\n",
      "1000 LinearRegression() max_corr\n",
      "1.0 0.0\n",
      "-----------------------\n",
      "1000 RidgeCV(alphas=array([ 0.1,  1. , 10. ])) max_corr\n",
      "1.0 0.0\n",
      "-----------------------\n",
      "1000 PLSRegression(n_components=1) max_corr\n",
      "1.0 0.0\n",
      "-----------------------\n",
      "1000 LinearRegression() max_corr_shuffle\n",
      "1.0 0.0\n",
      "-----------------------\n",
      "1000 RidgeCV(alphas=array([ 0.1,  1. , 10. ])) max_corr_shuffle\n",
      "1.0 0.0\n",
      "-----------------------\n",
      "1000 PLSRegression(n_components=1) max_corr_shuffle\n"
     ]
    },
    {
     "name": "stderr",
     "output_type": "stream",
     "text": [
      "/opt/anaconda3/lib/python3.9/site-packages/sklearn/cross_decomposition/_pls.py:97: ConvergenceWarning: Maximum number of iterations reached\n",
      "  warnings.warn('Maximum number of iterations reached',\n",
      "/opt/anaconda3/lib/python3.9/site-packages/sklearn/cross_decomposition/_pls.py:97: ConvergenceWarning: Maximum number of iterations reached\n",
      "  warnings.warn('Maximum number of iterations reached',\n",
      "/opt/anaconda3/lib/python3.9/site-packages/sklearn/cross_decomposition/_pls.py:97: ConvergenceWarning: Maximum number of iterations reached\n",
      "  warnings.warn('Maximum number of iterations reached',\n",
      "/opt/anaconda3/lib/python3.9/site-packages/sklearn/cross_decomposition/_pls.py:97: ConvergenceWarning: Maximum number of iterations reached\n",
      "  warnings.warn('Maximum number of iterations reached',\n",
      "/opt/anaconda3/lib/python3.9/site-packages/sklearn/cross_decomposition/_pls.py:97: ConvergenceWarning: Maximum number of iterations reached\n",
      "  warnings.warn('Maximum number of iterations reached',\n",
      "/opt/anaconda3/lib/python3.9/site-packages/sklearn/cross_decomposition/_pls.py:97: ConvergenceWarning: Maximum number of iterations reached\n",
      "  warnings.warn('Maximum number of iterations reached',\n"
     ]
    },
    {
     "name": "stdout",
     "output_type": "stream",
     "text": [
      "1.0 0.0\n",
      "-----------------------\n",
      "1000 LinearRegression() gcm_shuffle\n",
      "1.0 0.0\n",
      "-----------------------\n",
      "1000 RidgeCV(alphas=array([ 0.1,  1. , 10. ])) gcm_shuffle\n",
      "1.0 0.0\n",
      "-----------------------\n",
      "1000 PLSRegression(n_components=1) gcm_shuffle\n"
     ]
    },
    {
     "name": "stderr",
     "output_type": "stream",
     "text": [
      "/opt/anaconda3/lib/python3.9/site-packages/sklearn/cross_decomposition/_pls.py:97: ConvergenceWarning: Maximum number of iterations reached\n",
      "  warnings.warn('Maximum number of iterations reached',\n",
      "/opt/anaconda3/lib/python3.9/site-packages/sklearn/cross_decomposition/_pls.py:97: ConvergenceWarning: Maximum number of iterations reached\n",
      "  warnings.warn('Maximum number of iterations reached',\n"
     ]
    },
    {
     "name": "stdout",
     "output_type": "stream",
     "text": [
      "1.0 0.0\n",
      "-----------------------\n",
      "1000 LinearRegression() gcm_gmb\n",
      "1.0 0.0\n",
      "-----------------------\n",
      "1000 RidgeCV(alphas=array([ 0.1,  1. , 10. ])) gcm_gmb\n",
      "1.0 0.0\n",
      "-----------------------\n",
      "1000 PLSRegression(n_components=1) gcm_gmb\n",
      "1.0 0.0\n",
      "-----------------------\n",
      "5000 LinearRegression() max_corr\n",
      "1.0 0.0\n",
      "-----------------------\n",
      "5000 RidgeCV(alphas=array([ 0.1,  1. , 10. ])) max_corr\n",
      "1.0 0.0\n",
      "-----------------------\n",
      "5000 PLSRegression(n_components=1) max_corr\n",
      "1.0 0.0\n",
      "-----------------------\n",
      "5000 LinearRegression() max_corr_shuffle\n",
      "1.0 0.0\n",
      "-----------------------\n",
      "5000 RidgeCV(alphas=array([ 0.1,  1. , 10. ])) max_corr_shuffle\n",
      "1.0 0.0\n",
      "-----------------------\n",
      "5000 PLSRegression(n_components=1) max_corr_shuffle\n"
     ]
    },
    {
     "name": "stderr",
     "output_type": "stream",
     "text": [
      "/opt/anaconda3/lib/python3.9/site-packages/sklearn/cross_decomposition/_pls.py:97: ConvergenceWarning: Maximum number of iterations reached\n",
      "  warnings.warn('Maximum number of iterations reached',\n",
      "/opt/anaconda3/lib/python3.9/site-packages/sklearn/cross_decomposition/_pls.py:97: ConvergenceWarning: Maximum number of iterations reached\n",
      "  warnings.warn('Maximum number of iterations reached',\n",
      "/opt/anaconda3/lib/python3.9/site-packages/sklearn/cross_decomposition/_pls.py:97: ConvergenceWarning: Maximum number of iterations reached\n",
      "  warnings.warn('Maximum number of iterations reached',\n",
      "/opt/anaconda3/lib/python3.9/site-packages/sklearn/cross_decomposition/_pls.py:97: ConvergenceWarning: Maximum number of iterations reached\n",
      "  warnings.warn('Maximum number of iterations reached',\n",
      "/opt/anaconda3/lib/python3.9/site-packages/sklearn/cross_decomposition/_pls.py:97: ConvergenceWarning: Maximum number of iterations reached\n",
      "  warnings.warn('Maximum number of iterations reached',\n",
      "/opt/anaconda3/lib/python3.9/site-packages/sklearn/cross_decomposition/_pls.py:97: ConvergenceWarning: Maximum number of iterations reached\n",
      "  warnings.warn('Maximum number of iterations reached',\n"
     ]
    },
    {
     "name": "stdout",
     "output_type": "stream",
     "text": [
      "1.0 0.0\n",
      "-----------------------\n",
      "5000 LinearRegression() gcm_shuffle\n",
      "1.0 0.0\n",
      "-----------------------\n",
      "5000 RidgeCV(alphas=array([ 0.1,  1. , 10. ])) gcm_shuffle\n",
      "1.0 0.0\n",
      "-----------------------\n",
      "5000 PLSRegression(n_components=1) gcm_shuffle\n"
     ]
    },
    {
     "name": "stderr",
     "output_type": "stream",
     "text": [
      "/opt/anaconda3/lib/python3.9/site-packages/sklearn/cross_decomposition/_pls.py:97: ConvergenceWarning: Maximum number of iterations reached\n",
      "  warnings.warn('Maximum number of iterations reached',\n",
      "/opt/anaconda3/lib/python3.9/site-packages/sklearn/cross_decomposition/_pls.py:97: ConvergenceWarning: Maximum number of iterations reached\n",
      "  warnings.warn('Maximum number of iterations reached',\n"
     ]
    },
    {
     "name": "stdout",
     "output_type": "stream",
     "text": [
      "1.0 0.0\n",
      "-----------------------\n",
      "5000 LinearRegression() gcm_gmb\n",
      "1.0 0.0\n",
      "-----------------------\n",
      "5000 RidgeCV(alphas=array([ 0.1,  1. , 10. ])) gcm_gmb\n",
      "1.0 0.0\n",
      "-----------------------\n",
      "5000 PLSRegression(n_components=1) gcm_gmb\n",
      "1.0 0.0\n",
      "-----------------------\n",
      "1.0 0.0\n",
      "-----------------------\n",
      "5000 LinearRegression() gcm_gmb\n",
      "1.0 0.0\n",
      "-----------------------\n",
      "5000 RidgeCV(alphas=array([ 0.1,  1. , 10. ])) gcm_gmb\n",
      "1.0 0.0\n",
      "-----------------------\n",
      "5000 PLSRegression(n_components=1) gcm_gmb\n",
      "1.0 0.0\n",
      "-----------------------\n",
      "5000 LinearRegression() gcm_gmb\n",
      "1.0 0.0\n",
      "-----------------------\n",
      "5000 RidgeCV(alphas=array([ 0.1,  1. , 10. ])) gcm_gmb\n",
      "1.0 0.0\n",
      "-----------------------\n",
      "5000 LinearRegression() gcm_gmb\n",
      "1.0 0.0\n",
      "-----------------------\n",
      "5000 LinearRegression() gcm_shuffle\n"
     ]
    },
    {
     "name": "stderr",
     "output_type": "stream",
     "text": [
      "/opt/anaconda3/lib/python3.9/site-packages/sklearn/cross_decomposition/_pls.py:97: ConvergenceWarning: Maximum number of iterations reached\n",
      "  warnings.warn('Maximum number of iterations reached',\n",
      "/opt/anaconda3/lib/python3.9/site-packages/sklearn/cross_decomposition/_pls.py:97: ConvergenceWarning: Maximum number of iterations reached\n",
      "  warnings.warn('Maximum number of iterations reached',\n",
      "/opt/anaconda3/lib/python3.9/site-packages/sklearn/cross_decomposition/_pls.py:97: ConvergenceWarning: Maximum number of iterations reached\n",
      "  warnings.warn('Maximum number of iterations reached',\n",
      "/opt/anaconda3/lib/python3.9/site-packages/sklearn/cross_decomposition/_pls.py:97: ConvergenceWarning: Maximum number of iterations reached\n",
      "  warnings.warn('Maximum number of iterations reached',\n",
      "/opt/anaconda3/lib/python3.9/site-packages/sklearn/cross_decomposition/_pls.py:97: ConvergenceWarning: Maximum number of iterations reached\n",
      "  warnings.warn('Maximum number of iterations reached',\n",
      "/opt/anaconda3/lib/python3.9/site-packages/sklearn/cross_decomposition/_pls.py:97: ConvergenceWarning: Maximum number of iterations reached\n",
      "  warnings.warn('Maximum number of iterations reached',\n",
      "/opt/anaconda3/lib/python3.9/site-packages/sklearn/cross_decomposition/_pls.py:97: ConvergenceWarning: Maximum number of iterations reached\n",
      "  warnings.warn('Maximum number of iterations reached',\n",
      "/opt/anaconda3/lib/python3.9/site-packages/sklearn/cross_decomposition/_pls.py:97: ConvergenceWarning: Maximum number of iterations reached\n",
      "  warnings.warn('Maximum number of iterations reached',\n",
      "/opt/anaconda3/lib/python3.9/site-packages/sklearn/cross_decomposition/_pls.py:97: ConvergenceWarning: Maximum number of iterations reached\n",
      "  warnings.warn('Maximum number of iterations reached',\n",
      "/opt/anaconda3/lib/python3.9/site-packages/sklearn/cross_decomposition/_pls.py:97: ConvergenceWarning: Maximum number of iterations reached\n",
      "  warnings.warn('Maximum number of iterations reached',\n"
     ]
    },
    {
     "name": "stdout",
     "output_type": "stream",
     "text": [
      "1.0 0.0\n",
      "-----------------------\n",
      "1000 LinearRegression() gcm_gmb\n",
      "1.0 0.0\n",
      "-----------------------\n",
      "1000 RidgeCV(alphas=array([ 0.1,  1. , 10. ])) gcm_gmb\n",
      "1.0 0.0\n",
      "-----------------------\n",
      "1000 PLSRegression(n_components=1) gcm_gmb\n",
      "1.0 0.0\n",
      "-----------------------\n",
      "5000 LinearRegression() max_corr\n",
      "1.0 0.0\n",
      "-----------------------\n",
      "5000 RidgeCV(alphas=array([ 0.1,  1. , 10. ])) max_corr\n",
      "1.0 0.0\n",
      "-----------------------\n",
      "5000 PLSRegression(n_components=1) max_corr\n",
      "1.0 0.0\n",
      "-----------------------\n",
      "5000 LinearRegression() max_corr_shuffle\n",
      "1.0 0.0\n",
      "-----------------------\n",
      "1000 LinearRegression() gcm_gmb\n",
      "1.0 0.0\n",
      "-----------------------\n",
      "1000 RidgeCV(alphas=array([ 0.1,  1. , 10. ])) gcm_gmb\n",
      "1.0 0.0\n",
      "-----------------------\n",
      "1000 PLSRegression(n_components=1) gcm_gmb\n",
      "1.0 0.0\n",
      "-----------------------\n",
      "5000 LinearRegression() max_corr\n",
      "1.0 0.0\n",
      "-----------------------\n",
      "5000 RidgeCV(alphas=array([ 0.1,  1. , 10. ])) max_corr\n",
      "1.0 0.0\n",
      "-----------------------\n",
      "5000 PLSRegression(n_components=1) max_corr\n",
      "1.0 0.0\n",
      "-----------------------\n",
      "1000 LinearRegression() gcm_gmb\n",
      "1.0 0.0\n",
      "-----------------------\n",
      "1000 RidgeCV(alphas=array([ 0.1,  1. , 10. ])) gcm_gmb\n",
      "1.0 0.0\n",
      "-----------------------\n",
      "1000 PLSRegression(n_components=1) gcm_gmb\n",
      "1.0 0.0\n",
      "-----------------------\n",
      "5000 LinearRegression() max_corr\n",
      "1.0 0.0\n",
      "-----------------------\n",
      "5000 RidgeCV(alphas=array([ 0.1,  1. , 10. ])) max_corr\n",
      "1.0 0.0\n",
      "-----------------------\n",
      "1000 LinearRegression() gcm_gmb\n",
      "1.0 0.0\n",
      "-----------------------\n",
      "1000 RidgeCV(alphas=array([ 0.1,  1. , 10. ])) gcm_gmb\n",
      "1.0 0.0\n",
      "-----------------------\n",
      "1000 PLSRegression(n_components=1) gcm_gmb\n",
      "1.0 0.0\n",
      "-----------------------\n",
      "5000 LinearRegression() max_corr\n",
      "1.0 0.0\n",
      "-----------------------\n",
      "1000 LinearRegression() gcm_gmb\n",
      "1.0 0.0\n",
      "-----------------------\n",
      "1000 RidgeCV(alphas=array([ 0.1,  1. , 10. ])) gcm_gmb\n",
      "1.0 0.0\n",
      "-----------------------\n",
      "1000 PLSRegression(n_components=1) gcm_gmb\n",
      "1.0 0.0\n",
      "-----------------------\n",
      "1000 LinearRegression() gcm_gmb\n",
      "1.0 0.0\n",
      "-----------------------\n",
      "1000 RidgeCV(alphas=array([ 0.1,  1. , 10. ])) gcm_gmb\n",
      "1.0 0.0\n",
      "-----------------------\n",
      "1000 LinearRegression() gcm_gmb\n",
      "1.0 0.0\n",
      "-----------------------\n",
      "1000 LinearRegression() gcm_shuffle\n"
     ]
    },
    {
     "name": "stderr",
     "output_type": "stream",
     "text": [
      "/opt/anaconda3/lib/python3.9/site-packages/sklearn/cross_decomposition/_pls.py:97: ConvergenceWarning: Maximum number of iterations reached\n",
      "  warnings.warn('Maximum number of iterations reached',\n",
      "/opt/anaconda3/lib/python3.9/site-packages/sklearn/cross_decomposition/_pls.py:97: ConvergenceWarning: Maximum number of iterations reached\n",
      "  warnings.warn('Maximum number of iterations reached',\n",
      "/opt/anaconda3/lib/python3.9/site-packages/sklearn/cross_decomposition/_pls.py:97: ConvergenceWarning: Maximum number of iterations reached\n",
      "  warnings.warn('Maximum number of iterations reached',\n",
      "/opt/anaconda3/lib/python3.9/site-packages/sklearn/cross_decomposition/_pls.py:97: ConvergenceWarning: Maximum number of iterations reached\n",
      "  warnings.warn('Maximum number of iterations reached',\n",
      "/opt/anaconda3/lib/python3.9/site-packages/sklearn/cross_decomposition/_pls.py:97: ConvergenceWarning: Maximum number of iterations reached\n",
      "  warnings.warn('Maximum number of iterations reached',\n",
      "/opt/anaconda3/lib/python3.9/site-packages/sklearn/cross_decomposition/_pls.py:97: ConvergenceWarning: Maximum number of iterations reached\n",
      "  warnings.warn('Maximum number of iterations reached',\n",
      "/opt/anaconda3/lib/python3.9/site-packages/sklearn/cross_decomposition/_pls.py:97: ConvergenceWarning: Maximum number of iterations reached\n",
      "  warnings.warn('Maximum number of iterations reached',\n",
      "/opt/anaconda3/lib/python3.9/site-packages/sklearn/cross_decomposition/_pls.py:97: ConvergenceWarning: Maximum number of iterations reached\n",
      "  warnings.warn('Maximum number of iterations reached',\n",
      "/opt/anaconda3/lib/python3.9/site-packages/sklearn/cross_decomposition/_pls.py:97: ConvergenceWarning: Maximum number of iterations reached\n",
      "  warnings.warn('Maximum number of iterations reached',\n",
      "/opt/anaconda3/lib/python3.9/site-packages/sklearn/cross_decomposition/_pls.py:97: ConvergenceWarning: Maximum number of iterations reached\n",
      "  warnings.warn('Maximum number of iterations reached',\n"
     ]
    },
    {
     "name": "stdout",
     "output_type": "stream",
     "text": [
      "0.964 0.00829001109770066\n",
      "-----------------------\n",
      "100 LinearRegression() gcm_gmb\n",
      "1.0 0.0\n",
      "-----------------------\n",
      "100 RidgeCV(alphas=array([ 0.1,  1. , 10. ])) gcm_gmb\n",
      "0.998 0.0020537487674981104\n",
      "-----------------------\n",
      "100 PLSRegression(n_components=1) gcm_gmb\n",
      "1.0 0.0\n",
      "-----------------------\n",
      "1000 LinearRegression() max_corr\n",
      "1.0 0.0\n",
      "-----------------------\n",
      "1000 RidgeCV(alphas=array([ 0.1,  1. , 10. ])) max_corr\n",
      "1.0 0.0\n",
      "-----------------------\n",
      "1000 PLSRegression(n_components=1) max_corr\n",
      "1.0 0.0\n",
      "-----------------------\n",
      "1000 LinearRegression() max_corr_shuffle\n",
      "0.964 0.00829001109770066\n",
      "-----------------------\n",
      "100 LinearRegression() gcm_gmb\n",
      "1.0 0.0\n",
      "-----------------------\n",
      "100 RidgeCV(alphas=array([ 0.1,  1. , 10. ])) gcm_gmb\n",
      "0.998 0.0020537487674981104\n",
      "-----------------------\n",
      "100 PLSRegression(n_components=1) gcm_gmb\n",
      "1.0 0.0\n",
      "-----------------------\n",
      "1000 LinearRegression() max_corr\n",
      "1.0 0.0\n",
      "-----------------------\n",
      "1000 RidgeCV(alphas=array([ 0.1,  1. , 10. ])) max_corr\n",
      "1.0 0.0\n",
      "-----------------------\n",
      "1000 PLSRegression(n_components=1) max_corr\n",
      "0.964 0.00829001109770066\n",
      "-----------------------\n",
      "100 LinearRegression() gcm_gmb\n",
      "1.0 0.0\n",
      "-----------------------\n",
      "100 RidgeCV(alphas=array([ 0.1,  1. , 10. ])) gcm_gmb\n",
      "0.998 0.0020537487674981104\n",
      "-----------------------\n",
      "100 PLSRegression(n_components=1) gcm_gmb\n",
      "1.0 0.0\n",
      "-----------------------\n",
      "1000 LinearRegression() max_corr\n",
      "1.0 0.0\n",
      "-----------------------\n",
      "1000 RidgeCV(alphas=array([ 0.1,  1. , 10. ])) max_corr\n",
      "0.964 0.00829001109770066\n",
      "-----------------------\n",
      "100 LinearRegression() gcm_gmb\n",
      "1.0 0.0\n",
      "-----------------------\n",
      "100 RidgeCV(alphas=array([ 0.1,  1. , 10. ])) gcm_gmb\n",
      "0.998 0.0020537487674981104\n",
      "-----------------------\n",
      "100 PLSRegression(n_components=1) gcm_gmb\n",
      "1.0 0.0\n",
      "-----------------------\n",
      "1000 LinearRegression() max_corr\n",
      "0.964 0.00829001109770066\n",
      "-----------------------\n",
      "100 LinearRegression() gcm_gmb\n",
      "1.0 0.0\n",
      "-----------------------\n",
      "100 RidgeCV(alphas=array([ 0.1,  1. , 10. ])) gcm_gmb\n",
      "0.998 0.0020537487674981104\n",
      "-----------------------\n",
      "100 PLSRegression(n_components=1) gcm_gmb\n",
      "0.964 0.00829001109770066\n",
      "-----------------------\n",
      "100 LinearRegression() gcm_gmb\n",
      "1.0 0.0\n",
      "-----------------------\n",
      "100 RidgeCV(alphas=array([ 0.1,  1. , 10. ])) gcm_gmb\n",
      "0.964 0.00829001109770066\n",
      "-----------------------\n",
      "100 LinearRegression() gcm_gmb\n"
     ]
    },
    {
     "name": "stderr",
     "output_type": "stream",
     "text": [
      "/opt/anaconda3/lib/python3.9/site-packages/sklearn/cross_decomposition/_pls.py:97: ConvergenceWarning: Maximum number of iterations reached\n",
      "  warnings.warn('Maximum number of iterations reached',\n",
      "/opt/anaconda3/lib/python3.9/site-packages/sklearn/cross_decomposition/_pls.py:97: ConvergenceWarning: Maximum number of iterations reached\n",
      "  warnings.warn('Maximum number of iterations reached',\n",
      "/opt/anaconda3/lib/python3.9/site-packages/sklearn/cross_decomposition/_pls.py:97: ConvergenceWarning: Maximum number of iterations reached\n",
      "  warnings.warn('Maximum number of iterations reached',\n"
     ]
    },
    {
     "name": "stdout",
     "output_type": "stream",
     "text": [
      "0.934 0.010941092450025239\n",
      "-----------------------\n",
      "100 LinearRegression() gcm_shuffle\n"
     ]
    }
   ],
   "source": [
    "metrics_5_20_type2 = metrics_rate_full(sample_range,corr_type_range,reg_range,error, dimxy, dimz, z_int=None, num_int = None, n_conf = None)"
   ]
  },
  {
   "cell_type": "markdown",
   "id": "b4405f7a-f3e4-49e5-8ab9-6641e9cd2590",
   "metadata": {},
   "source": [
    "### Dump Metrics"
   ]
  },
  {
   "cell_type": "code",
   "execution_count": null,
   "id": "44c42015-395a-48b5-987b-5a4d0726e839",
   "metadata": {},
   "outputs": [
    {
     "name": "stdout",
     "output_type": "stream",
     "text": [
      "Metrics dump  /Users/urmininad/Documents/Python/Mult_CI_Tests/metrics/5-20-type2-None-None_metrics.dat\n"
     ]
    }
   ],
   "source": [
    "#conf = \"1-20-type1-None-None\"\n",
    "conf = \"5-20-type2-None-None\"\n",
    "file_name = os.path.expanduser('~') + '/Documents/Python/Mult_CI_Tests/metrics/%s' %(conf)\n",
    "\n",
    "print(\"Metrics dump \", file_name.replace(\"'\", \"\").replace('\"', '') + '_metrics.dat')\n",
    "file = open(file_name.replace(\"'\", \"\").replace('\"', '') + '_metrics.dat', 'wb')\n",
    "#pickle.dump(metrics, file, protocol=-1)        \n",
    "pickle.dump(metrics_5_20_type2, file, protocol=-1)        \n",
    "file.close()"
   ]
  },
  {
   "cell_type": "code",
   "execution_count": null,
   "id": "bdb6c6c4-f36a-43b6-a68f-33a28a7b8245",
   "metadata": {},
   "outputs": [
    {
     "name": "stdout",
     "output_type": "stream",
     "text": [
      "load from metrics file  /Users/urmininad/Documents/Python/Mult_CI_Tests/metrics/5-20-type2-None-None_metrics.dat \n"
     ]
    }
   ],
   "source": [
    "para_setup = tuple(conf.split(\"-\"))\n",
    "results = get_metrics_from_file(para_setup)"
   ]
  },
  {
   "cell_type": "code",
   "execution_count": 431,
   "id": "e1ec1dae-5cdd-4fe3-8398-7d41ddaf27c4",
   "metadata": {},
   "outputs": [
    {
     "data": {
      "text/plain": [
       "2160"
      ]
     },
     "execution_count": 431,
     "metadata": {},
     "output_type": "execute_result"
    }
   ],
   "source": [
    "anyconfigurations = [] \n",
    "for dimxy in [5,20,50]:\n",
    "    for dimz in [1,20,50]:\n",
    "        for err_type in ['type1', 'type2']:\n",
    "            for z_int in ['None']:\n",
    "                for n_conf in ['None',5]:\n",
    "                    if type(n_conf)== str or dimz > n_conf:\n",
    "                        for alpha in [0.05]:\n",
    "                            for T in [100,1000,5000]:\n",
    "                                for reg_type in ['ols','ridge','pls']:\n",
    "                                    for corr_type in ['max_corr','max_corr_shuffle','gcm_shuffle','gcm_gmb']:\n",
    "                                        for n_components in [1,5]:\n",
    "                                            para_setup = (dimxy,dimz,err_type,z_int,n_conf,alpha,T,reg_type,corr_type,n_components)\n",
    "                                            name = '%s-'*len(para_setup) % para_setup\n",
    "                                            name = name[:-1]\n",
    "                                            anyconfigurations += [name]\n",
    "len(anyconfigurations                                                 )"
   ]
  },
  {
   "cell_type": "code",
   "execution_count": 402,
   "id": "84810754-ca99-468f-86fa-04e6eb5c41dd",
   "metadata": {},
   "outputs": [],
   "source": [
    "anyconfigurations = [] \n",
    "for dimxy in [5]:#,20,50]:\n",
    "    for dimz in [1,20]:#,50]:\n",
    "        for err_type in ['type1']:#, 'type2']:\n",
    "            for z_int in ['None']:\n",
    "                for n_conf in ['None',5]:\n",
    "                    if type(n_conf)== str or dimz > n_conf:\n",
    "                        for alpha in [0.05]:\n",
    "                            for T in [100]:#,1000,5000]:\n",
    "                                for reg_type in ['ols']:#,'ridge','pls']:\n",
    "                                    for corr_type in ['max_corr']:#,'max_corr_shuffle','gcm_shuffle','gcm_gmb']:\n",
    "                                        for n_components in [1]:#,5]:\n",
    "                                            para_setup = (dimxy,dimz,err_type,z_int,n_conf,alpha,T,reg_type,corr_type,n_components)\n",
    "                                            name = '%s-'*len(para_setup) % para_setup\n",
    "                                            name = name[:-1]\n",
    "                                            anyconfigurations += [name]\n"
   ]
  },
  {
   "cell_type": "code",
   "execution_count": 244,
   "id": "6f22086e-927b-43d0-9341-aeb691ca2594",
   "metadata": {},
   "outputs": [],
   "source": [
    "anyconfigurations = [] \n",
    "for dimxy in [5]:#,20,50]:\n",
    "    for dimz in [1]:#,20,50]:\n",
    "        for err_type in ['type1']:#, 'type2']:\n",
    "            for z_int in ['None']:\n",
    "                for n_conf in ['None']:#,5]:\n",
    "                    if type(n_conf)== str or dimz > n_conf:\n",
    "                        for alpha in [0.05]:\n",
    "                            for T in [100]:#,1000,5000]:\n",
    "                                for reg_type in ['ols','ridge','pls']:\n",
    "                                    for corr_type in ['max_corr']:#,'max_corr_shuffle','gcm_shuffle','gcm_gmb']:\n",
    "                                        for n_components in [1]:#,5]:\n",
    "                                            para_setup = (dimxy,dimz,err_type,z_int,n_conf,alpha,T,reg_type,corr_type,n_components)\n",
    "                                            name = '%s-'*len(para_setup) % para_setup\n",
    "                                            name = name[:-1]\n",
    "                                            anyconfigurations += [name]"
   ]
  },
  {
   "cell_type": "code",
   "execution_count": 245,
   "id": "1acd0d68-7941-40b6-8705-da1ee6829e49",
   "metadata": {},
   "outputs": [
    {
     "data": {
      "text/plain": [
       "3"
      ]
     },
     "execution_count": 245,
     "metadata": {},
     "output_type": "execute_result"
    }
   ],
   "source": [
    "len(anyconfigurations)"
   ]
  },
  {
   "cell_type": "code",
   "execution_count": 246,
   "id": "d3197897-0fc7-4788-b55e-5fb813fb751d",
   "metadata": {},
   "outputs": [
    {
     "data": {
      "text/plain": [
       "2"
      ]
     },
     "execution_count": 246,
     "metadata": {},
     "output_type": "execute_result"
    }
   ],
   "source": [
    "1+1"
   ]
  },
  {
   "cell_type": "code",
   "execution_count": null,
   "id": "3a1ee39b-265a-43a3-9a83-a1895377c5c1",
   "metadata": {},
   "outputs": [],
   "source": []
  },
  {
   "cell_type": "code",
   "execution_count": 258,
   "id": "1ae831b2-9d2a-4f9c-a9be-4792d0c00fb4",
   "metadata": {},
   "outputs": [],
   "source": [
    "def _get_simplicial_node(circle_cpdag, variable_order):\n",
    "        \"\"\"Find simplicial nodes in circle component CPDAG.\n",
    "\n",
    "        A vertex V is simplicial if all vertices adjacent to V are also adjacent\n",
    "        to each other (form a clique).\n",
    "\n",
    "        Parameters\n",
    "        ----------\n",
    "        circle_cpdag : array of shape (N, N, tau_max+1)\n",
    "            Circle component of PCMCIplus graph.\n",
    "        variable_order : list of length N\n",
    "            Order of variables in which to search for simplicial nodes.\n",
    "\n",
    "        Returns\n",
    "        -------\n",
    "        (j, adj_j) or None\n",
    "            First found simplicial node and its adjacencies.\n",
    "        \"\"\"\n",
    "\n",
    "        for j in variable_order:\n",
    "            \n",
    "            print('j',j)\n",
    "            adj_j = np.where(np.logical_or(circle_cpdag[:,j,0] == \"o-o\",\n",
    "                                           circle_cpdag[:,j,0] == \"o?o\"))[0].tolist()\n",
    "\n",
    "            # Make sure the node has any adjacencies\n",
    "            all_adjacent = len(adj_j) > 0\n",
    "            \n",
    "            print('all_adjacent', all_adjacent)\n",
    "\n",
    "            # If it has just one adjacency, it's also simplicial\n",
    "            if len(adj_j) == 1:\n",
    "                return (j, adj_j)  \n",
    "            else:\n",
    "                for (var1, var2) in itertools.combinations(adj_j, 2):\n",
    "                    if circle_cpdag[var1, var2, 0] == \"\": \n",
    "                        all_adjacent = False\n",
    "                        break\n",
    "\n",
    "                if all_adjacent:\n",
    "                    return (j, adj_j)\n",
    "                \n",
    "\n",
    "        return None\n",
    "\n",
    "def _get_dag_from_cpdag(cpdag_graph, variable_order):\n",
    "    \"\"\"Yields one member of the Markov equivalence class of a CPDAG.\n",
    "\n",
    "    Parameters\n",
    "    ----------\n",
    "    cpdag_graph : array of shape (N, N, tau_max+1)\n",
    "        Result of PCMCIplus, a CPDAG.\n",
    "    variable_order : list of length N\n",
    "        Order of variables in which to search for simplicial nodes.\n",
    "\n",
    "    Returns\n",
    "    -------\n",
    "    dag : array of shape (N, N, tau_max+1)\n",
    "        One member of the Markov equivalence class of the CPDAG.\n",
    "    \"\"\"\n",
    "\n",
    "    # TODO: Check whether CPDAG is chordal\n",
    "\n",
    "    # Initialize resulting MAG\n",
    "    dag = np.copy(cpdag_graph)\n",
    "    \n",
    "    print('dag copy', dag)\n",
    "\n",
    "    # Turn circle component CPDAG^C into a DAG with no unshielded colliders.\n",
    "    circle_cpdag = np.copy(cpdag_graph)\n",
    "    # All lagged links are directed by time, remove them here\n",
    "    circle_cpdag[:,:,1:] = \"\"\n",
    "    # Also remove conflicting links\n",
    "    circle_cpdag[circle_cpdag==\"x-x\"] = \"\"\n",
    "    # Find undirected links, remove directed links\n",
    "    for i, j, tau in zip(*np.where(circle_cpdag != \"\")):\n",
    "        if circle_cpdag[i,j,0][1] == '?':\n",
    "            raise ValueError(\"Invalid middle mark.\")\n",
    "        if circle_cpdag[i,j,0] == \"-->\":\n",
    "            circle_cpdag[i,j,0] = \"\"\n",
    "            \n",
    "    print('executing simplical nodes')\n",
    "\n",
    "    # Iterate through simplicial nodes\n",
    "    simplicial_node = _get_simplicial_node(circle_cpdag,\n",
    "                                                variable_order)\n",
    "    print(\"simplical_nodes\", simplicial_node)\n",
    "    # \n",
    "    while simplicial_node is not None:\n",
    "        \n",
    "        # print(\"YYYYYY\")\n",
    "\n",
    "        # Choose such a vertex V1 and orient any edges incident to V1 into\n",
    "        # V1 in the MAG And remove V1 and these edges from the circle\n",
    "        # component PAG\n",
    "        (j, adj_j) = simplicial_node\n",
    "        for var in adj_j:\n",
    "            dag[var, j, 0] = \"-->\"\n",
    "            dag[j, var, 0] = \"<--\"\n",
    "            circle_cpdag[var, j, 0] = circle_cpdag[j, var, 0] = \"\" \n",
    "\n",
    "        # Iterate\n",
    "        simplicial_node = _get_simplicial_node(circle_cpdag,\n",
    "                                                variable_order)\n",
    "\n",
    "    return dag\n"
   ]
  },
  {
   "cell_type": "code",
   "execution_count": 263,
   "id": "06c3a887-fa55-409d-bda3-af520e10d5aa",
   "metadata": {},
   "outputs": [],
   "source": [
    "def pc_alg(data_agg, vector_vars = None,\n",
    "           pc_alpha = 0.05, verbosity = 0,cr = True):\n",
    "    \n",
    "    # PC-alg on aggregated data\n",
    "\n",
    "    #T, N = data_agg.shape\n",
    "    \n",
    "    if vector_vars ==None:\n",
    "        dataframe = pp.DataFrame(data_agg, analysis_mode = 'single')\n",
    "        parcorr = ParCorr(significance='analytic')\n",
    "        ci_test = parcorr\n",
    "        \n",
    "    else: \n",
    "        dataframe  =  pp.DataFrame(data_agg, vector_vars = vector_vars, analysis_mode = 'single')\n",
    "        parcorr_mult = ParCorrMult(significance='analytic')\n",
    "        ci_test = parcorr_mult   \n",
    "\n",
    "    pcmci = PCMCI(\n",
    "        dataframe=dataframe, \n",
    "        cond_ind_test=ci_test,\n",
    "        verbosity=verbosity)\n",
    "\n",
    "    results = pcmci.run_pcalg(tau_max=0, pc_alpha=pc_alpha, conflict_resolution=cr)\n",
    "    p_matrix = results['p_matrix']\n",
    "    sepsets = results['sepsets']\n",
    "    graph = results['graph']\n",
    "    val_matrix = results['val_matrix']\n",
    "    variable_order = np.argsort(np.abs(val_matrix).sum(axis=(0,2)))[::-1]\n",
    "    print(variable_order)\n",
    "    \n",
    "    # for j in variable_order:\n",
    "    #     print('j in pc',j)\n",
    "    \n",
    "#     pcmci_base = PCMCIbase(\n",
    "#         dataframe=dataframe, \n",
    "#         cond_ind_test=ci_test,\n",
    "#         verbosity=verbosity)\n",
    "    dag = _get_dag_from_cpdag(graph, variable_order)\n",
    "    \n",
    "    return p_matrix,graph,dag"
   ]
  },
  {
   "cell_type": "code",
   "execution_count": null,
   "id": "0dfe4673-8305-4691-ad04-9d23f6627130",
   "metadata": {},
   "outputs": [],
   "source": []
  },
  {
   "cell_type": "code",
   "execution_count": 270,
   "id": "a7ee9b4c-2f0f-40a7-94c8-8a22fb82a91e",
   "metadata": {},
   "outputs": [],
   "source": [
    "seed = 41\n",
    "np.random.seed(seed)     # Fix random seed\n",
    "def lin_f(x): return x\n",
    "\n",
    "\n",
    "\n",
    "links_coeffs_1 = {0: [],\n",
    "                1: [],\n",
    "                2: [((0, 0), 0.1, lin_f), ((1, 0), -0.5, lin_f)],\n",
    "                3: [((0, 0), 0.1, lin_f), ((1, 0), -0.5, lin_f)],\n",
    "                }\n",
    "\n",
    "links_coeffs_2 = {0: [((1, 0), -0.8, lin_f)],\n",
    "                1: [((3, 0), 0.8, lin_f)],\n",
    "                2: [((1, 0), 0.5, lin_f), ((3, 0), 0.6, lin_f)],\n",
    "                3: [],\n",
    "                }\n",
    "\n",
    "links_coeffs = links_coeffs_1\n",
    "\n",
    "T = 200     # time series length\n",
    "data, _ = toys.structural_causal_process(links_coeffs, T=T, seed=seed)\n",
    "T, N = data.shape"
   ]
  },
  {
   "cell_type": "code",
   "execution_count": 271,
   "id": "a9826b19-99ef-47f2-9b5b-2871f5192a74",
   "metadata": {},
   "outputs": [
    {
     "data": {
      "image/png": "[encoded data removed]",
      "text/plain": [
       "<Figure size 432x288 with 1 Axes>"
      ]
     },
     "metadata": {},
     "output_type": "display_data"
    }
   ],
   "source": [
    "var_names = [r'$X^0$', r'$X^1$', r'$X^2$', r'$X^3$']\n",
    "true_graph = toys.links_to_graph(links_coeffs)\n",
    "ext_summ_lag = 2\n",
    "\n",
    "tp.plot_graph(\n",
    "    graph=true_graph,\n",
    "    var_names=var_names,\n",
    "    link_colorbar_label='cross-MCI',\n",
    "    node_colorbar_label='auto-MCI',\n",
    "    show_autodependency_lags=False\n",
    "    ); plt.show()"
   ]
  },
  {
   "cell_type": "code",
   "execution_count": 272,
   "id": "4ee37b86-d225-45e4-8c13-cbe404c04330",
   "metadata": {},
   "outputs": [
    {
     "name": "stdout",
     "output_type": "stream",
     "text": [
      "[1 3 2 0]\n",
      "dag copy [[['']\n",
      "  ['']\n",
      "  ['']\n",
      "  ['']]\n",
      "\n",
      " [['']\n",
      "  ['']\n",
      "  ['o-o']\n",
      "  ['o-o']]\n",
      "\n",
      " [['']\n",
      "  ['o-o']\n",
      "  ['']\n",
      "  ['']]\n",
      "\n",
      " [['']\n",
      "  ['o-o']\n",
      "  ['']\n",
      "  ['']]]\n",
      "executing simplical nodes\n",
      "j 1\n",
      "all_adjacent True\n",
      "j 3\n",
      "all_adjacent True\n",
      "simplical_nodes (3, [1])\n",
      "j 1\n",
      "all_adjacent True\n",
      "j 1\n",
      "all_adjacent False\n",
      "j 3\n",
      "all_adjacent False\n",
      "j 2\n",
      "all_adjacent False\n",
      "j 0\n",
      "all_adjacent False\n"
     ]
    }
   ],
   "source": [
    "pmat,pred_graph,dag = pc_alg(data,# vector_vars = vector_vars,\n",
    "           pc_alpha = 0.01)"
   ]
  },
  {
   "cell_type": "code",
   "execution_count": 273,
   "id": "0fa12ad8-e913-485b-9a8f-6dbf6b60a749",
   "metadata": {},
   "outputs": [
    {
     "data": {
      "text/plain": [
       "array([['', '', '', ''],\n",
       "       ['', '', 'o-o', 'o-o'],\n",
       "       ['', 'o-o', '', ''],\n",
       "       ['', 'o-o', '', '']], dtype='<U3')"
      ]
     },
     "execution_count": 273,
     "metadata": {},
     "output_type": "execute_result"
    }
   ],
   "source": [
    "pred_graph[:,:,0]"
   ]
  },
  {
   "cell_type": "code",
   "execution_count": 274,
   "id": "7c94dfa8-6490-4cf1-924b-e5ae55cc10ca",
   "metadata": {},
   "outputs": [
    {
     "data": {
      "text/plain": [
       "array([[[''],\n",
       "        [''],\n",
       "        [''],\n",
       "        ['']],\n",
       "\n",
       "       [[''],\n",
       "        [''],\n",
       "        ['<--'],\n",
       "        ['-->']],\n",
       "\n",
       "       [[''],\n",
       "        ['-->'],\n",
       "        [''],\n",
       "        ['']],\n",
       "\n",
       "       [[''],\n",
       "        ['<--'],\n",
       "        [''],\n",
       "        ['']]], dtype='<U3')"
      ]
     },
     "execution_count": 274,
     "metadata": {},
     "output_type": "execute_result"
    }
   ],
   "source": [
    "dag"
   ]
  },
  {
   "cell_type": "code",
   "execution_count": 269,
   "id": "3ce9ad26-9614-4407-85e2-59c0ac98a00f",
   "metadata": {},
   "outputs": [
    {
     "data": {
      "image/png": "[encoded data removed]",
      "text/plain": [
       "<Figure size 432x288 with 1 Axes>"
      ]
     },
     "metadata": {},
     "output_type": "display_data"
    }
   ],
   "source": [
    "\n",
    "tp.plot_graph(\n",
    "    graph=pred_graph,\n",
    "    var_names=var_names,\n",
    "    link_colorbar_label='cross-MCI',\n",
    "    node_colorbar_label='auto-MCI',\n",
    "    show_autodependency_lags=False\n",
    "    ); plt.show()"
   ]
  },
  {
   "cell_type": "code",
   "execution_count": null,
   "id": "f942c324-2272-4c3e-9666-13e2151fb175",
   "metadata": {},
   "outputs": [],
   "source": []
  },
  {
   "cell_type": "code",
   "execution_count": 202,
   "id": "71b1f59a-11f4-475b-b8f4-e06e0c726a60",
   "metadata": {},
   "outputs": [],
   "source": [
    "def shd(graph_true, graph_pred, double_for_anticausal = True):\n",
    "    \n",
    "    links_true= graph_to_dict(graph_true)\n",
    "    links_pred= graph_to_dict(graph_pred)\n",
    "    \n",
    "    #print(links_true, links_pred)\n",
    "\n",
    "    adj_true = links_to_binary_graph(links_true)[:,:,0]\n",
    "    adj_pred = links_to_binary_graph(links_pred)[:,:,0]\n",
    "    \n",
    "    #print(adj_true, adj_pred)\n",
    "    \n",
    "    diff = np.abs(adj_true - adj_pred)\n",
    "    \n",
    "    #print(diff)\n",
    "    if double_for_anticausal:\n",
    "        return np.sum(diff)\n",
    "    else:\n",
    "        diff = diff + diff.transpose()\n",
    "        diff[diff > 1] = 1  # Ignoring the double edges.\n",
    "        return np.sum(diff)/2"
   ]
  },
  {
   "cell_type": "code",
   "execution_count": null,
   "id": "c9ef63f8-1e1e-4195-bc18-bb6705e9c90c",
   "metadata": {},
   "outputs": [],
   "source": []
  },
  {
   "cell_type": "code",
   "execution_count": null,
   "id": "b5fef8bc-8b4d-46e8-9c2e-b045238d4c90",
   "metadata": {},
   "outputs": [],
   "source": []
  },
  {
   "cell_type": "code",
   "execution_count": null,
   "id": "8cd576f4-aace-44d0-94bd-b4504ae0a6b1",
   "metadata": {},
   "outputs": [],
   "source": []
  },
  {
   "cell_type": "code",
   "execution_count": 320,
   "id": "349e3ee4-95a8-4317-8aba-a63fb867b067",
   "metadata": {},
   "outputs": [],
   "source": [
    "def vectorize_to_fine(N_fine, N_array, partition = 'mild'):\n",
    "    \n",
    "    tot_fine  = len(N_fine)\n",
    "    tot_coarse = len(N_array)\n",
    "    \n",
    "    if partition == 'mild':\n",
    "        # Only first vec_var gets paritioned \n",
    "        N_new = [tot_fine-tot_coarse+1]+[1]*(tot_coarse-1)\n",
    "        print(N_new)\n",
    "    elif partition == 'medium':\n",
    "        # first half vec_vars get partitioned\n",
    "        N_new = [tot_fine-int(tot_coarse/2)]+[1]*(int(tot_coarse/2))\n",
    "        print(N_new)\n",
    "    \n",
    "    vector_vars = {}\n",
    "    N = len(N_new)\n",
    "    l=0\n",
    "    for i in range(N):\n",
    "        j = N_new[i]\n",
    "        for k in range(j):\n",
    "            if k==0:\n",
    "                vector_vars[i] = [(k+l,0)] \n",
    "            else:\n",
    "                vector_vars[i].append((k+l,0)) \n",
    "        l+=j\n",
    "\n",
    "    return vector_vars"
   ]
  },
  {
   "cell_type": "code",
   "execution_count": 322,
   "id": "f0f94751-9cef-4140-9a05-2c83c93d6a16",
   "metadata": {},
   "outputs": [
    {
     "name": "stdout",
     "output_type": "stream",
     "text": [
      "[5, 1, 1, 1, 1]\n"
     ]
    },
    {
     "data": {
      "text/plain": [
       "{0: [(0, 0), (1, 0), (2, 0), (3, 0), (4, 0)],\n",
       " 1: [(5, 0)],\n",
       " 2: [(6, 0)],\n",
       " 3: [(7, 0)],\n",
       " 4: [(8, 0)]}"
      ]
     },
     "execution_count": 322,
     "metadata": {},
     "output_type": "execute_result"
    }
   ],
   "source": [
    "N_array = [50]*5\n",
    "N_fine = [10]*5 + [50]*4\n",
    "vectorize_to_fine(N_fine,N_array)"
   ]
  },
  {
   "cell_type": "code",
   "execution_count": 321,
   "id": "2cc336cf-b4bf-427f-84bf-299109f758f2",
   "metadata": {},
   "outputs": [
    {
     "name": "stdout",
     "output_type": "stream",
     "text": [
      "[6, 1, 1]\n"
     ]
    },
    {
     "data": {
      "text/plain": [
       "{0: [(0, 0), (1, 0), (2, 0), (3, 0), (4, 0), (5, 0)], 1: [(6, 0)], 2: [(7, 0)]}"
      ]
     },
     "execution_count": 321,
     "metadata": {},
     "output_type": "execute_result"
    }
   ],
   "source": [
    "N_array = [50]*5\n",
    "N_fine = [25]*6 + [50]*2\n",
    "\n",
    "vectorize_to_fine(N_fine,N_array,partition='medium')"
   ]
  },
  {
   "cell_type": "code",
   "execution_count": 313,
   "id": "3b835d99-33d6-4ddc-bed2-2414c5fe34cc",
   "metadata": {},
   "outputs": [
    {
     "data": {
      "text/plain": [
       "[50, 50, 50, 50, 50]"
      ]
     },
     "execution_count": 313,
     "metadata": {},
     "output_type": "execute_result"
    }
   ],
   "source": [
    "N_array"
   ]
  },
  {
   "cell_type": "code",
   "execution_count": 317,
   "id": "76fb1acd-3eef-4ebd-8d11-7b46294ea99d",
   "metadata": {},
   "outputs": [
    {
     "data": {
      "text/plain": [
       "[75, 75, 75, 75, 75, 75, 75, 0, 0, 0]"
      ]
     },
     "execution_count": 317,
     "metadata": {},
     "output_type": "execute_result"
    }
   ],
   "source": [
    "n=5\n",
    "[int(1.5*(min(N_array)))]*int(1.5*n) + list(np.zeros(math.comb(n,2)-int(1.5*n), dtype = int))"
   ]
  },
  {
   "cell_type": "code",
   "execution_count": 318,
   "id": "8c938b2e-e0e1-4403-ab35-1ac51ff545fd",
   "metadata": {},
   "outputs": [
    {
     "data": {
      "text/plain": [
       "[50, 50, 50, 50, 50, 0, 0, 0, 0, 0]"
      ]
     },
     "execution_count": 318,
     "metadata": {},
     "output_type": "execute_result"
    }
   ],
   "source": [
    "[int(min(N_array))]* (n) + list(np.zeros(math.comb(n,2)-n, dtype = int))"
   ]
  },
  {
   "cell_type": "code",
   "execution_count": 319,
   "id": "452a4880-503d-4f7f-bb92-78d4ba5f071d",
   "metadata": {},
   "outputs": [
    {
     "data": {
      "text/plain": [
       "[50, 50, 50, 50, 50]"
      ]
     },
     "execution_count": 319,
     "metadata": {},
     "output_type": "execute_result"
    }
   ],
   "source": [
    "[int(min(N_array))]*n"
   ]
  },
  {
   "cell_type": "code",
   "execution_count": 103,
   "id": "eb3b2d98-732e-43ca-bcba-d071e68fd833",
   "metadata": {},
   "outputs": [],
   "source": [
    "seed = 42\n",
    "np.random.seed(seed)     # Fix random seed\n",
    "def lin_f(x): return x\n",
    "\n",
    "\n",
    "\n",
    "links_coeffs_1 = {0: [],\n",
    "                1: [],\n",
    "                2: [((0, 0), 0.1, lin_f), ((1, 0), -0.5, lin_f)],\n",
    "                3: [((0, 0), 0.1, lin_f), ((1, 0), -0.5, lin_f)],\n",
    "                }\n",
    "\n",
    "links_coeffs = links_coeffs_1\n",
    "\n",
    "T = 200     # time series length\n",
    "data, _ = toys.structural_causal_process(links_coeffs, T=T, seed=seed)\n",
    "T, N = data.shape"
   ]
  },
  {
   "cell_type": "code",
   "execution_count": 104,
   "id": "db29c3d1-a0e7-4e02-b8df-cddb64f0dc34",
   "metadata": {},
   "outputs": [
    {
     "data": {
      "image/png": "[encoded data removed]",
      "text/plain": [
       "<Figure size 432x288 with 1 Axes>"
      ]
     },
     "metadata": {},
     "output_type": "display_data"
    }
   ],
   "source": [
    "var_names = [r'$X^0$', r'$X^1$', r'$X^2$', r'$X^3$']\n",
    "true_graph = toys.links_to_graph(links_coeffs)\n",
    "ext_summ_lag = 2\n",
    "\n",
    "tp.plot_graph(\n",
    "    graph=true_graph,\n",
    "    var_names=var_names,\n",
    "    link_colorbar_label='cross-MCI',\n",
    "    node_colorbar_label='auto-MCI',\n",
    "    show_autodependency_lags=False\n",
    "    ); plt.show()"
   ]
  },
  {
   "cell_type": "code",
   "execution_count": 105,
   "id": "e05b0d41-d801-4fc5-a5fa-bee4cc5925d2",
   "metadata": {},
   "outputs": [
    {
     "data": {
      "text/plain": [
       "array([['', '', '-->', '-->'],\n",
       "       ['', '', '-->', '-->'],\n",
       "       ['<--', '<--', '', ''],\n",
       "       ['<--', '<--', '', '']], dtype='<U3')"
      ]
     },
     "execution_count": 105,
     "metadata": {},
     "output_type": "execute_result"
    }
   ],
   "source": [
    "true_graph[:,:,0]"
   ]
  },
  {
   "cell_type": "code",
   "execution_count": 110,
   "id": "068b9ab5-10e4-4b90-a129-34415b659eef",
   "metadata": {},
   "outputs": [],
   "source": [
    "pmat,pred_graph,dag = pc_alg(data,# vector_vars = vector_vars,\n",
    "           pc_alpha = 0.01)"
   ]
  },
  {
   "cell_type": "code",
   "execution_count": 111,
   "id": "16ed29db-f878-4e92-a674-9a213495726b",
   "metadata": {},
   "outputs": [
    {
     "data": {
      "text/plain": [
       "array([['', '', '', ''],\n",
       "       ['', '', 'o-o', 'o-o'],\n",
       "       ['', 'o-o', '', ''],\n",
       "       ['', 'o-o', '', '']], dtype='<U3')"
      ]
     },
     "execution_count": 111,
     "metadata": {},
     "output_type": "execute_result"
    }
   ],
   "source": [
    "pred_graph[:,:,0]"
   ]
  },
  {
   "cell_type": "code",
   "execution_count": 109,
   "id": "d1528f0b-4ce8-4ff8-8cdd-849bd8b50c1f",
   "metadata": {},
   "outputs": [],
   "source": [
    "N,N,tau_max = np.shape(true_graph)\n",
    "n_realizations = 1\n",
    "\n",
    "contemp_cross_mask_tril = np.zeros((N,N,tau_max + 1)).astype('bool')\n",
    "contemp_cross_mask_tril[:,:,0] = np.tril(np.ones((N, N)), k=-1).astype('bool')\n",
    "any_mask = np.ones((N,N,tau_max + 1)).astype('bool')\n",
    "any_mask[:,:,0] = contemp_cross_mask_tril[:,:,0]\n",
    "any_mask = np.repeat(any_mask.reshape(1, N,N,tau_max + 1), n_realizations, axis=0)"
   ]
  },
  {
   "cell_type": "code",
   "execution_count": 112,
   "id": "f03f4b8a-ddc4-4ca7-98b5-a454cbd34be7",
   "metadata": {},
   "outputs": [],
   "source": [
    "fpr = (((true_graph==\"\")*(pred_graph!=\"\")*any_mask).sum(axis=(1,2,3)),((true_graph==\"\")*any_mask).sum(axis=(1,2,3)) )"
   ]
  },
  {
   "cell_type": "code",
   "execution_count": 113,
   "id": "647672e2-9fa4-4b86-b01b-ed057032c24c",
   "metadata": {},
   "outputs": [
    {
     "data": {
      "text/plain": [
       "(array([0]), array([10]))"
      ]
     },
     "execution_count": 113,
     "metadata": {},
     "output_type": "execute_result"
    }
   ],
   "source": [
    "fpr"
   ]
  },
  {
   "cell_type": "code",
   "execution_count": null,
   "id": "d3c74816-5a2b-40f3-8412-ce1971751eec",
   "metadata": {},
   "outputs": [],
   "source": []
  },
  {
   "cell_type": "code",
   "execution_count": null,
   "id": "c641c8b4-cd43-40ae-b27a-69ad6f2e5b60",
   "metadata": {},
   "outputs": [],
   "source": []
  },
  {
   "cell_type": "code",
   "execution_count": null,
   "id": "8c509642-e7bb-4262-8ec4-eb21468b74df",
   "metadata": {},
   "outputs": [],
   "source": []
  },
  {
   "cell_type": "code",
   "execution_count": null,
   "id": "4fc4d76c-02a3-445d-91d7-f0bed80ea118",
   "metadata": {},
   "outputs": [],
   "source": []
  },
  {
   "cell_type": "code",
   "execution_count": null,
   "id": "5e0c5de5-9d53-497a-be39-b8d9441363f6",
   "metadata": {},
   "outputs": [],
   "source": []
  },
  {
   "cell_type": "code",
   "execution_count": null,
   "id": "30512738-ff16-4f57-b4b6-52fdbb2a431a",
   "metadata": {},
   "outputs": [],
   "source": []
  },
  {
   "cell_type": "code",
   "execution_count": null,
   "id": "643b9d9c-ae4b-4c0d-95d4-f8845196d528",
   "metadata": {},
   "outputs": [],
   "source": []
  },
  {
   "cell_type": "code",
   "execution_count": null,
   "id": "6688379f-8891-41a7-aa56-495275cd0c20",
   "metadata": {},
   "outputs": [],
   "source": []
  },
  {
   "cell_type": "code",
   "execution_count": null,
   "id": "76894d38-9023-4613-abd0-3f64237c1afc",
   "metadata": {},
   "outputs": [],
   "source": []
  },
  {
   "cell_type": "code",
   "execution_count": 144,
   "id": "2aaa24e4-101b-46ce-85ed-9fec1855bc50",
   "metadata": {},
   "outputs": [],
   "source": [
    "n = 500\n",
    "x = np.random.normal(size=(n,2))\n",
    "z = np.random.normal(size=(n,2)) "
   ]
  },
  {
   "cell_type": "code",
   "execution_count": 146,
   "id": "b9fc13c2-ee35-48e6-b7e7-4234d89aa92f",
   "metadata": {},
   "outputs": [],
   "source": [
    "reg = LR().fit(z, x)"
   ]
  },
  {
   "cell_type": "code",
   "execution_count": 150,
   "id": "b85a4584-e6d7-428b-bb3f-eb35146f9e4c",
   "metadata": {},
   "outputs": [
    {
     "data": {
      "text/plain": [
       "(2, 2)"
      ]
     },
     "execution_count": 150,
     "metadata": {},
     "output_type": "execute_result"
    }
   ],
   "source": [
    "reg.coef_.shape"
   ]
  },
  {
   "cell_type": "code",
   "execution_count": 160,
   "id": "fec7a58b-f653-441b-9ec6-13ffc52dc2d5",
   "metadata": {},
   "outputs": [
    {
     "data": {
      "text/plain": [
       "array([[1., 3.],\n",
       "       [4., 2.]])"
      ]
     },
     "execution_count": 160,
     "metadata": {},
     "output_type": "execute_result"
    }
   ],
   "source": [
    "A = np.ones((2,2))\n",
    "A[1,1] = 2\n",
    "A[0,1] = 3\n",
    "A[1,0] = 4\n",
    "A"
   ]
  },
  {
   "cell_type": "code",
   "execution_count": 162,
   "id": "d3e715c3-2cce-4700-8a65-b586d66aed9a",
   "metadata": {},
   "outputs": [
    {
     "data": {
      "text/plain": [
       "array([1., 4., 3., 2., 1., 4., 3., 2.])"
      ]
     },
     "execution_count": 162,
     "metadata": {},
     "output_type": "execute_result"
    }
   ],
   "source": [
    "np.tile(A, 2).flatten('F') "
   ]
  },
  {
   "cell_type": "code",
   "execution_count": 163,
   "id": "d52ecf2e-65a0-4346-85e1-c51dcffa9fb5",
   "metadata": {},
   "outputs": [
    {
     "data": {
      "text/plain": [
       "array([ 1., 16.,  9.,  4.,  1., 16.,  9.,  4.])"
      ]
     },
     "execution_count": 163,
     "metadata": {},
     "output_type": "execute_result"
    }
   ],
   "source": [
    "np.tile(A, 2).flatten('F')*np.tile(A, 2).flatten('F')"
   ]
  },
  {
   "cell_type": "code",
   "execution_count": 172,
   "id": "b5c74e75-6527-4081-b65e-35603eca39bc",
   "metadata": {},
   "outputs": [],
   "source": [
    "dimx = 3\n",
    "dimy = 2\n",
    "dimz = 1\n",
    "\n",
    "vector_vars={0:[(i,0) for i in range(dimx)], \n",
    "            1:[(j,0) for j in range(dimx, dimx+dimy)], \n",
    "            2:[(k, 0) for k in range(dimx+dimy, dimx+dimy+dimz)]}\n",
    "            "
   ]
  },
  {
   "cell_type": "code",
   "execution_count": 173,
   "id": "f0c0c90c-ee2e-46f4-be8b-b506053d5cf5",
   "metadata": {},
   "outputs": [
    {
     "data": {
      "text/plain": [
       "{0: [(0, 0), (1, 0), (2, 0)], 1: [(3, 0), (4, 0)], 2: [(5, 0)]}"
      ]
     },
     "execution_count": 173,
     "metadata": {},
     "output_type": "execute_result"
    }
   ],
   "source": [
    "vector_vars"
   ]
  },
  {
   "cell_type": "code",
   "execution_count": null,
   "id": "d167864f-1e46-4861-aa41-75ada20349d7",
   "metadata": {},
   "outputs": [],
   "source": []
  },
  {
   "cell_type": "code",
   "execution_count": null,
   "id": "48fc1880-05cf-42a4-8ab2-779e0e46986d",
   "metadata": {},
   "outputs": [],
   "source": []
  },
  {
   "cell_type": "code",
   "execution_count": null,
   "id": "3f18272e-6630-46de-9321-c63f0d67358c",
   "metadata": {},
   "outputs": [],
   "source": []
  },
  {
   "cell_type": "code",
   "execution_count": null,
   "id": "b8046142-98c2-41a6-a779-671e5884b270",
   "metadata": {},
   "outputs": [],
   "source": []
  },
  {
   "cell_type": "code",
   "execution_count": null,
   "id": "91a15e2f-d3f0-46af-a1dd-42216702ae7f",
   "metadata": {},
   "outputs": [],
   "source": []
  },
  {
   "cell_type": "code",
   "execution_count": null,
   "id": "df9bc3e9-7824-46ff-925c-fed43d0ba575",
   "metadata": {},
   "outputs": [],
   "source": []
  },
  {
   "cell_type": "code",
   "execution_count": null,
   "id": "5344e683-9fef-4fe8-acca-750d95237844",
   "metadata": {},
   "outputs": [],
   "source": []
  },
  {
   "cell_type": "code",
   "execution_count": null,
   "id": "b37d0790-c1b5-4a06-bb00-7db67d25a35a",
   "metadata": {},
   "outputs": [],
   "source": []
  },
  {
   "cell_type": "code",
   "execution_count": null,
   "id": "6e70bf6e-86b6-4bb8-9560-dafbdee12f39",
   "metadata": {},
   "outputs": [],
   "source": []
  },
  {
   "cell_type": "code",
   "execution_count": null,
   "id": "a65b31d3-f4ae-433b-918f-abc02d52dd60",
   "metadata": {},
   "outputs": [],
   "source": []
  },
  {
   "cell_type": "code",
   "execution_count": null,
   "id": "148060af-6db6-4ca0-877a-d4ec0053d211",
   "metadata": {},
   "outputs": [],
   "source": []
  },
  {
   "cell_type": "code",
   "execution_count": null,
   "id": "0bab1222-f909-4641-a247-6cedeae5b7ed",
   "metadata": {},
   "outputs": [],
   "source": []
  },
  {
   "cell_type": "code",
   "execution_count": 102,
   "id": "f2925cd5-a8d2-4263-a521-a607e7466f21",
   "metadata": {},
   "outputs": [
    {
     "data": {
      "text/plain": [
       "'MacBook-Pro-70.fritz.box'"
      ]
     },
     "execution_count": 102,
     "metadata": {},
     "output_type": "execute_result"
    }
   ],
   "source": [
    "socket.gethostname()"
   ]
  },
  {
   "cell_type": "code",
   "execution_count": 8,
   "id": "bd347a38-fdce-4ca5-b129-1657ec17cdfa",
   "metadata": {},
   "outputs": [
    {
     "name": "stdout",
     "output_type": "stream",
     "text": [
      "/Users/urmininad\n"
     ]
    }
   ],
   "source": [
    "print(os.path.expanduser('~'))"
   ]
  },
  {
   "cell_type": "code",
   "execution_count": 10,
   "id": "8891412e-a64f-46ff-aa32-e6a90fecad65",
   "metadata": {},
   "outputs": [],
   "source": [
    "path = \"/Users/urmininad/Downloads/graph-clustering-main/average_basins_jan20\""
   ]
  },
  {
   "cell_type": "code",
   "execution_count": 103,
   "id": "9e4cc794-5404-47c5-904b-54ab7c9d3d86",
   "metadata": {},
   "outputs": [],
   "source": [
    "def split(a, n):\n",
    "    k, m = len(a) // n, len(a) % n\n",
    "    return [a[i * k + min(i, m):(i + 1) * k + min(i + 1, m)] for i in range(n)]"
   ]
  },
  {
   "cell_type": "code",
   "execution_count": 108,
   "id": "609dba36-29ad-4c9b-9ca2-c41b959bd96f",
   "metadata": {},
   "outputs": [
    {
     "data": {
      "text/plain": [
       "{'a': 1, 'b': 2}"
      ]
     },
     "execution_count": 108,
     "metadata": {},
     "output_type": "execute_result"
    }
   ],
   "source": [
    "metrics = {}\n",
    "metrics['a'] = 1\n",
    "metrics['b'] = 2\n",
    "metrics"
   ]
  },
  {
   "cell_type": "code",
   "execution_count": 110,
   "id": "911cd84f-9fe4-48b4-a24f-4b7831992695",
   "metadata": {},
   "outputs": [
    {
     "data": {
      "text/plain": [
       "'__main__'"
      ]
     },
     "execution_count": 110,
     "metadata": {},
     "output_type": "execute_result"
    }
   ],
   "source": [
    "__name__"
   ]
  },
  {
   "cell_type": "code",
   "execution_count": 113,
   "id": "56f4deac-7f06-49ea-9c5d-b715118f578a",
   "metadata": {},
   "outputs": [],
   "source": [
    "anyconfigurations = []\n",
    "for group_size in [5,10,20,50]:\n",
    "    for n_vars in [5]:\n",
    "        for min_coeff in [0.1]:\n",
    "            for max_coeff in [0.4]:\n",
    "                for step_size in [0.1]:\n",
    "                    for T in [5000]:\n",
    "                        for ci_test in ['parcorr_maxcorr']:\n",
    "                            for method in ['ind', 'comm']:\n",
    "                                for coeff_range in ['neg']:\n",
    "                                    para_setup = (group_size,n_vars,min_coeff,max_coeff,step_size,T,ci_test,method,coeff_range)\n",
    "                                    name = '%s-'*len(para_setup) % para_setup\n",
    "                                    name = name[:-1]\n",
    "                                    anyconfigurations += [name]"
   ]
  },
  {
   "cell_type": "code",
   "execution_count": 116,
   "id": "b925c532-94d0-489a-a095-b4a48c2bed4c",
   "metadata": {},
   "outputs": [
    {
     "data": {
      "text/plain": [
       "['5-5-0.1-0.4-0.1-5000-parcorr_maxcorr-ind-neg',\n",
       " '5-5-0.1-0.4-0.1-5000-parcorr_maxcorr-comm-neg',\n",
       " '10-5-0.1-0.4-0.1-5000-parcorr_maxcorr-ind-neg',\n",
       " '10-5-0.1-0.4-0.1-5000-parcorr_maxcorr-comm-neg',\n",
       " '20-5-0.1-0.4-0.1-5000-parcorr_maxcorr-ind-neg',\n",
       " '20-5-0.1-0.4-0.1-5000-parcorr_maxcorr-comm-neg',\n",
       " '50-5-0.1-0.4-0.1-5000-parcorr_maxcorr-ind-neg',\n",
       " '50-5-0.1-0.4-0.1-5000-parcorr_maxcorr-comm-neg']"
      ]
     },
     "execution_count": 116,
     "metadata": {},
     "output_type": "execute_result"
    }
   ],
   "source": [
    "anyconfigurations"
   ]
  },
  {
   "cell_type": "code",
   "execution_count": null,
   "id": "5a8869f3-8e1a-4883-8d3a-dc71c3f7ea91",
   "metadata": {},
   "outputs": [],
   "source": []
  },
  {
   "cell_type": "code",
   "execution_count": null,
   "id": "f8870a8c-c223-4fa2-bc6a-e329e340797c",
   "metadata": {},
   "outputs": [],
   "source": []
  },
  {
   "cell_type": "code",
   "execution_count": 13,
   "id": "6b16c204-65e7-4108-ad3e-6a04678dd21c",
   "metadata": {},
   "outputs": [
    {
     "data": {
      "text/html": [
       "<div>\n",
       "<style scoped>\n",
       "    .dataframe tbody tr th:only-of-type {\n",
       "        vertical-align: middle;\n",
       "    }\n",
       "\n",
       "    .dataframe tbody tr th {\n",
       "        vertical-align: top;\n",
       "    }\n",
       "\n",
       "    .dataframe thead th {\n",
       "        text-align: right;\n",
       "    }\n",
       "</style>\n",
       "<table border=\"1\" class=\"dataframe\">\n",
       "  <thead>\n",
       "    <tr style=\"text-align: right;\">\n",
       "      <th></th>\n",
       "      <th>time</th>\n",
       "      <th>tavg</th>\n",
       "      <th>tmin</th>\n",
       "      <th>tmax</th>\n",
       "      <th>prec</th>\n",
       "      <th>rad</th>\n",
       "      <th>Qobs</th>\n",
       "      <th>QsimGlobal</th>\n",
       "      <th>snowpackGlobal</th>\n",
       "      <th>SWC005Global</th>\n",
       "      <th>SMGlobal</th>\n",
       "      <th>ETGlobal</th>\n",
       "    </tr>\n",
       "  </thead>\n",
       "  <tbody>\n",
       "    <tr>\n",
       "      <th>0</th>\n",
       "      <td>1950-01-01</td>\n",
       "      <td>6.768371</td>\n",
       "      <td>-0.048717</td>\n",
       "      <td>10.936914</td>\n",
       "      <td>0.000000</td>\n",
       "      <td>96.392719</td>\n",
       "      <td>NaN</td>\n",
       "      <td>20.969887</td>\n",
       "      <td>9.753825</td>\n",
       "      <td>12.965311</td>\n",
       "      <td>0.378235</td>\n",
       "      <td>0.209348</td>\n",
       "    </tr>\n",
       "    <tr>\n",
       "      <th>1</th>\n",
       "      <td>1950-01-02</td>\n",
       "      <td>5.484359</td>\n",
       "      <td>-0.643772</td>\n",
       "      <td>12.224272</td>\n",
       "      <td>0.000000</td>\n",
       "      <td>88.605993</td>\n",
       "      <td>NaN</td>\n",
       "      <td>38.830873</td>\n",
       "      <td>1.921303</td>\n",
       "      <td>17.711939</td>\n",
       "      <td>0.386226</td>\n",
       "      <td>0.302967</td>\n",
       "    </tr>\n",
       "    <tr>\n",
       "      <th>2</th>\n",
       "      <td>1950-01-03</td>\n",
       "      <td>5.957487</td>\n",
       "      <td>-0.056383</td>\n",
       "      <td>14.182935</td>\n",
       "      <td>0.000000</td>\n",
       "      <td>54.076826</td>\n",
       "      <td>NaN</td>\n",
       "      <td>36.536023</td>\n",
       "      <td>0.084519</td>\n",
       "      <td>18.465156</td>\n",
       "      <td>0.387818</td>\n",
       "      <td>0.335376</td>\n",
       "    </tr>\n",
       "    <tr>\n",
       "      <th>3</th>\n",
       "      <td>1950-01-04</td>\n",
       "      <td>7.434952</td>\n",
       "      <td>-0.202929</td>\n",
       "      <td>13.058127</td>\n",
       "      <td>0.000000</td>\n",
       "      <td>89.145640</td>\n",
       "      <td>NaN</td>\n",
       "      <td>35.583011</td>\n",
       "      <td>0.004416</td>\n",
       "      <td>18.294063</td>\n",
       "      <td>0.387542</td>\n",
       "      <td>0.342736</td>\n",
       "    </tr>\n",
       "    <tr>\n",
       "      <th>4</th>\n",
       "      <td>1950-01-05</td>\n",
       "      <td>3.418268</td>\n",
       "      <td>-2.306931</td>\n",
       "      <td>8.039191</td>\n",
       "      <td>0.000000</td>\n",
       "      <td>82.293310</td>\n",
       "      <td>NaN</td>\n",
       "      <td>34.781225</td>\n",
       "      <td>0.000074</td>\n",
       "      <td>18.109277</td>\n",
       "      <td>0.387228</td>\n",
       "      <td>0.254296</td>\n",
       "    </tr>\n",
       "    <tr>\n",
       "      <th>...</th>\n",
       "      <td>...</td>\n",
       "      <td>...</td>\n",
       "      <td>...</td>\n",
       "      <td>...</td>\n",
       "      <td>...</td>\n",
       "      <td>...</td>\n",
       "      <td>...</td>\n",
       "      <td>...</td>\n",
       "      <td>...</td>\n",
       "      <td>...</td>\n",
       "      <td>...</td>\n",
       "      <td>...</td>\n",
       "    </tr>\n",
       "    <tr>\n",
       "      <th>26293</th>\n",
       "      <td>2021-12-27</td>\n",
       "      <td>11.878844</td>\n",
       "      <td>11.022940</td>\n",
       "      <td>13.578539</td>\n",
       "      <td>0.001566</td>\n",
       "      <td>46.393478</td>\n",
       "      <td>NaN</td>\n",
       "      <td>11.992530</td>\n",
       "      <td>0.000000</td>\n",
       "      <td>26.511004</td>\n",
       "      <td>0.896269</td>\n",
       "      <td>0.440263</td>\n",
       "    </tr>\n",
       "    <tr>\n",
       "      <th>26294</th>\n",
       "      <td>2021-12-28</td>\n",
       "      <td>11.700072</td>\n",
       "      <td>9.712649</td>\n",
       "      <td>14.686258</td>\n",
       "      <td>0.137810</td>\n",
       "      <td>55.826778</td>\n",
       "      <td>NaN</td>\n",
       "      <td>10.597576</td>\n",
       "      <td>0.000000</td>\n",
       "      <td>26.402728</td>\n",
       "      <td>0.895887</td>\n",
       "      <td>0.556386</td>\n",
       "    </tr>\n",
       "    <tr>\n",
       "      <th>26295</th>\n",
       "      <td>2021-12-29</td>\n",
       "      <td>11.716027</td>\n",
       "      <td>8.695741</td>\n",
       "      <td>15.415807</td>\n",
       "      <td>0.492980</td>\n",
       "      <td>50.026909</td>\n",
       "      <td>NaN</td>\n",
       "      <td>10.273775</td>\n",
       "      <td>0.000000</td>\n",
       "      <td>26.272482</td>\n",
       "      <td>0.895481</td>\n",
       "      <td>0.696013</td>\n",
       "    </tr>\n",
       "    <tr>\n",
       "      <th>26296</th>\n",
       "      <td>2021-12-30</td>\n",
       "      <td>10.929093</td>\n",
       "      <td>5.808594</td>\n",
       "      <td>14.511323</td>\n",
       "      <td>0.000000</td>\n",
       "      <td>82.616691</td>\n",
       "      <td>NaN</td>\n",
       "      <td>9.769247</td>\n",
       "      <td>0.000000</td>\n",
       "      <td>26.119893</td>\n",
       "      <td>0.894965</td>\n",
       "      <td>0.707387</td>\n",
       "    </tr>\n",
       "    <tr>\n",
       "      <th>26297</th>\n",
       "      <td>2021-12-31</td>\n",
       "      <td>11.731936</td>\n",
       "      <td>6.972055</td>\n",
       "      <td>17.525987</td>\n",
       "      <td>0.000000</td>\n",
       "      <td>89.579490</td>\n",
       "      <td>NaN</td>\n",
       "      <td>9.315288</td>\n",
       "      <td>0.000000</td>\n",
       "      <td>25.914589</td>\n",
       "      <td>0.894197</td>\n",
       "      <td>0.782905</td>\n",
       "    </tr>\n",
       "  </tbody>\n",
       "</table>\n",
       "<p>26298 rows × 12 columns</p>\n",
       "</div>"
      ],
      "text/plain": [
       "             time       tavg       tmin       tmax      prec        rad  Qobs  \\\n",
       "0      1950-01-01   6.768371  -0.048717  10.936914  0.000000  96.392719   NaN   \n",
       "1      1950-01-02   5.484359  -0.643772  12.224272  0.000000  88.605993   NaN   \n",
       "2      1950-01-03   5.957487  -0.056383  14.182935  0.000000  54.076826   NaN   \n",
       "3      1950-01-04   7.434952  -0.202929  13.058127  0.000000  89.145640   NaN   \n",
       "4      1950-01-05   3.418268  -2.306931   8.039191  0.000000  82.293310   NaN   \n",
       "...           ...        ...        ...        ...       ...        ...   ...   \n",
       "26293  2021-12-27  11.878844  11.022940  13.578539  0.001566  46.393478   NaN   \n",
       "26294  2021-12-28  11.700072   9.712649  14.686258  0.137810  55.826778   NaN   \n",
       "26295  2021-12-29  11.716027   8.695741  15.415807  0.492980  50.026909   NaN   \n",
       "26296  2021-12-30  10.929093   5.808594  14.511323  0.000000  82.616691   NaN   \n",
       "26297  2021-12-31  11.731936   6.972055  17.525987  0.000000  89.579490   NaN   \n",
       "\n",
       "       QsimGlobal  snowpackGlobal  SWC005Global  SMGlobal  ETGlobal  \n",
       "0       20.969887        9.753825     12.965311  0.378235  0.209348  \n",
       "1       38.830873        1.921303     17.711939  0.386226  0.302967  \n",
       "2       36.536023        0.084519     18.465156  0.387818  0.335376  \n",
       "3       35.583011        0.004416     18.294063  0.387542  0.342736  \n",
       "4       34.781225        0.000074     18.109277  0.387228  0.254296  \n",
       "...           ...             ...           ...       ...       ...  \n",
       "26293   11.992530        0.000000     26.511004  0.896269  0.440263  \n",
       "26294   10.597576        0.000000     26.402728  0.895887  0.556386  \n",
       "26295   10.273775        0.000000     26.272482  0.895481  0.696013  \n",
       "26296    9.769247        0.000000     26.119893  0.894965  0.707387  \n",
       "26297    9.315288        0.000000     25.914589  0.894197  0.782905  \n",
       "\n",
       "[26298 rows x 12 columns]"
      ]
     },
     "execution_count": 13,
     "metadata": {},
     "output_type": "execute_result"
    }
   ],
   "source": [
    "#df = pd.read_csv(path + \"/\" + str(basin_id) + \".csv\", index_col=None, header=0)\n",
    "\n",
    "df = pd.read_csv(path + \"/\" + str(6112080) + \".csv\", index_col=None, header=0)\n",
    "#low_alt_df[basin_id] = df\n",
    "df"
   ]
  },
  {
   "cell_type": "code",
   "execution_count": 16,
   "id": "424dc330-00e0-45bf-9781-ded25df70a8c",
   "metadata": {},
   "outputs": [
    {
     "data": {
      "text/html": [
       "<div>\n",
       "<style scoped>\n",
       "    .dataframe tbody tr th:only-of-type {\n",
       "        vertical-align: middle;\n",
       "    }\n",
       "\n",
       "    .dataframe tbody tr th {\n",
       "        vertical-align: top;\n",
       "    }\n",
       "\n",
       "    .dataframe thead th {\n",
       "        text-align: right;\n",
       "    }\n",
       "</style>\n",
       "<table border=\"1\" class=\"dataframe\">\n",
       "  <thead>\n",
       "    <tr style=\"text-align: right;\">\n",
       "      <th></th>\n",
       "      <th>time</th>\n",
       "    </tr>\n",
       "  </thead>\n",
       "  <tbody>\n",
       "    <tr>\n",
       "      <th>0</th>\n",
       "      <td>1950-01-01</td>\n",
       "    </tr>\n",
       "    <tr>\n",
       "      <th>1</th>\n",
       "      <td>1950-01-02</td>\n",
       "    </tr>\n",
       "    <tr>\n",
       "      <th>2</th>\n",
       "      <td>1950-01-03</td>\n",
       "    </tr>\n",
       "    <tr>\n",
       "      <th>3</th>\n",
       "      <td>1950-01-04</td>\n",
       "    </tr>\n",
       "    <tr>\n",
       "      <th>4</th>\n",
       "      <td>1950-01-05</td>\n",
       "    </tr>\n",
       "    <tr>\n",
       "      <th>...</th>\n",
       "      <td>...</td>\n",
       "    </tr>\n",
       "    <tr>\n",
       "      <th>26293</th>\n",
       "      <td>2021-12-27</td>\n",
       "    </tr>\n",
       "    <tr>\n",
       "      <th>26294</th>\n",
       "      <td>2021-12-28</td>\n",
       "    </tr>\n",
       "    <tr>\n",
       "      <th>26295</th>\n",
       "      <td>2021-12-29</td>\n",
       "    </tr>\n",
       "    <tr>\n",
       "      <th>26296</th>\n",
       "      <td>2021-12-30</td>\n",
       "    </tr>\n",
       "    <tr>\n",
       "      <th>26297</th>\n",
       "      <td>2021-12-31</td>\n",
       "    </tr>\n",
       "  </tbody>\n",
       "</table>\n",
       "<p>26298 rows × 1 columns</p>\n",
       "</div>"
      ],
      "text/plain": [
       "             time\n",
       "0      1950-01-01\n",
       "1      1950-01-02\n",
       "2      1950-01-03\n",
       "3      1950-01-04\n",
       "4      1950-01-05\n",
       "...           ...\n",
       "26293  2021-12-27\n",
       "26294  2021-12-28\n",
       "26295  2021-12-29\n",
       "26296  2021-12-30\n",
       "26297  2021-12-31\n",
       "\n",
       "[26298 rows x 1 columns]"
      ]
     },
     "execution_count": 16,
     "metadata": {},
     "output_type": "execute_result"
    }
   ],
   "source": [
    "#df_basin = df[['tg', 'rr', 'runoff_mean']].dropna()\n",
    "df_basin = df[['time']].dropna()\n",
    "df_basin"
   ]
  },
  {
   "cell_type": "code",
   "execution_count": 64,
   "id": "435bd64d-295b-4922-9f94-63da1c29987d",
   "metadata": {},
   "outputs": [
    {
     "data": {
      "text/plain": [
       "[0.3, 0.4, 0.5]"
      ]
     },
     "execution_count": 64,
     "metadata": {},
     "output_type": "execute_result"
    }
   ],
   "source": [
    "min_coeff = 0.3\n",
    "max_coeff = 0.5\n",
    "step_size = 0.1\n",
    "coupling_coeffs = list(np.arange(min_coeff, max_coeff+0.1, step_size))\n",
    "coupling_coeffs"
   ]
  },
  {
   "cell_type": "code",
   "execution_count": 73,
   "id": "4771ba6a-a1ec-4c8f-a05b-ad171ac51968",
   "metadata": {},
   "outputs": [
    {
     "data": {
      "text/plain": [
       "array([[-0.93537859, -0.57657414, -0.52684983,  0.38709515, -0.16462981],\n",
       "       [-2.40912317,  0.47779578,  1.14948932, -0.26876616,  1.07507679],\n",
       "       [-0.13422922, -0.88496028,  2.01981278, -0.89131322, -0.4076052 ],\n",
       "       [-0.91265321,  0.50993625,  0.04642046,  0.6685003 , -0.31349298],\n",
       "       [-0.02632237,  0.66558864, -0.71845961, -0.17035808,  0.4400454 ],\n",
       "       [ 0.32681445, -0.90118944,  0.55573771, -0.31221105, -2.05218802],\n",
       "       [-0.80640046,  0.23970856,  0.79286103, -0.03040395,  1.14574844],\n",
       "       [ 0.67438215, -0.91236252,  1.24531766, -1.9379732 ,  0.61625962],\n",
       "       [ 2.07127954, -0.61609428, -2.11831422, -1.21858132,  0.63249099],\n",
       "       [ 1.88395901, -0.03635265,  0.67865961,  0.94019161, -0.18227771]])"
      ]
     },
     "execution_count": 73,
     "metadata": {},
     "output_type": "execute_result"
    }
   ],
   "source": [
    "nn =10\n",
    "nsim = 5\n",
    "noise = np.random.randn(nn, nsim)\n",
    "noise#.shape"
   ]
  },
  {
   "cell_type": "code",
   "execution_count": 74,
   "id": "a6220667-932c-4793-9af4-ea0f8bccfc65",
   "metadata": {},
   "outputs": [],
   "source": [
    "R_mat = np.ones((5,10))\n",
    "test_stat_sim = np.abs(R_mat @ noise)"
   ]
  },
  {
   "cell_type": "code",
   "execution_count": 82,
   "id": "033b2874-5d51-4cdc-8225-811a904784ae",
   "metadata": {},
   "outputs": [],
   "source": [
    "anyconfigurations = []\n",
    "for model in ['random_lineargaussian']:#, 'random_linearmixed']:  \n",
    "\n",
    "  for N in [5]:#[2, 3, 5, 10, 20]:\n",
    "    if N == 2:\n",
    "        n_links = 1\n",
    "    else:\n",
    "        if 'fixeddensity' in model:\n",
    "            n_links = max(N, int(0.2*N*(N-1.)/2.)) \n",
    "        elif 'highdegree' in model:\n",
    "            n_links = int(1.5*N)   \n",
    "        else:\n",
    "            n_links = N\n",
    "\n",
    "    for coeff in [0.5]:\n",
    "        for auto in [0.3]:#[0., 0.2, 0.4, 0.5, 0.9, 0.95, 0.98, 0.99, 0.999]:  \n",
    "            for contemp_fraction in [0.0]: \n",
    "                for tau_max in [5]:#[1, 5, 10, 15, 20, 25]:\n",
    "                    for T in [100]:\n",
    "                        for ci_test in ['par_corr']: # ['oracle']\n",
    "                            method_list = ['pcmci_full_simple']#,'pcmci_full_bonferroni','pcmci_ext'] #'pcmci_full']\n",
    "                            for method in method_list: #, 'ground_truth' ]:\n",
    "                                for pc_alpha in [0.01]:#, 0.05]: #, 0.1]: \n",
    "                                    para_setup = (model, N, n_links, coeff, auto, contemp_fraction, tau_max, T, ci_test, method, pc_alpha)\n",
    "                                    name = '%s-'*len(para_setup) % para_setup\n",
    "                                    name = name[:-1]\n",
    "                                    anyconfigurations += [name]"
   ]
  },
  {
   "cell_type": "code",
   "execution_count": 86,
   "id": "18cc6330-3472-4000-9c6a-aaffc3a686da",
   "metadata": {},
   "outputs": [
    {
     "data": {
      "text/plain": [
       "['random_lineargaussian-5-5-0.5-0.3-0.0-5-100-par_corr-pcmci_full_simple-0.01']"
      ]
     },
     "execution_count": 86,
     "metadata": {},
     "output_type": "execute_result"
    }
   ],
   "source": [
    "anyconfigurations"
   ]
  },
  {
   "cell_type": "code",
   "execution_count": 88,
   "id": "a97389b2-839d-46d0-934b-69be8af9b0e7",
   "metadata": {},
   "outputs": [],
   "source": [
    "newli = anyconfigurations[0].split('-')"
   ]
  },
  {
   "cell_type": "code",
   "execution_count": 89,
   "id": "da41a12c-f5e0-45cd-ba95-b62052f07e79",
   "metadata": {},
   "outputs": [
    {
     "data": {
      "text/plain": [
       "['random_lineargaussian',\n",
       " '5',\n",
       " '5',\n",
       " '0.5',\n",
       " '0.3',\n",
       " '0.0',\n",
       " '5',\n",
       " '100',\n",
       " 'par_corr',\n",
       " 'pcmci_full_simple',\n",
       " '0.01']"
      ]
     },
     "execution_count": 89,
     "metadata": {},
     "output_type": "execute_result"
    }
   ],
   "source": [
    "newli"
   ]
  },
  {
   "cell_type": "code",
   "execution_count": 96,
   "id": "09ecacb3-ff5a-46d3-be8f-173999c2de7c",
   "metadata": {},
   "outputs": [
    {
     "name": "stdout",
     "output_type": "stream",
     "text": [
      "even\n"
     ]
    }
   ],
   "source": [
    "if 56.0%2.0:\n",
    "    print('odd')\n",
    "else:\n",
    "    print('even')"
   ]
  },
  {
   "cell_type": "code",
   "execution_count": 100,
   "id": "2ba014d5-a8c6-4699-b6bb-a7fc6a4aecdd",
   "metadata": {},
   "outputs": [
    {
     "data": {
      "text/plain": [
       "27"
      ]
     },
     "execution_count": 100,
     "metadata": {},
     "output_type": "execute_result"
    }
   ],
   "source": [
    "int(55/2)"
   ]
  },
  {
   "cell_type": "code",
   "execution_count": 99,
   "id": "be4951a5-b1a4-4eba-938f-2ca3f3d7076a",
   "metadata": {},
   "outputs": [
    {
     "data": {
      "text/plain": [
       "27.5"
      ]
     },
     "execution_count": 99,
     "metadata": {},
     "output_type": "execute_result"
    }
   ],
   "source": [
    "55/2"
   ]
  },
  {
   "cell_type": "code",
   "execution_count": null,
   "id": "59db0e89-2388-48ad-bc02-912cc3414d01",
   "metadata": {},
   "outputs": [],
   "source": []
  }
 ],
 "metadata": {
  "kernelspec": {
   "display_name": "Python 3 (ipykernel)",
   "language": "python",
   "name": "python3"
  },
  "language_info": {
   "codemirror_mode": {
    "name": "ipython",
    "version": 3
   },
   "file_extension": ".py",
   "mimetype": "text/x-python",
   "name": "python",
   "nbconvert_exporter": "python",
   "pygments_lexer": "ipython3",
   "version": "3.9.7"
  }
 },
 "nbformat": 4,
 "nbformat_minor": 5
}
