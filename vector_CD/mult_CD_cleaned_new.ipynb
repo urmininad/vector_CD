{
 "cells": [
  {
   "cell_type": "markdown",
   "id": "5a506f17-35cc-4db5-bcac-bba7738a8510",
   "metadata": {},
   "source": [
    "# Importing files doesn't work as easily.\n",
    "Idea: Add the vector_CD package to the python path.\n",
    "\n",
    "Then try Executing this notebook (not necessarily within the vector_CD package)."
   ]
  },
  {
   "cell_type": "code",
   "execution_count": 2,
   "id": "45663855-3c1d-42df-bff8-0df80185cdc5",
   "metadata": {
    "ExecuteTime": {
     "end_time": "2024-11-19T17:02:54.696841Z",
     "start_time": "2024-11-19T17:02:54.683199Z"
    },
    "tags": []
   },
   "outputs": [
    {
     "ename": "ModuleNotFoundError",
     "evalue": "No module named 'gen_data_vecCI_ext'",
     "output_type": "error",
     "traceback": [
      "\u001b[0;31m---------------------------------------------------------------------------\u001b[0m",
      "\u001b[0;31mModuleNotFoundError\u001b[0m                       Traceback (most recent call last)",
      "\u001b[0;32m/var/folders/41/0f2l4zg91hn3n6mvswgrw_6r0000gn/T/ipykernel_75027/592228211.py\u001b[0m in \u001b[0;36m<module>\u001b[0;34m\u001b[0m\n\u001b[1;32m      7\u001b[0m \u001b[0;31m# from vector_CD.data_generation import *\u001b[0m\u001b[0;34m\u001b[0m\u001b[0;34m\u001b[0m\u001b[0m\n\u001b[1;32m      8\u001b[0m \u001b[0;31m# import gen_data_vecCI_ext as mod1\u001b[0m\u001b[0;34m\u001b[0m\u001b[0;34m\u001b[0m\u001b[0m\n\u001b[0;32m----> 9\u001b[0;31m \u001b[0;32mimport\u001b[0m \u001b[0mdata_generation\u001b[0m\u001b[0;34m.\u001b[0m\u001b[0mmult_data_gen_methods\u001b[0m \u001b[0;32mas\u001b[0m \u001b[0mmech\u001b[0m\u001b[0;34m\u001b[0m\u001b[0;34m\u001b[0m\u001b[0m\n\u001b[0m\u001b[1;32m     10\u001b[0m \u001b[0;32mimport\u001b[0m \u001b[0mCD_methods\u001b[0m\u001b[0;34m.\u001b[0m\u001b[0mvec_CD_methods\u001b[0m \u001b[0;32mas\u001b[0m \u001b[0mcd\u001b[0m\u001b[0;34m\u001b[0m\u001b[0;34m\u001b[0m\u001b[0m\n\u001b[1;32m     11\u001b[0m \u001b[0;32mimport\u001b[0m \u001b[0mmetrics_vec_CD\u001b[0m \u001b[0;32mas\u001b[0m \u001b[0mmet\u001b[0m\u001b[0;34m\u001b[0m\u001b[0;34m\u001b[0m\u001b[0m\n",
      "\u001b[0;32m~/Documents/Python/vector_CD/vector_CD/data_generation/mult_data_gen_methods.py\u001b[0m in \u001b[0;36m<module>\u001b[0;34m\u001b[0m\n\u001b[1;32m      2\u001b[0m \u001b[0;32mimport\u001b[0m \u001b[0mnumpy\u001b[0m \u001b[0;32mas\u001b[0m \u001b[0mnp\u001b[0m\u001b[0;34m\u001b[0m\u001b[0;34m\u001b[0m\u001b[0m\n\u001b[1;32m      3\u001b[0m \u001b[0;32mimport\u001b[0m \u001b[0mscipy\u001b[0m\u001b[0;34m\u001b[0m\u001b[0;34m\u001b[0m\u001b[0m\n\u001b[0;32m----> 4\u001b[0;31m \u001b[0;32mimport\u001b[0m \u001b[0mgen_data_vecCI_ext\u001b[0m \u001b[0;32mas\u001b[0m \u001b[0mmod1\u001b[0m\u001b[0;34m\u001b[0m\u001b[0;34m\u001b[0m\u001b[0m\n\u001b[0m\u001b[1;32m      5\u001b[0m \u001b[0;31m# import vector_CD.data_generation.gen_data_vecCI_ext as mod1\u001b[0m\u001b[0;34m\u001b[0m\u001b[0;34m\u001b[0m\u001b[0m\n\u001b[1;32m      6\u001b[0m \u001b[0;32mimport\u001b[0m \u001b[0mutils\u001b[0m\u001b[0;34m\u001b[0m\u001b[0;34m\u001b[0m\u001b[0m\n",
      "\u001b[0;31mModuleNotFoundError\u001b[0m: No module named 'gen_data_vecCI_ext'"
     ]
    }
   ],
   "source": [
    "import numpy as np\n",
    "import math\n",
    "import os, time, sys\n",
    "from matplotlib import pyplot as plt\n",
    "\n",
    "#### Local Files\n",
    "# from vector_CD.data_generation import *\n",
    "# import gen_data_vecCI_ext as mod1\n",
    "import data_generation.mult_data_gen_methods as mech\n",
    "import CD_methods.vec_CD_methods as cd\n",
    "import metrics_vec_CD as met\n",
    "######\n",
    "\n",
    "import tigramite\n",
    "import tigramite.data_processing as pp\n",
    "from tigramite import plotting as tp\n",
    "from tigramite.pcmci import PCMCI\n",
    "from tigramite.independence_tests.parcorr import ParCorr\n",
    "\n",
    "def lin_f(x): return x"
   ]
  },
  {
   "cell_type": "code",
   "execution_count": 6,
   "id": "11ece696-ed26-4043-bf75-3c254bd65d64",
   "metadata": {},
   "outputs": [],
   "source": [
    "def calculate(para_setup):\n",
    "    \n",
    "    para_setup_string, sam = para_setup\n",
    "    paras = para_setup_string.split('-')\n",
    "    paras = [w.replace(\"'\",\"\") for w in paras]\n",
    "    \n",
    "    data_gen = str(paras[0])\n",
    "    d_macro = int(paras[1])\n",
    "    d_micro = int(paras[2])\n",
    "    T = int(paras[3])\n",
    "    coeff = float(paras[4])\n",
    "    auto = float(paras[5])\n",
    "    contemp_frac = float(paras[6])\n",
    "    pc_alpha = float(paras[7])\n",
    "    tau_max = int(paras[8])\n",
    "    method = str(paras[9])\n",
    "    corr_type = str(paras[10])\n",
    "    reg_type = str(paras[11])\n",
    "    \n",
    "    if len(paras)>12:\n",
    "        internal_ER = float(paras[12]) #ER: erdos-renyi probability\n",
    "        external_ER = float(paras[13])\n",
    "    else:\n",
    "        internal_ER = None\n",
    "        external_ER = None\n",
    "    \n",
    "    # print(data_gen, d_macro, d_micro, T, coeff, auto, contemp_frac, pc_alpha, tau_max, method, corr_type, reg_type)\n",
    "    # print(\"METHOD\", method)\n",
    "    \n",
    "    #############################################\n",
    "    ##  Data Generation \n",
    "    #############################################    \n",
    "    \n",
    "    if 'coarse_dag' in data_gen:\n",
    "        data, true_graph = mech.data_coarse_dag(data_gen,sam,d_macro,d_micro,coeff,auto,tau_max,contemp_frac,T,\n",
    "                                          internal_ER = internal_ER,\n",
    "                                          external_ER = external_ER)\n",
    "    elif 'cbm' in data_gen:\n",
    "        data, true_graph = mech.data_mrf(d_macro,d_micro, sam, T)  \n",
    "        \n",
    "    elif 'mrf_ts' in data_gen:\n",
    "        data, true_graph = mech.data_mrf_ts(data_gen,sam,d_macro,d_micro,coeff,auto,tau_max,contemp_frac,T,\n",
    "                                          internal_er = internal_ER,\n",
    "                                          external_er = external_ER)    \n",
    "    elif 'savar' in data_gen:\n",
    "        data, true_graph = mech.data_savar(d_macro,d_micro, sam, T, coeff, auto, contemp_frac, tau_max)\n",
    "        \n",
    "    #############################################\n",
    "    ##  Cond ind test\n",
    "    #############################################\n",
    "    if 'vec' in method:\n",
    "        print(\"vector PCMCI running......\")\n",
    "        cond_ind_test = cd.get_cmi(reg_type, corr_type)\n",
    "        \n",
    "    elif 'avg' in method or 'vanilla' in method:\n",
    "        print(\"avg or vanilla PCMCI running......\")\n",
    "        cond_ind_test = ParCorr(\n",
    "        significance='analytic', \n",
    "        recycle_residuals=True)\n",
    "        \n",
    "    elif 'pca_pcmci' in method:\n",
    "        print(\"Principal component PCMCI running......\")\n",
    "        if method == 'pca_pcmci':\n",
    "            p_comps = 1\n",
    "            cond_ind_test = ParCorr(\n",
    "            significance='analytic', \n",
    "            recycle_residuals=True)\n",
    "        else:\n",
    "            p_comps  = int(method.replace('pca_pcmci_',''))\n",
    "            if p_comps==1:\n",
    "                cond_ind_test = ParCorr(\n",
    "                significance='analytic', \n",
    "                recycle_residuals=True)\n",
    "            elif p_comps > d_micro:\n",
    "                raise ValueError(\"principal components can't be larger than d_micro\")\n",
    "            else:\n",
    "                cond_ind_test = cd.get_cmi(reg_type, corr_type)\n",
    "    \n",
    "    #############################################\n",
    "    ##  Vec-CD Methods\n",
    "    #############################################\n",
    "    computation_time_start = time.time()\n",
    "\n",
    "    if 'vec_pcmci' in method:\n",
    "        graph = cd.vec_pcmci(data, d_macro, d_micro, cond_ind_test, tau_max, pc_alpha)\n",
    "    elif 'avg_pcmci' in method:\n",
    "        graph = cd.avg_pcmci(data, d_macro, d_micro, cond_ind_test, tau_max, pc_alpha)\n",
    "    elif 'pca_pcmci' in method:\n",
    "        graph = cd.pca_pcmci(data, d_macro, d_micro, p_comps, cond_ind_test, tau_max, pc_alpha)\n",
    "    elif 'vanilla_pcmci' in method:\n",
    "        graph = cd.vanilla_pcmci(data, d_macro, d_micro, cond_ind_test, tau_max, pc_alpha)\n",
    "        \n",
    "    computation_time_end = time.time()\n",
    "    computation_time = computation_time_end - computation_time_start\n",
    "        \n",
    "    tp.plot_graph(\n",
    "    graph=true_graph,\n",
    "    link_colorbar_label='cross-MCI',\n",
    "    node_colorbar_label='auto-MCI',\n",
    "    show_autodependency_lags=False\n",
    "    ); plt.show()\n",
    "    \n",
    "    # print('Graph',graph)\n",
    "    tp.plot_graph(\n",
    "    graph=graph,\n",
    "    link_colorbar_label='cross-MCI',\n",
    "    node_colorbar_label='auto-MCI',\n",
    "    show_autodependency_lags=False\n",
    "    ); plt.show()\n",
    "        \n",
    "    return {\n",
    "            'true_graph':true_graph,\n",
    "            'graph':graph,\n",
    "            'computation_time': computation_time,\n",
    "            }  "
   ]
  },
  {
   "cell_type": "code",
   "execution_count": null,
   "id": "88faf9a6-0487-407d-bd52-78aac80b37d0",
   "metadata": {},
   "outputs": [],
   "source": []
  },
  {
   "cell_type": "code",
   "execution_count": 7,
   "id": "9e7e3749-2732-4d1d-a9da-97ffad54a29c",
   "metadata": {},
   "outputs": [],
   "source": [
    "def compute_reps(config_list, samples):\n",
    "    all_configs = dict([(conf, {\n",
    "        'results':{}, \n",
    "        \"graphs\":{}, \n",
    "        \"true_graph\":{}, \n",
    "        \"computation_time\":{},} ) for conf in config_list])\n",
    "    job_list = [(conf, i) for i in range(samples) for conf in config_list]\n",
    "    config_chunks = [job_list]\n",
    "\n",
    "    def process_chunks(job_id, chunk):\n",
    "        results = {}\n",
    "        num_here = len(chunk)\n",
    "        time_start_process = time.time()\n",
    "        for isam, config_sam in enumerate(chunk):\n",
    "            print(config_sam,'\\n------------\\n')\n",
    "            results[config_sam] = calculate(config_sam)\n",
    "        return results\n",
    "\n",
    "    for job_id, chunk in enumerate(config_chunks):\n",
    "        tmp = process_chunks(job_id, chunk)\n",
    "        for conf_sam in list(tmp.keys()):\n",
    "            config = conf_sam[0]\n",
    "            sample = conf_sam[1]\n",
    "            all_configs[config]['results'][sample] = tmp[conf_sam]\n",
    "        \n",
    "    return all_configs"
   ]
  },
  {
   "cell_type": "code",
   "execution_count": null,
   "id": "50a1af06-6e95-488a-859c-7ce1afccc6a4",
   "metadata": {},
   "outputs": [],
   "source": []
  },
  {
   "cell_type": "code",
   "execution_count": 8,
   "id": "2fdb9bab-20bc-4308-83d9-a50d59fd58a7",
   "metadata": {},
   "outputs": [],
   "source": [
    "ER = True # ER indicates that the internal and extetnal densities are given in terms of ER probabilities\n",
    "if ER: \n",
    "    anyconfigurations = [] \n",
    "    for data_gen in ['mrf_ts']:#, 'coarse_dag','mrf_ts','mrf','savar']:    \n",
    "        for d_macro in [3]:\n",
    "            for d_micro in [5]:   \n",
    "                for coeff in [0.5]:\n",
    "                    for auto in [0.3]:\n",
    "                        for contemp_frac in [1.]:\n",
    "                            for T in [200]:\n",
    "                                method_list = ['pca_pcmci_2']\n",
    "                                #['vec_pcmci','avg_pcmci','pca-pcmci','vanilla_pcmci']\n",
    "                                for method in method_list: \n",
    "                                    for corr_type in ['gcm_gmb']:# ['maxcorr, gcm, linear_hsic']:\n",
    "                                        for reg_type in ['ols']: #['ridge','pls']:\n",
    "                                            for pc_alpha in [0.01]:\n",
    "                                                for tau_max in [0]:\n",
    "                                                    for internal_ER in [0.3]:\n",
    "                                                        for external_ER in [0.5]:\n",
    "                                                            para_setup = (data_gen, d_macro, d_micro, T, coeff, auto, contemp_frac, pc_alpha, tau_max, method, corr_type, reg_type, internal_ER, external_ER)\n",
    "                                                            name = '%s-'*len(para_setup) % para_setup\n",
    "                                                            name = name[:-1]\n",
    "                                                            anyconfigurations += [name]\n",
    "\n",
    "    config_list = anyconfigurations"
   ]
  },
  {
   "cell_type": "code",
   "execution_count": 9,
   "id": "7ab9016b-be3b-4706-ba97-91853d6b80bc",
   "metadata": {},
   "outputs": [
    {
     "data": {
      "text/plain": [
       "['mrf_ts-3-5-200-0.5-0.3-1.0-0.01-0-pca_pcmci_2-gcm_gmb-ols-0.3-0.5']"
      ]
     },
     "execution_count": 9,
     "metadata": {},
     "output_type": "execute_result"
    }
   ],
   "source": [
    "config_list"
   ]
  },
  {
   "cell_type": "code",
   "execution_count": 10,
   "id": "7264c6bb-0acf-467e-94e4-eeba7ff51e81",
   "metadata": {},
   "outputs": [
    {
     "name": "stdout",
     "output_type": "stream",
     "text": [
      "('mrf_ts-3-5-200-0.5-0.3-1.0-0.01-0-pca_pcmci_2-gcm_gmb-ols-0.3-0.5', 0) \n",
      "------------\n",
      "\n",
      "Principal component PCMCI running......\n"
     ]
    },
    {
     "data": {
      "image/png": "[encoded data removed]",
      "text/plain": [
       "<Figure size 432x288 with 1 Axes>"
      ]
     },
     "metadata": {},
     "output_type": "display_data"
    },
    {
     "data": {
      "image/png": "[encoded data removed]",
      "text/plain": [
       "<Figure size 432x288 with 1 Axes>"
      ]
     },
     "metadata": {},
     "output_type": "display_data"
    },
    {
     "name": "stdout",
     "output_type": "stream",
     "text": [
      "('mrf_ts-3-5-200-0.5-0.3-1.0-0.01-0-pca_pcmci_2-gcm_gmb-ols-0.3-0.5', 1) \n",
      "------------\n",
      "\n",
      "Principal component PCMCI running......\n"
     ]
    },
    {
     "data": {
      "image/png": "[encoded data removed]",
      "text/plain": [
       "<Figure size 432x288 with 1 Axes>"
      ]
     },
     "metadata": {},
     "output_type": "display_data"
    },
    {
     "data": {
      "image/png": "[encoded data removed]",
      "text/plain": [
       "<Figure size 432x288 with 1 Axes>"
      ]
     },
     "metadata": {},
     "output_type": "display_data"
    }
   ],
   "source": [
    "samples = 2 #not sample size, but number of repetitions\n",
    "all_configs = compute_reps(config_list, samples)"
   ]
  },
  {
   "cell_type": "code",
   "execution_count": null,
   "id": "7054777d-d4dd-4ab7-a6ec-aee99bcf1cab",
   "metadata": {},
   "outputs": [],
   "source": []
  }
 ],
 "metadata": {
  "kernelspec": {
   "display_name": "Python 3 (ipykernel)",
   "language": "python",
   "name": "python3"
  },
  "language_info": {
   "codemirror_mode": {
    "name": "ipython",
    "version": 3
   },
   "file_extension": ".py",
   "mimetype": "text/x-python",
   "name": "python",
   "nbconvert_exporter": "python",
   "pygments_lexer": "ipython3",
   "version": "3.9.7"
  }
 },
 "nbformat": 4,
 "nbformat_minor": 5
}
